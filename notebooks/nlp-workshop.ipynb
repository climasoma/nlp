{
 "cells": [
  {
   "cell_type": "markdown",
   "id": "d6a4507c-baff-4493-bb6a-5566b9c2d8a1",
   "metadata": {},
   "source": [
    "# Natural Language Processing\n",
    "\n",
    "In this workshop, we will:\n",
    "- use of **regular expression** to extract information from text\n",
    "- use advanced natural language processing"
   ]
  },
  {
   "cell_type": "markdown",
   "id": "ba6092e9-bb75-4495-a41f-af34409148c3",
   "metadata": {},
   "source": [
    "## Regular expressions\n",
    "\n",
    "Regular expressions (or regex) are widely used to extract specific pattern from text. Here are a few components of regular expressions:\n",
    "- `\\d`: a digit, similar to `[0-9]`\n",
    "- `\\s`: a whitespace\n",
    "- `[a-z]`: a list of character from lowercase 'a' to lowercase 'z'\n",
    "- `.`: any character\n",
    "- `\\.`: a period (you use the backslash to escape character with a special meaning in regex)\n",
    "- word and letters can simply be typed as it\n",
    "\n",
    "In addition, the following modifiers are available to indicate the occurence of the character or group of characters:\n",
    "- `?` matches 0 or 1 occurence, `disks?` will match `disk` and `disks`\n",
    "- `+` matches 1 or more occurences, `\\d+` will match `1`, `12`, and `123`\n",
    "- `{2, 5}` matches between 2 and 5 occurences\n",
    "- `*` matches as the maximum number of occurences found\n",
    "\n",
    "Groups and boolean operators:\n",
    "- `()` parenthesis are used to define a group to be extracted\n",
    "- `|` is the OR operator, to define if we match this pattern or another one.\n",
    "\n",
    "\n",
    "These are only a subset of components. More can be found in [this cheatsheet](https://www.dataquest.io/wp-content/uploads/2019/03/python-regular-expressions-cheat-sheet.pdf)."
   ]
  },
  {
   "cell_type": "code",
   "execution_count": 2,
   "id": "92fccbfb-cfed-4a1f-8927-66e9d0226988",
   "metadata": {},
   "outputs": [],
   "source": [
    "# import relevant package\n",
    "import re"
   ]
  },
  {
   "cell_type": "markdown",
   "id": "f59fd6fb-f8e4-4c9f-b863-70bdc9542c66",
   "metadata": {},
   "source": [
    "### Example\n",
    "Let's extract the annual rainfall from this sentence."
   ]
  },
  {
   "cell_type": "code",
   "execution_count": 12,
   "id": "7ee3e4f6-27f3-4acb-99eb-bea008c2684d",
   "metadata": {},
   "outputs": [
    {
     "data": {
      "text/plain": [
       "['800', '105']"
      ]
     },
     "execution_count": 12,
     "metadata": {},
     "output_type": "execute_result"
    }
   ],
   "source": [
    "# extract precipitation number\n",
    "text = 'Annual rainfall of 800 mm are expected in this region much higher than the 105 mm'\n",
    "re.findall('\\d+', text)"
   ]
  },
  {
   "cell_type": "markdown",
   "id": "92f5427e-ef74-4c0a-9978-e270b89ddc92",
   "metadata": {},
   "source": [
    "You can see that all sub string that match the regex are found (`re.findall()` will find all matches). However, if the annual precipitation number contains decimal, the regex will capture its decimal part separately."
   ]
  },
  {
   "cell_type": "code",
   "execution_count": 61,
   "id": "47b18fd5-0c4b-42e6-9b4b-ca19b87b28c3",
   "metadata": {},
   "outputs": [
    {
     "data": {
      "text/plain": [
       "['800', '105', '3']"
      ]
     },
     "execution_count": 61,
     "metadata": {},
     "output_type": "execute_result"
    }
   ],
   "source": [
    "text = 'Annual rainfall of 800 mm are expected in this region, much higher than 105.3 mm.'\n",
    "re.findall('\\d+', text)"
   ]
  },
  {
   "cell_type": "markdown",
   "id": "52b0fba0-34f5-49d9-83b2-54cc4777618e",
   "metadata": {},
   "source": [
    "Note that we want to match the period character ('.'), for this we need to escape it with a backslash as the period means 'any character' by default in regular expression."
   ]
  },
  {
   "cell_type": "code",
   "execution_count": 62,
   "id": "8443dbf1-b7f8-40c2-9bc4-801dad6ab5a7",
   "metadata": {},
   "outputs": [
    {
     "data": {
      "text/plain": [
       "['105.3']"
      ]
     },
     "execution_count": 62,
     "metadata": {},
     "output_type": "execute_result"
    }
   ],
   "source": [
    "text = 'Annual rainfall of 800 mm are expected in this region, much higher than 105.3 mm.'\n",
    "re.findall('\\d+\\.\\d+', text)"
   ]
  },
  {
   "cell_type": "markdown",
   "id": "b52800f8-b4a8-42b0-abca-46240c7716f0",
   "metadata": {},
   "source": [
    "This new expression matched the decimal format but not the integer format anymore. To enable matching both numbers, we will use the modifier `?` to test accept both with and without dot notation."
   ]
  },
  {
   "cell_type": "code",
   "execution_count": 63,
   "id": "3d5e8f03-1d44-4e35-becd-577fe03ae661",
   "metadata": {},
   "outputs": [
    {
     "data": {
      "text/plain": [
       "['800', '105.3']"
      ]
     },
     "execution_count": 63,
     "metadata": {},
     "output_type": "execute_result"
    }
   ],
   "source": [
    "text = 'Annual rainfall of 800 mm are expected in this region, much higher than 105.3 mm.'\n",
    "re.findall('\\d+\\.?\\d+?', text)"
   ]
  },
  {
   "cell_type": "markdown",
   "id": "fc2e2151-ff59-4577-a350-62894ecb2e48",
   "metadata": {},
   "source": [
    "A neater example would be to group the '.' and decimal part between *non-capturing parenthesis* (i.e. `(:?<your regex here>)`)."
   ]
  },
  {
   "cell_type": "code",
   "execution_count": 97,
   "id": "8d38509b-e376-4ecc-8091-6917900da2bd",
   "metadata": {},
   "outputs": [
    {
     "data": {
      "text/plain": [
       "['800', '105.3']"
      ]
     },
     "execution_count": 97,
     "metadata": {},
     "output_type": "execute_result"
    }
   ],
   "source": [
    "text = 'Annual rainfall of 800 mm are expected in this region, much higher than 105.3 mm.'\n",
    "re.findall('\\d+(?:\\.\\d+)?', text)"
   ]
  },
  {
   "cell_type": "markdown",
   "id": "734a7673-8f51-4638-938e-68d9d5c9100e",
   "metadata": {},
   "source": [
    "Now let's also match the units ('mm') expressed in the text. Note that the unit are separated by a space (`\\s` in regex)."
   ]
  },
  {
   "cell_type": "code",
   "execution_count": 64,
   "id": "93e4f42c-6980-469c-90df-8e2b1e244267",
   "metadata": {},
   "outputs": [
    {
     "data": {
      "text/plain": [
       "['800 mm', '105.3 mm']"
      ]
     },
     "execution_count": 64,
     "metadata": {},
     "output_type": "execute_result"
    }
   ],
   "source": [
    "text = 'Annual rainfall of 800 mm are expected in this region, much higher than 105.3 mm.'\n",
    "re.findall('\\d+\\.?\\d+?\\smm', text)"
   ]
  },
  {
   "cell_type": "markdown",
   "id": "db8132cb-a7ef-472a-a69d-20e3a59aab56",
   "metadata": {},
   "source": [
    "We've now extracted our number of interest and it's unit. However, they are still together. To extract them selectively, we can use capturing parenthesis `(<regex here>)`."
   ]
  },
  {
   "cell_type": "code",
   "execution_count": 65,
   "id": "6fd0d0c5-72a6-4b7a-bb12-01cea5116a2c",
   "metadata": {},
   "outputs": [
    {
     "data": {
      "text/plain": [
       "[('800', 'mm'), ('105.3', 'mm')]"
      ]
     },
     "execution_count": 65,
     "metadata": {},
     "output_type": "execute_result"
    }
   ],
   "source": [
    "text = 'Annual rainfall of 800 mm are expected in this region, much higher than 105.3 mm.'\n",
    "re.findall('(\\d+\\.?\\d+?)\\s(mm)', text)"
   ]
  },
  {
   "cell_type": "markdown",
   "id": "c07ac507-5e13-406c-abfe-4cff21396958",
   "metadata": {},
   "source": [
    "What is different unit are present like 'mm' and 'cm'? In this case, we will use brackets and the OR operator `|` to match both."
   ]
  },
  {
   "cell_type": "code",
   "execution_count": 66,
   "id": "4ff5bcfe-3100-4db0-a667-d378499b967e",
   "metadata": {},
   "outputs": [
    {
     "data": {
      "text/plain": [
       "[('800', 'mm'), ('15.3', 'cm')]"
      ]
     },
     "execution_count": 66,
     "metadata": {},
     "output_type": "execute_result"
    }
   ],
   "source": [
    "text = 'Annual rainfall of 800 mm are expected in this region, much higher than 15.3 cm.'\n",
    "re.findall('(\\d+\\.?\\d+?)\\s(mm|cm)', text)"
   ]
  },
  {
   "cell_type": "markdown",
   "id": "c5a7053b-5063-4c5c-b113-7635e9e93f1f",
   "metadata": {
    "tags": []
   },
   "source": [
    "### Exercice 1\n",
    "Extract all latitude and longitude from the following text. Use two regular expression, one for the latitude, one for the longitude."
   ]
  },
  {
   "cell_type": "code",
   "execution_count": 73,
   "id": "365bf835-b232-46e4-8761-f7a5c40b23db",
   "metadata": {},
   "outputs": [
    {
     "name": "stdout",
     "output_type": "stream",
     "text": [
      "latitude: [('35.61', 'N'), ('20.43', 'S')]\n",
      "longitude: [('8.74', 'E'), ('40.2', 'W')]\n"
     ]
    }
   ],
   "source": [
    "text = '''The site was located in Nuevo, Italy (35.61 N, 8.74 E), not for from the main research station.\n",
    "The soil type is a Haplic Luvisol with 16 % clay and 40 % silt. A similar experiment was carried out in South America\n",
    "site of Loca Pulco (20.43 S, 40.2 W). Local Pulco soil type is composed of Cambisols with 20 % clay and 35.2 % sand.'''\n",
    "print('latitude:', re.findall('(\\d+\\.?\\d+?)\\s(N|S)', text))\n",
    "print('longitude:', re.findall('(\\d+\\.?\\d+?)\\s(E|W)', text))"
   ]
  },
  {
   "cell_type": "markdown",
   "id": "2ac10f57-00fd-44a0-b15c-252d3b1a1155",
   "metadata": {
    "tags": []
   },
   "source": [
    "Extract all WRB soil types from the following text. An approach similar to the way we handle different units above can be used."
   ]
  },
  {
   "cell_type": "code",
   "execution_count": 75,
   "id": "c0c6ff27-0b04-4432-b3c0-f712e9a24499",
   "metadata": {},
   "outputs": [
    {
     "data": {
      "text/plain": [
       "['Luvisol', 'Cambisol', 'Cambisols']"
      ]
     },
     "execution_count": 75,
     "metadata": {},
     "output_type": "execute_result"
    }
   ],
   "source": [
    "text = '''The site was located in Nuevo, Italy (35.61 N, 8.74 W), not for from the main research station.\n",
    "The soil type is a Haplic Luvisol with 16 % clay and 40 % silt on most of the field with the Northern part being\n",
    "an Eutric Cambisol. A similar experiment was carried out in South America site of Loca Pulco\n",
    "(20.43 S, 40.2 W). Local Pulco soil type is composed of Cambisols with 20 % clay and 35.2 % sand.'''\n",
    "re.findall('(Luvisols?|Cambisols?)', text)"
   ]
  },
  {
   "cell_type": "markdown",
   "id": "772e3037-3965-41be-b952-29ac0d9aa7af",
   "metadata": {
    "tags": []
   },
   "source": [
    "Extract clay, silt and sand content from the following text in a unique regex."
   ]
  },
  {
   "cell_type": "code",
   "execution_count": 44,
   "id": "12a119c7-1dca-4ddd-9572-86e3daeb3c8b",
   "metadata": {},
   "outputs": [
    {
     "data": {
      "text/plain": [
       "[('16', 'clay'), ('40', 'silt'), ('20', 'clay'), ('35.2', 'sand')]"
      ]
     },
     "execution_count": 44,
     "metadata": {},
     "output_type": "execute_result"
    }
   ],
   "source": [
    "text = '''The site was located in Nuevo, Italy (35.61 N, 8.74 W), not for from the main research station.\n",
    "The soil type is a Haplic Luvisol with 16 % clay and 40 % silt. A similar experiment was carried out in South America\n",
    "site of Loca Pulco (20.43 S, 40.2 W). Local Pulco soil type is composed of Cambisols with 20 % clay and 35.2 % sand.'''\n",
    "re.findall('(\\d+\\.?\\d+?)\\s%\\s(clay|silt|sand)', text)"
   ]
  },
  {
   "cell_type": "markdown",
   "id": "61409fed-7797-4137-bd22-a460bfdaedaa",
   "metadata": {},
   "source": [
    "### Exercice 2\n",
    "Extract all instances of tension-disk diameter. You can use more then one regex if needed. Make your regex specific enough to not match the other numbers of the text."
   ]
  },
  {
   "cell_type": "code",
   "execution_count": 96,
   "id": "d5b583c0-8701-438b-881a-f1a78f8f13ed",
   "metadata": {},
   "outputs": [
    {
     "data": {
      "text/plain": [
       "[('7.5', 'cm', 'radius'), ('140', 'mm', 'diameter')]"
      ]
     },
     "execution_count": 96,
     "metadata": {},
     "output_type": "execute_result"
    }
   ],
   "source": [
    "text = '''We use a combination of three different tension-disk infiltrometers:\n",
    "the first one with 7.5 cm radius, the second one with 140 mm diameter and the last one has a disk of 5 cm diameter.\n",
    "The annual rainfall at the site was of 800 mm per year. \n",
    "A fine layer of 0.5 cm sand was applied before putting the instrument in contact with the soil.\n",
    "'''\n",
    "re.findall('(\\d+.?\\d+?)\\s(mm|cm)\\s(diameter|radius)', text)"
   ]
  },
  {
   "cell_type": "markdown",
   "id": "e0f7c579-e2ba-4e89-ac83-0bd17480fee3",
   "metadata": {},
   "source": [
    "## NLP with spacy\n",
    "SpaCy is a Python package designed for production NLP. It embeds several pre-trained rules-based (like regex or similar) and statistical language dependant models to extract the nature and functions of words. NLP process often infludes the following steps:"
   ]
  },
  {
   "cell_type": "code",
   "execution_count": 54,
   "id": "d2ea6273-9c1f-4fd5-88ec-13637943c840",
   "metadata": {},
   "outputs": [],
   "source": [
    "import spacy\n",
    "from spacy import displacy\n",
    "nlp = spacy.load(\"en_core_web_sm\")  # load language specific (en) pre-trained model\n",
    "import networkx as nx\n",
    "import matplotlib.pyplot as plt\n",
    "import numpy as np"
   ]
  },
  {
   "cell_type": "code",
   "execution_count": 55,
   "id": "f49c1124-de71-4d11-a979-a1cd472f2357",
   "metadata": {
    "iooxa": {
     "id": {
      "block": "5xb8lm7iIYa5xeFPoHIi",
      "project": "UQpQnbX8k8j6zcU3ZLtz",
      "version": 1
     },
     "outputId": {
      "block": "QFoFppqxbw7Sa44559tB",
      "project": "UQpQnbX8k8j6zcU3ZLtz",
      "version": 1
     }
    }
   },
   "outputs": [
    {
     "data": {
      "text/html": [
       "<span class=\"tex2jax_ignore\"><svg xmlns=\"http://www.w3.org/2000/svg\" xmlns:xlink=\"http://www.w3.org/1999/xlink\" xml:lang=\"en\" id=\"ab0be84edc65464b925df92127560014-0\" class=\"displacy\" width=\"860\" height=\"317.0\" direction=\"ltr\" style=\"max-width: none; height: 317.0px; color: #000000; background: #ffffff; font-family: Arial; direction: ltr\">\n",
       "<text class=\"displacy-token\" fill=\"currentColor\" text-anchor=\"middle\" y=\"227.0\">\n",
       "    <tspan class=\"displacy-word\" fill=\"currentColor\" x=\"50\">In</tspan>\n",
       "    <tspan class=\"displacy-tag\" dy=\"2em\" fill=\"currentColor\" x=\"50\">ADP</tspan>\n",
       "</text>\n",
       "\n",
       "<text class=\"displacy-token\" fill=\"currentColor\" text-anchor=\"middle\" y=\"227.0\">\n",
       "    <tspan class=\"displacy-word\" fill=\"currentColor\" x=\"140\">the</tspan>\n",
       "    <tspan class=\"displacy-tag\" dy=\"2em\" fill=\"currentColor\" x=\"140\">DET</tspan>\n",
       "</text>\n",
       "\n",
       "<text class=\"displacy-token\" fill=\"currentColor\" text-anchor=\"middle\" y=\"227.0\">\n",
       "    <tspan class=\"displacy-word\" fill=\"currentColor\" x=\"230\">short</tspan>\n",
       "    <tspan class=\"displacy-tag\" dy=\"2em\" fill=\"currentColor\" x=\"230\">ADJ</tspan>\n",
       "</text>\n",
       "\n",
       "<text class=\"displacy-token\" fill=\"currentColor\" text-anchor=\"middle\" y=\"227.0\">\n",
       "    <tspan class=\"displacy-word\" fill=\"currentColor\" x=\"320\">term,</tspan>\n",
       "    <tspan class=\"displacy-tag\" dy=\"2em\" fill=\"currentColor\" x=\"320\">NOUN</tspan>\n",
       "</text>\n",
       "\n",
       "<text class=\"displacy-token\" fill=\"currentColor\" text-anchor=\"middle\" y=\"227.0\">\n",
       "    <tspan class=\"displacy-word\" fill=\"currentColor\" x=\"410\">tillage</tspan>\n",
       "    <tspan class=\"displacy-tag\" dy=\"2em\" fill=\"currentColor\" x=\"410\">NOUN</tspan>\n",
       "</text>\n",
       "\n",
       "<text class=\"displacy-token\" fill=\"currentColor\" text-anchor=\"middle\" y=\"227.0\">\n",
       "    <tspan class=\"displacy-word\" fill=\"currentColor\" x=\"500\">operations</tspan>\n",
       "    <tspan class=\"displacy-tag\" dy=\"2em\" fill=\"currentColor\" x=\"500\">NOUN</tspan>\n",
       "</text>\n",
       "\n",
       "<text class=\"displacy-token\" fill=\"currentColor\" text-anchor=\"middle\" y=\"227.0\">\n",
       "    <tspan class=\"displacy-word\" fill=\"currentColor\" x=\"590\">significantly</tspan>\n",
       "    <tspan class=\"displacy-tag\" dy=\"2em\" fill=\"currentColor\" x=\"590\">ADV</tspan>\n",
       "</text>\n",
       "\n",
       "<text class=\"displacy-token\" fill=\"currentColor\" text-anchor=\"middle\" y=\"227.0\">\n",
       "    <tspan class=\"displacy-word\" fill=\"currentColor\" x=\"680\">increased</tspan>\n",
       "    <tspan class=\"displacy-tag\" dy=\"2em\" fill=\"currentColor\" x=\"680\">VERB</tspan>\n",
       "</text>\n",
       "\n",
       "<text class=\"displacy-token\" fill=\"currentColor\" text-anchor=\"middle\" y=\"227.0\">\n",
       "    <tspan class=\"displacy-word\" fill=\"currentColor\" x=\"770\">K</tspan>\n",
       "    <tspan class=\"displacy-tag\" dy=\"2em\" fill=\"currentColor\" x=\"770\">PROPN</tspan>\n",
       "</text>\n",
       "\n",
       "<g class=\"displacy-arrow\">\n",
       "    <path class=\"displacy-arc\" id=\"arrow-ab0be84edc65464b925df92127560014-0-0\" stroke-width=\"2px\" d=\"M62,182.0 62,122.0 680.0,122.0 680.0,182.0\" fill=\"none\" stroke=\"currentColor\"/>\n",
       "    <text dy=\"1.25em\" style=\"font-size: 0.8em; letter-spacing: 1px\">\n",
       "        <textPath xlink:href=\"#arrow-ab0be84edc65464b925df92127560014-0-0\" class=\"displacy-label\" startOffset=\"50%\" side=\"left\" fill=\"currentColor\" text-anchor=\"middle\">prep</textPath>\n",
       "    </text>\n",
       "    <path class=\"displacy-arrowhead\" d=\"M62,184.0 L58,176.0 66,176.0\" fill=\"currentColor\"/>\n",
       "</g>\n",
       "\n",
       "<g class=\"displacy-arrow\">\n",
       "    <path class=\"displacy-arc\" id=\"arrow-ab0be84edc65464b925df92127560014-0-1\" stroke-width=\"2px\" d=\"M152,182.0 152,152.0 314.0,152.0 314.0,182.0\" fill=\"none\" stroke=\"currentColor\"/>\n",
       "    <text dy=\"1.25em\" style=\"font-size: 0.8em; letter-spacing: 1px\">\n",
       "        <textPath xlink:href=\"#arrow-ab0be84edc65464b925df92127560014-0-1\" class=\"displacy-label\" startOffset=\"50%\" side=\"left\" fill=\"currentColor\" text-anchor=\"middle\">det</textPath>\n",
       "    </text>\n",
       "    <path class=\"displacy-arrowhead\" d=\"M152,184.0 L148,176.0 156,176.0\" fill=\"currentColor\"/>\n",
       "</g>\n",
       "\n",
       "<g class=\"displacy-arrow\">\n",
       "    <path class=\"displacy-arc\" id=\"arrow-ab0be84edc65464b925df92127560014-0-2\" stroke-width=\"2px\" d=\"M242,182.0 242,167.0 311.0,167.0 311.0,182.0\" fill=\"none\" stroke=\"currentColor\"/>\n",
       "    <text dy=\"1.25em\" style=\"font-size: 0.8em; letter-spacing: 1px\">\n",
       "        <textPath xlink:href=\"#arrow-ab0be84edc65464b925df92127560014-0-2\" class=\"displacy-label\" startOffset=\"50%\" side=\"left\" fill=\"currentColor\" text-anchor=\"middle\">amod</textPath>\n",
       "    </text>\n",
       "    <path class=\"displacy-arrowhead\" d=\"M242,184.0 L238,176.0 246,176.0\" fill=\"currentColor\"/>\n",
       "</g>\n",
       "\n",
       "<g class=\"displacy-arrow\">\n",
       "    <path class=\"displacy-arc\" id=\"arrow-ab0be84edc65464b925df92127560014-0-3\" stroke-width=\"2px\" d=\"M62,182.0 62,137.0 317.0,137.0 317.0,182.0\" fill=\"none\" stroke=\"currentColor\"/>\n",
       "    <text dy=\"1.25em\" style=\"font-size: 0.8em; letter-spacing: 1px\">\n",
       "        <textPath xlink:href=\"#arrow-ab0be84edc65464b925df92127560014-0-3\" class=\"displacy-label\" startOffset=\"50%\" side=\"left\" fill=\"currentColor\" text-anchor=\"middle\">pobj</textPath>\n",
       "    </text>\n",
       "    <path class=\"displacy-arrowhead\" d=\"M317.0,184.0 L321.0,176.0 313.0,176.0\" fill=\"currentColor\"/>\n",
       "</g>\n",
       "\n",
       "<g class=\"displacy-arrow\">\n",
       "    <path class=\"displacy-arc\" id=\"arrow-ab0be84edc65464b925df92127560014-0-4\" stroke-width=\"2px\" d=\"M422,182.0 422,167.0 491.0,167.0 491.0,182.0\" fill=\"none\" stroke=\"currentColor\"/>\n",
       "    <text dy=\"1.25em\" style=\"font-size: 0.8em; letter-spacing: 1px\">\n",
       "        <textPath xlink:href=\"#arrow-ab0be84edc65464b925df92127560014-0-4\" class=\"displacy-label\" startOffset=\"50%\" side=\"left\" fill=\"currentColor\" text-anchor=\"middle\">compound</textPath>\n",
       "    </text>\n",
       "    <path class=\"displacy-arrowhead\" d=\"M422,184.0 L418,176.0 426,176.0\" fill=\"currentColor\"/>\n",
       "</g>\n",
       "\n",
       "<g class=\"displacy-arrow\">\n",
       "    <path class=\"displacy-arc\" id=\"arrow-ab0be84edc65464b925df92127560014-0-5\" stroke-width=\"2px\" d=\"M512,182.0 512,152.0 674.0,152.0 674.0,182.0\" fill=\"none\" stroke=\"currentColor\"/>\n",
       "    <text dy=\"1.25em\" style=\"font-size: 0.8em; letter-spacing: 1px\">\n",
       "        <textPath xlink:href=\"#arrow-ab0be84edc65464b925df92127560014-0-5\" class=\"displacy-label\" startOffset=\"50%\" side=\"left\" fill=\"currentColor\" text-anchor=\"middle\">nsubj</textPath>\n",
       "    </text>\n",
       "    <path class=\"displacy-arrowhead\" d=\"M512,184.0 L508,176.0 516,176.0\" fill=\"currentColor\"/>\n",
       "</g>\n",
       "\n",
       "<g class=\"displacy-arrow\">\n",
       "    <path class=\"displacy-arc\" id=\"arrow-ab0be84edc65464b925df92127560014-0-6\" stroke-width=\"2px\" d=\"M602,182.0 602,167.0 671.0,167.0 671.0,182.0\" fill=\"none\" stroke=\"currentColor\"/>\n",
       "    <text dy=\"1.25em\" style=\"font-size: 0.8em; letter-spacing: 1px\">\n",
       "        <textPath xlink:href=\"#arrow-ab0be84edc65464b925df92127560014-0-6\" class=\"displacy-label\" startOffset=\"50%\" side=\"left\" fill=\"currentColor\" text-anchor=\"middle\">advmod</textPath>\n",
       "    </text>\n",
       "    <path class=\"displacy-arrowhead\" d=\"M602,184.0 L598,176.0 606,176.0\" fill=\"currentColor\"/>\n",
       "</g>\n",
       "\n",
       "<g class=\"displacy-arrow\">\n",
       "    <path class=\"displacy-arc\" id=\"arrow-ab0be84edc65464b925df92127560014-0-7\" stroke-width=\"2px\" d=\"M692,182.0 692,167.0 761.0,167.0 761.0,182.0\" fill=\"none\" stroke=\"currentColor\"/>\n",
       "    <text dy=\"1.25em\" style=\"font-size: 0.8em; letter-spacing: 1px\">\n",
       "        <textPath xlink:href=\"#arrow-ab0be84edc65464b925df92127560014-0-7\" class=\"displacy-label\" startOffset=\"50%\" side=\"left\" fill=\"currentColor\" text-anchor=\"middle\">npadvmod</textPath>\n",
       "    </text>\n",
       "    <path class=\"displacy-arrowhead\" d=\"M761.0,184.0 L765.0,176.0 757.0,176.0\" fill=\"currentColor\"/>\n",
       "</g>\n",
       "</svg></span>"
      ],
      "text/plain": [
       "<IPython.core.display.HTML object>"
      ]
     },
     "metadata": {},
     "output_type": "display_data"
    }
   ],
   "source": [
    "# example or nature and functions identification from sentence.\n",
    "text = \"In the short term, tillage operations significantly increased K\"\n",
    "sent = nlp(text)\n",
    "displacy.render(sent, style='dep', options={'compact': True, 'distance': 90})"
   ]
  },
  {
   "cell_type": "code",
   "execution_count": 98,
   "id": "a5de866b-01df-46a1-9d30-e89520de7f32",
   "metadata": {
    "iooxa": {
     "id": {
      "block": "lB7iqjNh6NcODwxjodEJ",
      "project": "UQpQnbX8k8j6zcU3ZLtz",
      "version": 1
     },
     "outputId": {
      "block": "7aBUUOIkULcJ2e3uhtxk",
      "project": "UQpQnbX8k8j6zcU3ZLtz",
      "version": 1
     }
    }
   },
   "outputs": [
    {
     "data": {
      "image/png": "[encoded data removed]",
      "text/plain": [
       "<Figure size 432x288 with 1 Axes>"
      ]
     },
     "metadata": {},
     "output_type": "display_data"
    }
   ],
   "source": [
    "# build dependency graph and show shortest dependency path\n",
    "fig, ax = plt.subplots()\n",
    "node_size = 1500\n",
    "\n",
    "# find shortest dependency path (SDP)\n",
    "edges = []\n",
    "for token in sent:\n",
    "    for child in token.children:\n",
    "        edges.append((token.i, child.i))\n",
    "G = nx.Graph(edges)\n",
    "sdp = nx.shortest_path(G, \n",
    "                       source=5,\n",
    "                       target=9)\n",
    "\n",
    "# draw network\n",
    "pos = nx.spring_layout(G)\n",
    "nx.draw_networkx_edges(G, pos, ax=ax, alpha=0.5)\n",
    "nx.draw_networkx_nodes(G, pos, alpha=1, ax=ax, node_color='orange', node_size=node_size)\n",
    "nx.draw_networkx_labels(G, pos, labels=dict(zip(np.arange(len(sent)), [a for a in sent])),\n",
    "                        font_family=\"sans-serif\", ax=ax, font_size=12)\n",
    "\n",
    "# draw sdp\n",
    "path_edges = list(zip(sdp, sdp[1:]))\n",
    "nx.draw_networkx_nodes(G, pos, nodelist=sdp[:1], node_color='lightblue', node_size=node_size)\n",
    "nx.draw_networkx_nodes(G, pos, nodelist=sdp[-1:], node_color='lime', node_size=node_size)\n",
    "nx.draw_networkx_edges(G, pos, edgelist=path_edges, edge_color='r', width=5)\n",
    "\n",
    "plt.axis(\"off\")\n",
    "ax.set_xlim([-1.2, 1.2])\n",
    "ax.set_ylim([-1.2, 1.2])\n",
    "fig.tight_layout()"
   ]
  },
  {
   "cell_type": "code",
   "execution_count": null,
   "id": "dd397d7e-ff67-4f3e-a3f0-fb2b04ffe7f5",
   "metadata": {},
   "outputs": [],
   "source": []
  }
 ],
 "metadata": {
  "kernelspec": {
   "display_name": "Python 3",
   "language": "python",
   "name": "python3"
  },
  "language_info": {
   "codemirror_mode": {
    "name": "ipython",
    "version": 3
   },
   "file_extension": ".py",
   "mimetype": "text/x-python",
   "name": "python",
   "nbconvert_exporter": "python",
   "pygments_lexer": "ipython3",
   "version": "3.8.9"
  }
 },
 "nbformat": 4,
 "nbformat_minor": 5
}
