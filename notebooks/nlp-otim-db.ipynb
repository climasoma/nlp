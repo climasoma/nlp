{
 "cells": [
  {
   "cell_type": "markdown",
   "id": "b4476fe1-0aef-4461-b56a-06a46d063d99",
   "metadata": {},
   "source": [
    "# Natural language processing on the OTIM-DB\n",
    "This notebook present natural language processing (NLP) technique for information extraction from full-text research papers. The publications used are referenced by the [OTIM-DB](https://github.com/climasoma/otim-db).\n",
    "\n",
    "NOTE: this notebook needs the full-text papers to run. For copyright reasons, these are not provided with the notebooks."
   ]
  },
  {
   "cell_type": "code",
   "execution_count": 1,
   "id": "4e0fdda7-5e3a-44b4-8c0f-5681d2427584",
   "metadata": {},
   "outputs": [],
   "source": [
    "import numpy as np\n",
    "import matplotlib.pyplot as plt\n",
    "import matplotlib.patches as mpatches\n",
    "import pandas as pd\n",
    "import time\n",
    "import os\n",
    "import shutil\n",
    "import re\n",
    "from tqdm.notebook import tqdm_notebook as tqdm\n",
    "from lxml import etree, html\n",
    "import requests\n",
    "import requests_cache\n",
    "import spacy\n",
    "from spacy.matcher import Matcher, PhraseMatcher\n",
    "from spacy import displacy\n",
    "import json\n",
    "from pprint import pprint\n",
    "import networkx as nx # drawing network graph\n",
    "import unicodedata\n",
    "from io import StringIO\n",
    "from scipy import stats\n",
    "nlp = spacy.load(\"en_core_web_sm\")\n",
    "import warnings\n",
    "warnings.simplefilter('ignore')\n",
    "\n",
    "datadir = '../data/from-kunsat/'\n",
    "outputdir = datadir + '../../figures/'\n",
    "\n",
    "dfscore = pd.DataFrame(columns={'step', 'n', 'recall', 'precision', 'f1', 'match'})\n",
    "\n",
    "def camelCase(x):\n",
    "    return x.lower()[0] + x.title().replace(' ','')[1:]"
   ]
  },
  {
   "cell_type": "markdown",
   "id": "0089741a-38d0-4e44-9758-16cabc7042e1",
   "metadata": {
    "iooxa": {
     "id": {
      "block": "sXMAs0k82enstQcMouko",
      "project": "UQpQnbX8k8j6zcU3ZLtz",
      "version": 1
     }
    }
   },
   "source": [
    "## Preparing publications\n",
    "### Load paper list"
   ]
  },
  {
   "cell_type": "code",
   "execution_count": 2,
   "id": "d96d5fd6-343a-4f3b-a59e-e4b81afa97fd",
   "metadata": {},
   "outputs": [
    {
     "name": "stdout",
     "output_type": "stream",
     "text": [
      "total entries: 174\n",
      "with doi: 156\n",
      "retrieved: 154\n"
     ]
    }
   ],
   "source": [
    "# some statistics (start here)\n",
    "dfpub = pd.read_excel(datadir + 'dfpub.xlsx')\n",
    "print('total entries:', dfpub.shape[0])\n",
    "print('with doi:', dfpub['DOI'].notnull().sum())\n",
    "print('retrieved:', dfpub['fname'].notnull().sum())\n",
    "\n",
    "# we will only work with the ones which have full-text\n",
    "dfpub = dfpub[dfpub['fname'].notnull()].reset_index(drop=True)"
   ]
  },
  {
   "cell_type": "code",
   "execution_count": 3,
   "id": "598e9153-2ca5-48bf-829c-5c2085ee3fec",
   "metadata": {
    "iooxa": {
     "id": {
      "block": "JkXQcGAbqt38fW6zD0Da",
      "project": "UQpQnbX8k8j6zcU3ZLtz",
      "version": 1
     },
     "outputId": {
      "block": "W2Kr16uNY2Q5OsqNkyMv",
      "project": "UQpQnbX8k8j6zcU3ZLtz",
      "version": 1
     }
    }
   },
   "outputs": [
    {
     "name": "stdout",
     "output_type": "stream",
     "text": [
      "imported: 154 / 154\n"
     ]
    }
   ],
   "source": [
    "# creating rawdocs and extract text\n",
    "rawdocs = []\n",
    "c = 0\n",
    "for fname in dfpub['fname']:\n",
    "    # convert to text (only need to do it once)\n",
    "    #os.system('pdftotext \"' + datadir + 'papers/' + fname + '.pdf\"')\n",
    "    fpath = datadir + 'papers/' + fname + '.txt'\n",
    "    if os.path.exists(fpath):\n",
    "        with open(fpath, 'r', encoding='utf8') as f:\n",
    "            try:\n",
    "                text = f.read()\n",
    "                if len(text) > 100:\n",
    "                    rawdocs.append(text)\n",
    "                else:\n",
    "                    print('document too small', fname)\n",
    "                c += 1\n",
    "            except:\n",
    "                print('error with', fname)\n",
    "                rawdocs.append('')\n",
    "    else:\n",
    "        print('path not found for', fname, fpath) # pdf are empty\n",
    "        rawdocs.append('')\n",
    "print('imported:', c, '/', dfpub.shape[0])"
   ]
  },
  {
   "cell_type": "markdown",
   "id": "30911e8e-f5b3-459d-920b-5d34bad8d3a6",
   "metadata": {
    "iooxa": {
     "id": {
      "block": "mFS58lnh1pjRm9ywRmku",
      "project": "UQpQnbX8k8j6zcU3ZLtz",
      "version": 1
     }
    }
   },
   "source": [
    "### Detecting abstract, references sections\n",
    "\n",
    "Abstract is detected based on rules (specific keywords identfied, paragraph identified). The references section is also identified. Both abstract and references are removed from the main document, `rawdocs` is overwritten."
   ]
  },
  {
   "cell_type": "code",
   "execution_count": 4,
   "id": "191e8054-0d9d-4737-a24b-471487677806",
   "metadata": {
    "iooxa": {
     "id": {
      "block": "De3ALqFtHGtgWi7tbkBd",
      "project": "UQpQnbX8k8j6zcU3ZLtz",
      "version": 1
     },
     "outputId": {
      "block": "HBA2mQAXKbkBT8NCTVGO",
      "project": "UQpQnbX8k8j6zcU3ZLtz",
      "version": 1
     }
    },
    "tags": []
   },
   "outputs": [
    {
     "name": "stdout",
     "output_type": "stream",
     "text": [
      "abstract probably not well detected for jacques2002 (ratio: 0.47)\n",
      "abstract = first paragraph miller1998\n",
      "abstract probably not well detected for schwartz2002 (ratio: 0.12)\n",
      "abstract probably not well detected for schwärzel2011 (ratio: 0.23)\n",
      "number of abstract detected: 154 / 154\n"
     ]
    }
   ],
   "source": [
    "# detect abstract, keywords, reference, title - overwrite rawdocs!\n",
    "abstracts = []\n",
    "rawdocs = []\n",
    "df = pd.DataFrame(columns=['fname', 'start', 'end', 'length', 'code'])\n",
    "dfpub['abstract'] = pd.NA\n",
    "for i, fname in enumerate(dfpub.loc[:, 'fname']):\n",
    "    fpath = datadir + 'papers/' + str(fname) + '.txt'\n",
    "    code = ''  # determine how the abstract was found\n",
    "    if (pd.isna(fname) is False) & (os.path.exists(fpath)):\n",
    "        with open(fpath, 'r', encoding='utf8') as f:\n",
    "            doc = f.read()\n",
    "        splitdoc = re.split('a b s t r a c t|abstract|ABSTRACT|Abstract|A B S T R A C T|Summary|s u m m a r y|SUMMARY', doc)\n",
    "        foundStart = True\n",
    "        if len(splitdoc) == 1:\n",
    "            foundStart = False\n",
    "        text = '\\n'.join(splitdoc[1:]) if len(splitdoc) > 1 else splitdoc[0] # if not keyword abstract found, take all\n",
    "\n",
    "        # assuming first paragraph is the abstract\n",
    "        splitEnd = re.split('Published|Introduction|Copyright|©|Keywords|keywords|KEYWORDS|KEY WORDS|Citation', text)\n",
    "        foundEnd = True\n",
    "        if len(splitEnd) == 1:\n",
    "            foundEnd = False\n",
    "            #print('abstract end not found', fname)\n",
    "            paragraphs = text.split('\\n\\n')\n",
    "            ps = []\n",
    "            a = ''\n",
    "            # we only want paragraphs split that are more than 10 characters\n",
    "            for p in paragraphs:\n",
    "                a = a + '\\n\\n' + p\n",
    "                if len(a) > 10:\n",
    "                    ps.append(a)\n",
    "                    a = ''\n",
    "            if foundStart is True:\n",
    "                abstract = ps[0]\n",
    "                code = 'ps[0]'\n",
    "            else:\n",
    "                # without detection of the start or end, we\n",
    "                # blindly assume that abstract is first paragraph\n",
    "                abstract = ps[1]\n",
    "                code = 'first'\n",
    "                print('abstract = first paragraph', fname)\n",
    "        else:\n",
    "            abstract = ''\n",
    "            for j, s in enumerate(splitEnd):\n",
    "                if len(s) > 50 and abstract == '':\n",
    "                    abstract = s\n",
    "                    code = 's{:d}'.format(j)\n",
    "\n",
    "        # cleaning up the abstract\n",
    "        if abstract[0] in [':', '.']:\n",
    "            abstract = abstract[1:]\n",
    "        abstract = abstract.strip()\n",
    "\n",
    "        # edge case (if we have two first large paragraphs)\n",
    "        ts = abstract.split('\\n\\n')\n",
    "        if len(ts) > 1:\n",
    "            if (len(ts[0]) > 800) & (len(ts[1]) > 800):\n",
    "                if ts[0][0] in 'ABCDEFGHIJKLMNOPQRSTUVWXYZ':\n",
    "                    abstract = ts[0]\n",
    "                    #print(fname, 'first')\n",
    "                    code = 'ts[0]'\n",
    "                else:\n",
    "                    abstract = ts[1]\n",
    "                    #print(fname, 'second')\n",
    "                    code = 'ts[1]'\n",
    "\n",
    "        # write down abstract for manual assessment\n",
    "        with open(fpath.replace('.txt', '-abstract.txt'), 'w', encoding='utf8') as f:\n",
    "            f.write(abstract)\n",
    "        df = df.append({'fname': fname, 'start': foundStart, 'end': \n",
    "                        foundEnd, 'length': len(abstract), 'code': code},\n",
    "                       ignore_index=True)\n",
    "\n",
    "        # add the abstract to dfpub\n",
    "        dfpub.loc[i, 'abstract'] = abstract\n",
    "\n",
    "        # remove the abstract from the body\n",
    "        body = text.replace(abstract, '')\n",
    "\n",
    "        # remove the references\n",
    "        #if len(re.findall('r(é|e)f(é|e)rences?|r ?e ?f ?e ?r ?e ?n ?c ?e ?s?', body, flags=re.IGNORECASE)) == 0:\n",
    "        #    print('no ref found for', fname)\n",
    "        parts = re.split('\\n\\s?r(é|e)f(é|e)rences?\\n|\\n\\s?r ?e ?f ?e ?r ?e ?n ?c ?e ?s?\\n', body, flags=re.IGNORECASE)\n",
    "        if len(parts) > 2:  # at least one 'reference' found\n",
    "            body = '\\nReferences\\n'.join([a for a in parts[:-1] if a is not None])\n",
    "        else:\n",
    "            body = body\n",
    "            #print('ref not found for', dfpub.loc[i, 'fname'])\n",
    "            # for old papers with no ref section parsed to OCR, that's often the case\n",
    "        # failsafe for badly detected abstract\n",
    "        ratio = len(body) / len(text)\n",
    "        if ratio < 0.6:\n",
    "            print('abstract probably not well detected for', fname, '(ratio: {:.2f})'.format(ratio))\n",
    "            body = text\n",
    "        rawdocs.append(body)\n",
    "    else:\n",
    "        print(fpath, 'not found')\n",
    "print('number of abstract detected:', dfpub['abstract'].notnull().sum(), '/', dfpub.shape[0])"
   ]
  },
  {
   "attachments": {
    "60c71754-033b-45e3-a44e-5b951bec446b.png": {
     "image/png": "[encoded data removed]"
    }
   },
   "cell_type": "markdown",
   "id": "5abe6126-e49a-44eb-a147-ea85b7cef037",
   "metadata": {
    "iooxa": {
     "id": {
      "block": "p4sPkvXXi62M9HTGHIj2",
      "project": "UQpQnbX8k8j6zcU3ZLtz",
      "version": 1
     }
    }
   },
   "source": [
    "## Rule-based extraction\n",
    "\n",
    "This section uses regular expression (RegEx) to extract information from documents. The recovered values are checked against a manually built database to evaluate their status.\n",
    "\n",
    "Available status:\n",
    "- If in the db:\n",
    "    - 1. `Not parsed`: we didn't recover anything from NLP\n",
    "    - 2. `Not matched`: we recover smth but it did not matched\n",
    "    - 3. `Matched`: we recover smth and it matches\n",
    "- If not in the db:\n",
    "    - 4. `Unavailable`: the info is not in Bonares and we recovered nothing\n",
    "    - 5. `Parsed`: we recover smth but we cannot compared it as Bonares entry is emtpy\n",
    "    \n",
    "![image.png](attachment:60c71754-033b-45e3-a44e-5b951bec446b.png)"
   ]
  },
  {
   "cell_type": "code",
   "execution_count": 5,
   "id": "2d238017-6fa8-4d71-86a7-48ecf6cd8a18",
   "metadata": {
    "iooxa": {
     "id": {
      "block": "hJnMTDeUiSZrsuZSdF59",
      "project": "UQpQnbX8k8j6zcU3ZLtz",
      "version": 1
     },
     "outputId": null
    }
   },
   "outputs": [],
   "source": [
    "# prepare dfssp which contains soil site property\n",
    "dfssp = pd.read_excel(datadir + 'dfssp.xlsx')\n",
    "dfexp = pd.read_excel(datadir + 'dfexp.xlsx')\n",
    "dfssp = pd.merge(dfssp, dfexp, on='SSPName', how='left')\n",
    "# soil_type and soil_texture are manually created to reflect what is really written in the text"
   ]
  },
  {
   "cell_type": "code",
   "execution_count": 6,
   "id": "3d2f634c-e110-45fd-ba67-e683dc1eaed2",
   "metadata": {
    "iooxa": {
     "id": {
      "block": "Ly8Bq5e7Z40UMnZ53ghR",
      "project": "UQpQnbX8k8j6zcU3ZLtz",
      "version": 1
     },
     "outputId": {
      "block": "qfgqQfEaGBy0H6ECzYTQ",
      "project": "UQpQnbX8k8j6zcU3ZLtz",
      "version": 1
     }
    }
   },
   "outputs": [
    {
     "name": "stdout",
     "output_type": "stream",
     "text": [
      "174 studies with 154 locations\n"
     ]
    }
   ],
   "source": [
    "# prepare dfloc which contains the manually parsed location and precipitation\n",
    "dfloc = pd.read_excel(datadir + 'dfloc.xlsx', na_values=-9999)\n",
    "dfexp = pd.read_excel(datadir + 'dfexp.xlsx')\n",
    "dfexp = dfexp[['Location', 'ReferenceTag']].drop_duplicates()\n",
    "dfloc = pd.merge(dfloc, dfexp, on='Location', how='left')\n",
    "dfloc = dfloc[dfloc.columns[~dfloc.columns.str.contains('Unnamed')]]\n",
    "print('{:d} studies with {:d} locations'.format(\n",
    "    dfloc['ReferenceTag'].unique().shape[0], dfloc['lat'].notnull().sum()))"
   ]
  },
  {
   "cell_type": "code",
   "execution_count": 7,
   "id": "3dd4175d-35e9-4481-98b3-2b8058b639fa",
   "metadata": {
    "iooxa": {
     "id": {
      "block": "A9Cu6CvZxoFBvWjatQLI",
      "project": "UQpQnbX8k8j6zcU3ZLtz",
      "version": 1
     },
     "outputId": null
    }
   },
   "outputs": [],
   "source": [
    "# prepare dfmtf to check diameter and tensions available\n",
    "dfexp = pd.read_excel(datadir + 'dfexp.xlsx')\n",
    "dfmtf = pd.read_excel(datadir + 'dfmtf.xlsx')\n",
    "dfmtf = pd.merge(dfmtf, dfexp, on='MTFName')\n",
    "dfmtf = dfmtf.replace(-9999, np.nan)"
   ]
  },
  {
   "cell_type": "markdown",
   "id": "91141c37-fa46-4c79-a6be-bb5be62e0519",
   "metadata": {
    "iooxa": {
     "id": {
      "block": "25ces4gXemGQGKC51JdJ",
      "project": "UQpQnbX8k8j6zcU3ZLtz",
      "version": 1
     }
    }
   },
   "source": [
    "### Extract soil type"
   ]
  },
  {
   "cell_type": "code",
   "execution_count": 9,
   "id": "031dc927-b8be-495b-a7fd-fbfa5b2594f5",
   "metadata": {
    "iooxa": {
     "id": {
      "block": "jZ4qaaoOe5u3OBtQT2zo",
      "project": "UQpQnbX8k8j6zcU3ZLtz",
      "version": 1
     },
     "outputId": null
    }
   },
   "outputs": [],
   "source": [
    "# load soils from keyword trees\n",
    "with open(datadir + '../keyword-trees/SoilTypeFAO.json', 'r') as f:\n",
    "    soilTypeFAO = json.load(f)\n",
    "with open(datadir + '../keyword-trees/SoilTypeQualifiersFAO.json', 'r') as f:\n",
    "    soilTypeQualifiersFAO = json.load(f)\n",
    "with open(datadir + '../keyword-trees/SoilTypeGER.json', 'r') as f:\n",
    "    soilTypeGER = json.load(f)\n",
    "with open(datadir + '../keyword-trees/SoilTypeWRB.json', 'r') as f:\n",
    "    soilTypeWRB = json.load(f)\n",
    "with open(datadir + '../keyword-trees/SoilTypeQualifiersWRB.json', 'r') as f:\n",
    "    soilTypeQualifiersWRB = json.load(f)\n",
    "with open(datadir + '../keyword-trees/SoilTypeSpecifiersWRB.json', 'r') as f:\n",
    "    soilTypeSpecifiersWRB = json.load(f)\n",
    "with open(datadir + '../keyword-trees/SoilTypeUSDA.json', 'r') as f:\n",
    "    soilTypeUSDA = json.load(f)\n",
    "with open(datadir + '../keyword-trees/SoilTypeQualifiersUSDA.json', 'r') as f:\n",
    "    soilTypeQualifiersUSDA = json.load(f)\n",
    "\n",
    "soilvoct = [soilTypeFAO, soilTypeWRB, soilTypeUSDA] # soilTypeGER,\n",
    "soilvocq = [soilTypeQualifiersFAO, soilTypeQualifiersWRB,\n",
    "            soilTypeSpecifiersWRB, soilTypeQualifiersUSDA]\n",
    "soilvoc = []\n",
    "for a in soilvoct:\n",
    "    for b in a['children']:\n",
    "        soilvoc.append(b['value'])\n",
    "        if 'children' in b.keys():\n",
    "            for c in b['children']:\n",
    "                soilvoc.append(c['value'])\n",
    "                if 'children' in c.keys():\n",
    "                    for d in c['children']:\n",
    "                        soilvoc.append(d['value'])\n",
    "soilvoc = [a.lower() for a in soilvoc]\n",
    "soilvoc += [a[:-1] for a in soilvoc if a[-1] == 's']\n",
    "soilvoc.remove('arent')\n",
    "soilvoc.remove('arent')\n",
    "soilvoc.remove('arents')\n",
    "\n",
    "# FAO pattern\n",
    "qualifiers = [dic['value'].strip() for dic in soilTypeQualifiersFAO['children']]\n",
    "soiltypes = [dic['value'].strip() for dic in soilTypeFAO['children']]\n",
    "soiltypes += [a + 's' for a in soiltypes]\n",
    "faoPattern = '({:s})?\\s?({:s})?\\s?({:s})'.format(\n",
    "        '|'.join(qualifiers), '|'.join(qualifiers), '|'.join(soiltypes))\n",
    "\n",
    "# WRB pattern\n",
    "qualifiers = []\n",
    "for dic in soilTypeQualifiersWRB:\n",
    "    qualifiers.extend(dic['principal_qualifiers'])\n",
    "    qualifiers.extend(dic['supplementary_qualifiers'])\n",
    "qualifiers = list(set(qualifiers))\n",
    "qualifiers = [a.strip() for a in qualifiers]\n",
    "soiltypes = [dic['value'].strip() for dic in soilTypeWRB['children']]\n",
    "soiltypes += [a + 's' for a in soiltypes]\n",
    "wrbPattern = '({:s})?\\s?({:s})?\\s?({:s})'.format(\n",
    "    '|'.join(qualifiers), '|'.join(qualifiers), '|'.join(soiltypes))\n",
    "\n",
    "# USDA pattern\n",
    "soiltypes = []\n",
    "for a in soilTypeUSDA['children']:\n",
    "    soiltypes.append(a['value'])\n",
    "    if 'children' in a.keys():\n",
    "        for b in a['children']:\n",
    "            soiltypes.append(b['value'])\n",
    "            if 'children' in b.keys():\n",
    "                for c in b['children']:\n",
    "                    soiltypes.append(c['value'])\n",
    "soiltypes += [a[:-1] for a in soiltypes if a[-1] == 's']\n",
    "qualifiers = [dic['value'] for dic in soilTypeQualifiersUSDA]\n",
    "usdaPattern = '({:s})?\\s?({:s})?\\s?({:s})'.format(\n",
    "    '|'.join(qualifiers), '|'.join(qualifiers), '|'.join(soiltypes))"
   ]
  },
  {
   "cell_type": "code",
   "execution_count": 10,
   "id": "60d8fa2e-f5b7-4409-bcc7-be2eea25ad8d",
   "metadata": {
    "iooxa": {
     "id": {
      "block": "Izi0jr28k78mmpDaVud7",
      "project": "UQpQnbX8k8j6zcU3ZLtz",
      "version": 1
     },
     "outputId": {
      "block": "lJjz6JhwSIGUIW8O2pMz",
      "project": "UQpQnbX8k8j6zcU3ZLtz",
      "version": 1
     }
    }
   },
   "outputs": [
    {
     "data": {
      "application/vnd.jupyter.widget-view+json": {
       "model_id": "17de6f67897740e3bdde213818c592d2",
       "version_major": 2,
       "version_minor": 0
      },
      "text/plain": [
       "  0%|          | 0/154 [00:00<?, ?it/s]"
      ]
     },
     "metadata": {},
     "output_type": "display_data"
    },
    {
     "name": "stdout",
     "output_type": "stream",
     "text": [
      "102 soil types found\n"
     ]
    }
   ],
   "source": [
    "# extract soil\n",
    "dfssp['soil_type_status'] = 'unavailable'\n",
    "dfssp['soil_type_nlp'] = pd.NA\n",
    "\n",
    "for i, doc in tqdm(enumerate(rawdocs), total=len(rawdocs)):\n",
    "    text = doc.replace('\\n', ' ')\n",
    "    soilmatches = re.findall(wrbPattern, text)\n",
    "    soilmatches += re.findall(faoPattern, text)\n",
    "    soilmatches += re.findall(usdaPattern, text)\n",
    "    soiltypes = list(set([' '.join(a).replace('  ', ' ').strip() for a in soilmatches]))\n",
    "    ie = dfssp['ReferenceTag'] == dfpub.loc[i, 'ReferenceTag']\n",
    "    for j in np.where(ie)[0]:\n",
    "        if len(soiltypes) > 0:\n",
    "            dfssp.loc[i, 'soil_type_nlp'] = '|'.join(soiltypes)\n",
    "            if dfssp.loc[j, 'soil_type_status'] == 'unavailable':\n",
    "                dfssp.loc[j, 'soil_type_status'] = 'parsed'\n",
    "            elif dfssp.loc[j, 'soil_type_status'] == 'not parsed':\n",
    "                dfssp.loc[j, 'soil_type_status'] = 'not matched'\n",
    "        if pd.isna(dfssp.loc[j, 'soil_type']) == False:\n",
    "            for soiltype in soiltypes:\n",
    "                if soiltype.lower() in dfssp.loc[j, 'soil_type'].lower():\n",
    "                    # if we have at least one match, then it's good\n",
    "                    dfssp.loc[j, 'soil_type_status'] = 'matched'\n",
    "                    break\n",
    "        if dfssp.loc[j, 'soil_type_status'] in []:# ['parsed']:  # for debugging\n",
    "            print(dfssp.loc[j, 'soil_type_status'], '> label:', dfssp.loc[j, 'soil_type'], '| nlp:',\n",
    "                  soiltypes, '<<', dfpub.loc[i, 'fname'], '>>', dfssp.loc[j, 'SSPName'], i, j)\n",
    "\n",
    "print(dfssp['soil_type_nlp'].notnull().sum(), 'soil types found')\n",
    "# bagarello2010: soil in a table so hard to parse\n",
    "# holden2014: Andisol is mentionned in the text but it's not the fieldsite"
   ]
  },
  {
   "cell_type": "code",
   "execution_count": 11,
   "id": "f471c38c-58cb-4f77-9695-b4f71392322c",
   "metadata": {
    "iooxa": {
     "id": {
      "block": "M4X4JccrlV7JC5ixbxGL",
      "project": "UQpQnbX8k8j6zcU3ZLtz",
      "version": 1
     },
     "outputId": {
      "block": "iVhSobBD9yBViQhJpkC7",
      "project": "UQpQnbX8k8j6zcU3ZLtz",
      "version": 1
     }
    }
   },
   "outputs": [
    {
     "data": {
      "image/png": "[encoded data removed]",
      "text/plain": [
       "<Figure size 432x288 with 1 Axes>"
      ]
     },
     "metadata": {
      "needs_background": "light"
     },
     "output_type": "display_data"
    }
   ],
   "source": [
    "# graph\n",
    "ie = dfssp['soil_type_nlp'].notnull()\n",
    "soiltypes = np.hstack([a.split('|') for a in dfssp[ie]['soil_type_nlp']])\n",
    "s = pd.Series(soiltypes)\n",
    "s.value_counts()[:20].plot.bar(ylabel='Count', xlabel='Soil types');"
   ]
  },
  {
   "cell_type": "code",
   "execution_count": 12,
   "id": "5531e54c-af72-41b8-a88a-e791c8387bb9",
   "metadata": {
    "iooxa": {
     "id": {
      "block": "L95IlgAoMpDwWyxcybTl",
      "project": "UQpQnbX8k8j6zcU3ZLtz",
      "version": 1
     },
     "outputId": {
      "block": "8ccG4xvJysd6xOV3to22",
      "project": "UQpQnbX8k8j6zcU3ZLtz",
      "version": 1
     }
    }
   },
   "outputs": [
    {
     "data": {
      "text/plain": [
       "matched        94\n",
       "unavailable    72\n",
       "parsed          8\n",
       "Name: soil_type_status, dtype: int64"
      ]
     },
     "execution_count": 12,
     "metadata": {},
     "output_type": "execute_result"
    }
   ],
   "source": [
    "def mode(x):\n",
    "    return stats.mode(x).mode[0]\n",
    "dfmode = dfssp.groupby('ReferenceTag').agg(mode)\n",
    "dfmode['soil_type_status'].value_counts()"
   ]
  },
  {
   "cell_type": "code",
   "execution_count": 13,
   "id": "ed2167b2-dbaf-42c5-9cef-564a643fb5d1",
   "metadata": {
    "iooxa": {
     "id": {
      "block": "tkBcMdO3dudnJvkJ5WEQ",
      "project": "UQpQnbX8k8j6zcU3ZLtz",
      "version": 1
     },
     "outputId": {
      "block": "yqCDYXllFlszgCR4GvOX",
      "project": "UQpQnbX8k8j6zcU3ZLtz",
      "version": 1
     }
    }
   },
   "outputs": [
    {
     "name": "stdout",
     "output_type": "stream",
     "text": [
      "recall: 1.00\n",
      "precision: 0.92\n",
      "F1 score: 0.96\n",
      "match: 0.95\n"
     ]
    },
    {
     "data": {
      "text/html": [
       "<div>\n",
       "<style scoped>\n",
       "    .dataframe tbody tr th:only-of-type {\n",
       "        vertical-align: middle;\n",
       "    }\n",
       "\n",
       "    .dataframe tbody tr th {\n",
       "        vertical-align: top;\n",
       "    }\n",
       "\n",
       "    .dataframe thead th {\n",
       "        text-align: right;\n",
       "    }\n",
       "</style>\n",
       "<table border=\"1\" class=\"dataframe\">\n",
       "  <thead>\n",
       "    <tr style=\"text-align: right;\">\n",
       "      <th></th>\n",
       "      <th>step</th>\n",
       "      <th>recall</th>\n",
       "      <th>f1</th>\n",
       "      <th>match</th>\n",
       "      <th>n</th>\n",
       "      <th>precision</th>\n",
       "      <th>method</th>\n",
       "    </tr>\n",
       "  </thead>\n",
       "  <tbody>\n",
       "    <tr>\n",
       "      <th>0</th>\n",
       "      <td>Soil type (WRB/USDA)</td>\n",
       "      <td>1.0</td>\n",
       "      <td>0.959184</td>\n",
       "      <td>0.954023</td>\n",
       "      <td>174</td>\n",
       "      <td>0.921569</td>\n",
       "      <td>Regex + dict.</td>\n",
       "    </tr>\n",
       "  </tbody>\n",
       "</table>\n",
       "</div>"
      ],
      "text/plain": [
       "                   step  recall        f1     match    n  precision  \\\n",
       "0  Soil type (WRB/USDA)     1.0  0.959184  0.954023  174   0.921569   \n",
       "\n",
       "          method  \n",
       "0  Regex + dict.  "
      ]
     },
     "execution_count": 13,
     "metadata": {},
     "output_type": "execute_result"
    }
   ],
   "source": [
    "# scores on the selection of relevant information\n",
    "df = dfmode['soil_type_status'].value_counts()\n",
    "n = df.sum()\n",
    "if 'not matched' not in df.index:\n",
    "    df['not matched'] = 0\n",
    "df['relevant'] = df['matched'] + df['not matched']\n",
    "tp = df['relevant']\n",
    "fp = df['parsed'] if 'parsed' in df.index else 0\n",
    "tn = df['unavailable'] if 'unavailable' in df.index else 0\n",
    "fn = df['not parsed'] if 'not parsed' in df.index else 0\n",
    "\n",
    "recall = tp/(tp + fn)\n",
    "precision = tp/(tp + fp)\n",
    "f1 = 2 * (precision * recall)/(precision + recall)\n",
    "match = (df['matched'] + df['unavailable'])/(tp+tn+fn+fp)\n",
    "print('recall: {:.2f}'.format(recall))\n",
    "print('precision: {:.2f}'.format(precision))\n",
    "print('F1 score: {:.2f}'.format(f1))\n",
    "print('match: {:.2f}'.format(match))\n",
    "dfscore = dfscore.append(\n",
    "    {'step': 'Soil type (WRB/USDA)',\n",
    "     'n': n,\n",
    "     'recall': recall,\n",
    "     'precision': precision,\n",
    "     'f1': f1,\n",
    "     'match': match,\n",
    "     'method': 'Regex + dict.',\n",
    "    }, ignore_index=True)\n",
    "dfscore"
   ]
  },
  {
   "cell_type": "markdown",
   "id": "2792277e-574b-4ebe-866d-b8b27427576a",
   "metadata": {
    "iooxa": {
     "id": {
      "block": "mCte7fXSWliY3IXTyPCb",
      "project": "UQpQnbX8k8j6zcU3ZLtz",
      "version": 1
     }
    }
   },
   "source": [
    "Very high precision due to the specific lexic of soil types. False positive occurs when soil types is mention in the main text but is not related to the field site."
   ]
  },
  {
   "cell_type": "markdown",
   "id": "025b292c-7c3c-47b4-bfd4-f637073fbd8a",
   "metadata": {
    "iooxa": {
     "id": {
      "block": "VQvxAXQBruDQVFdu0veb",
      "project": "UQpQnbX8k8j6zcU3ZLtz",
      "version": 1
     }
    }
   },
   "source": [
    "### Extract soil texture"
   ]
  },
  {
   "cell_type": "code",
   "execution_count": 14,
   "id": "3a4e42fd-b69a-4dff-b7f2-1ea32ec73ae2",
   "metadata": {
    "iooxa": {
     "id": {
      "block": "bUr0p2Ien79ipZL8lWhA",
      "project": "UQpQnbX8k8j6zcU3ZLtz",
      "version": 1
     },
     "outputId": null
    }
   },
   "outputs": [],
   "source": [
    "# soil texture\n",
    "# note the vocs needs to be from the longest one to the shortest one as the\n",
    "# regex re.findall() will stop at the first match found\n",
    "voc = [\n",
    "    'sandy clay loam', 'silty clay loam',\n",
    "    'loamy sand', 'sandy loam', 'clay loam', 'sandy clay',\n",
    "    'silty clay', 'silt loam',\n",
    "    'sand', 'silt', 'clay', 'loam'\n",
    "]\n",
    "#text = \"the experiment took place on a silty clay loam and a clay loam\"\n",
    "#print(re.findall('|'.join(voc), text.lower()))"
   ]
  },
  {
   "cell_type": "code",
   "execution_count": 15,
   "id": "4cdaed4a-50fb-4dbf-a1e4-ef8516435ce6",
   "metadata": {
    "iooxa": {
     "id": {
      "block": "nPMJ1q4VCYn634eTjmST",
      "project": "UQpQnbX8k8j6zcU3ZLtz",
      "version": 1
     },
     "outputId": {
      "block": "Eq3TfKjmay4aryk7i1vW",
      "project": "UQpQnbX8k8j6zcU3ZLtz",
      "version": 1
     }
    },
    "tags": []
   },
   "outputs": [
    {
     "data": {
      "application/vnd.jupyter.widget-view+json": {
       "model_id": "9f25ee4b76dd461db2de587f595aee0e",
       "version_major": 2,
       "version_minor": 0
      },
      "text/plain": [
       "  0%|          | 0/154 [00:00<?, ?it/s]"
      ]
     },
     "metadata": {},
     "output_type": "display_data"
    }
   ],
   "source": [
    "# extract soil textures\n",
    "dfssp['soil_texture_status'] = 'unavailable'\n",
    "dfssp.loc[dfssp['soil_texture'].notnull(), 'soil_texture_status'] = 'not parsed'  # available in db but not parsed\n",
    "dfssp['soil_texture_nlp'] = pd.NA\n",
    "for i, doc in tqdm(enumerate(rawdocs), total=len(rawdocs)):\n",
    "    # spacy phrase matcher is a bit slower than re module\n",
    "    # re.findall() will stop at the first match, as we've ordered the voc\n",
    "    # from the longest to the smallest, we avoid matching twice 'sandy clay loam'\n",
    "    # for 'clay loam' or 'clay' or 'loam' but only for 'sandy clay loam'\n",
    "    text = doc.lower()\n",
    "    # remove sand occurence usually applied for better contact with permeameter\n",
    "    text = re.sub('(fine\\s+sand|moist\\s+\\sand|contact\\ssand|sand\\s+pad|washed\\s+sand|(sand|clay|silt)\\s+content)', '', text)\n",
    "    if len(re.findall('fine\\s+sand', text)) > 0:\n",
    "        print('+++++++++++++++', re.findall('fine\\s+sand', text))\n",
    "    matches = re.findall('|'.join(voc), text)  # maybe case would help here actually\n",
    "    umatches = np.unique(matches)\n",
    "    ie = dfssp['ReferenceTag'] == dfpub.loc[i, 'ReferenceTag']\n",
    "    # check against manually inputed values\n",
    "    for j in np.where(ie)[0]:  # index in dfssp\n",
    "        if len(umatches) > 0:\n",
    "            dfssp.loc[ie, 'soil_texture_nlp'] = '|'.join(umatches)\n",
    "            if dfssp.loc[j, 'soil_texture_status'] == 'unavailable':\n",
    "                dfssp.loc[j, 'soil_texture_status'] = 'parsed'\n",
    "            elif dfssp.loc[j, 'soil_texture_status'] == 'not parsed':\n",
    "                dfssp.loc[j, 'soil_texture_status'] = 'not matched'\n",
    "            if pd.isna(dfssp.loc[j, 'soil_texture']) == False:\n",
    "                for umatch in umatches:\n",
    "                    if umatch in dfssp.loc[j, 'soil_texture']:\n",
    "                        dfssp.loc[j, 'soil_texture_status'] = 'matched'\n",
    "                        break\n",
    "\n",
    "        # selective print for debugging\n",
    "        if dfssp.loc[j, 'soil_texture_status'] in []:#'not matched', 'parsed', 'not parsed']:\n",
    "            print(dfssp.loc[j, 'soil_texture_status'], '> label:', dfssp.loc[j, 'soil_texture'], '| nlp:', umatches,\n",
    "                  '<<', dfpub.loc[i, 'fname'], '>>', dfssp.loc[j, 'SSPName'], i, j)\n",
    "\n",
    "# bodner2013 : coming from abstract and references\n",
    "# carey2007: fine layer of moist sand applied\n",
    "# cey2009 should match, it's a silt loam\n",
    "# contact sand, sand content, clay content"
   ]
  },
  {
   "cell_type": "code",
   "execution_count": 16,
   "id": "fe8528cd-ff66-45fc-85b9-f9c4bceeb3fa",
   "metadata": {
    "iooxa": {
     "id": {
      "block": "Q4Bir1Y93Fcf7CsKBqL6",
      "project": "UQpQnbX8k8j6zcU3ZLtz",
      "version": 1
     },
     "outputId": {
      "block": "WAFXEY5Q1FLvXQkknk5i",
      "project": "UQpQnbX8k8j6zcU3ZLtz",
      "version": 1
     }
    }
   },
   "outputs": [
    {
     "data": {
      "image/png": "[encoded data removed]",
      "text/plain": [
       "<Figure size 432x288 with 1 Axes>"
      ]
     },
     "metadata": {
      "needs_background": "light"
     },
     "output_type": "display_data"
    }
   ],
   "source": [
    "# graph\n",
    "ie = dfssp['soil_texture_nlp'].notnull()\n",
    "items = np.hstack([a.split('|') for a in dfssp[ie]['soil_texture_nlp']])\n",
    "s = pd.Series(items)\n",
    "s.value_counts()[:20].plot.bar(ylabel='Count', xlabel='Soil textures');"
   ]
  },
  {
   "cell_type": "code",
   "execution_count": 17,
   "id": "a010fd59-ac1c-4303-a228-bdb17a397105",
   "metadata": {
    "iooxa": {
     "id": {
      "block": "HklGStAzbMgDvDzI6POU",
      "project": "UQpQnbX8k8j6zcU3ZLtz",
      "version": 1
     },
     "outputId": {
      "block": "XMybTkBwXbgh1xxuJvUO",
      "project": "UQpQnbX8k8j6zcU3ZLtz",
      "version": 1
     }
    }
   },
   "outputs": [
    {
     "data": {
      "text/plain": [
       "matched        143\n",
       "not parsed      20\n",
       "parsed           8\n",
       "unavailable      2\n",
       "not matched      1\n",
       "Name: soil_texture_status, dtype: int64"
      ]
     },
     "execution_count": 17,
     "metadata": {},
     "output_type": "execute_result"
    }
   ],
   "source": [
    "# group per publication to have meaningfull stats\n",
    "def mode(x):\n",
    "    return stats.mode(x).mode[0]\n",
    "dfmode = dfssp.groupby('ReferenceTag').agg(mode)\n",
    "dfmode['soil_texture_status'].value_counts()"
   ]
  },
  {
   "cell_type": "code",
   "execution_count": 18,
   "id": "fddc79bf-91af-49d0-9c28-57e929acb310",
   "metadata": {
    "iooxa": {
     "id": {
      "block": "dhXec18kptQJKFd0rUiR",
      "project": "UQpQnbX8k8j6zcU3ZLtz",
      "version": 1
     },
     "outputId": {
      "block": "H9AfWKT2ZONecfIF7UR3",
      "project": "UQpQnbX8k8j6zcU3ZLtz",
      "version": 1
     }
    }
   },
   "outputs": [
    {
     "name": "stdout",
     "output_type": "stream",
     "text": [
      "recall: 0.88\n",
      "precision: 0.95\n",
      "F1 score: 0.91\n",
      "match: 0.83\n"
     ]
    },
    {
     "data": {
      "text/html": [
       "<div>\n",
       "<style scoped>\n",
       "    .dataframe tbody tr th:only-of-type {\n",
       "        vertical-align: middle;\n",
       "    }\n",
       "\n",
       "    .dataframe tbody tr th {\n",
       "        vertical-align: top;\n",
       "    }\n",
       "\n",
       "    .dataframe thead th {\n",
       "        text-align: right;\n",
       "    }\n",
       "</style>\n",
       "<table border=\"1\" class=\"dataframe\">\n",
       "  <thead>\n",
       "    <tr style=\"text-align: right;\">\n",
       "      <th></th>\n",
       "      <th>step</th>\n",
       "      <th>recall</th>\n",
       "      <th>f1</th>\n",
       "      <th>match</th>\n",
       "      <th>n</th>\n",
       "      <th>precision</th>\n",
       "      <th>method</th>\n",
       "    </tr>\n",
       "  </thead>\n",
       "  <tbody>\n",
       "    <tr>\n",
       "      <th>0</th>\n",
       "      <td>Soil type (WRB/USDA)</td>\n",
       "      <td>1.000000</td>\n",
       "      <td>0.959184</td>\n",
       "      <td>0.954023</td>\n",
       "      <td>174</td>\n",
       "      <td>0.921569</td>\n",
       "      <td>Regex + dict.</td>\n",
       "    </tr>\n",
       "    <tr>\n",
       "      <th>1</th>\n",
       "      <td>Soil texture (USDA)</td>\n",
       "      <td>0.878049</td>\n",
       "      <td>0.911392</td>\n",
       "      <td>0.833333</td>\n",
       "      <td>174</td>\n",
       "      <td>0.947368</td>\n",
       "      <td>Regex + dict.</td>\n",
       "    </tr>\n",
       "  </tbody>\n",
       "</table>\n",
       "</div>"
      ],
      "text/plain": [
       "                   step    recall        f1     match    n  precision  \\\n",
       "0  Soil type (WRB/USDA)  1.000000  0.959184  0.954023  174   0.921569   \n",
       "1   Soil texture (USDA)  0.878049  0.911392  0.833333  174   0.947368   \n",
       "\n",
       "          method  \n",
       "0  Regex + dict.  \n",
       "1  Regex + dict.  "
      ]
     },
     "execution_count": 18,
     "metadata": {},
     "output_type": "execute_result"
    }
   ],
   "source": [
    "# scores on the selection of relevant information\n",
    "df = dfmode['soil_texture_status'].value_counts()\n",
    "if 'not matched' not in df.index:\n",
    "    df['not matched'] = 0\n",
    "n = df.sum()\n",
    "df['relevant'] = df['matched'] + df['not matched']\n",
    "tp = df['relevant']\n",
    "fp = df['parsed'] if 'parsed' in df.index else 0\n",
    "tn = df['unavailable'] if 'unavailable' in df.index else 0\n",
    "fn = df['not parsed'] if 'not parsed' in df.index else 0\n",
    "\n",
    "recall = tp/(tp + fn)\n",
    "precision = tp/(tp + fp)\n",
    "f1 = 2 * (precision * recall)/(precision + recall)\n",
    "match = (df['matched'] + df['unavailable'])/(tp+tn+fn+fp)\n",
    "print('recall: {:.2f}'.format(recall))\n",
    "print('precision: {:.2f}'.format(precision))\n",
    "print('F1 score: {:.2f}'.format(f1))\n",
    "print('match: {:.2f}'.format(match))\n",
    "dfscore = dfscore.append(\n",
    "    {'step': 'Soil texture (USDA)',\n",
    "     'n': n,\n",
    "     'recall': recall,\n",
    "     'precision': precision,\n",
    "     'f1': f1,\n",
    "     'match': match,\n",
    "     'method': 'Regex + dict.'},\n",
    "    ignore_index=True)\n",
    "dfscore"
   ]
  },
  {
   "cell_type": "markdown",
   "id": "23d93f07-788d-4ed6-98ae-1809b96a5ada",
   "metadata": {
    "iooxa": {
     "id": {
      "block": "D4iMeooFRK2enCEfrXWX",
      "project": "UQpQnbX8k8j6zcU3ZLtz",
      "version": 1
     }
    }
   },
   "source": [
    "### Extract rainfall"
   ]
  },
  {
   "cell_type": "code",
   "execution_count": 19,
   "id": "24895934-2ab3-46c0-b68f-e6440a6e5a24",
   "metadata": {
    "iooxa": {
     "id": {
      "block": "Q5EOIhDPfiTml5thZpmE",
      "project": "UQpQnbX8k8j6zcU3ZLtz",
      "version": 1
     },
     "outputId": {
      "block": "umfCsuQ8lTn5HJVm2ahY",
      "project": "UQpQnbX8k8j6zcU3ZLtz",
      "version": 1
     }
    }
   },
   "outputs": [
    {
     "data": {
      "application/vnd.jupyter.widget-view+json": {
       "model_id": "f48bfeed325649f49800d26c6b966e62",
       "version_major": 2,
       "version_minor": 0
      },
      "text/plain": [
       "  0%|          | 0/154 [00:00<?, ?it/s]"
      ]
     },
     "metadata": {},
     "output_type": "display_data"
    }
   ],
   "source": [
    "# extract mean annual rainfall\n",
    "dfloc['rainfall_status'] = 'unavailable'\n",
    "dfloc.loc[dfloc['rainfall'].notnull(), 'rainfall_status'] = 'not parsed'  # available in db but not parsed\n",
    "dfloc['rainfall_nlp'] = pd.NA\n",
    "for i, doc in tqdm(enumerate(rawdocs), total=len(rawdocs)):\n",
    "    text = doc.replace('\\n',' ').lower()\n",
    "    text = re.sub('\\([a-z\\s]+\\., \\d{4}\\)', '', text)  # remove citation in parenthesis \n",
    "    text = text = re.sub('[^0-9a-z.,\\s\\-–]', '', text)  # remove other characters\n",
    "    matches = re.findall('((?:cumulated|annual|average)[a-z\\s]+(?:rainfall|rain|precipitation))(?:[a-z\\s]+)?(\\d+[.-\\–]?\\d+c)?[a-z\\s]+(\\d+\\.?,?\\d+(?:-|–|\\sand\\s|\\sto\\s)?(?:\\d+)?)\\s?(m\\s?m|cm)', text)\n",
    "    umatches = []\n",
    "    for a in matches:\n",
    "        if a[-1] == 'mm':\n",
    "            s = a[-2]\n",
    "        elif a[-1] == 'cm':\n",
    "            s = '{:.0f}'.format(float(a[-2])*10)\n",
    "        if ('-' in s) or ('–' in s) or ('to' in s):\n",
    "            s = '{:.0f}'.format(np.mean([float(a) for a in re.split('-|–|to', s)]))\n",
    "        s = s.replace(',', '')\n",
    "        if 'and' in s:\n",
    "            umatches.append(s.split(' and ')[0])\n",
    "            umatches.append(s.split(' and ')[1])\n",
    "        else:\n",
    "            umatches.append(s)\n",
    "    ie = dfloc['ReferenceTag'] == dfpub.loc[i, 'ReferenceTag']\n",
    "    # check against manually inputed values\n",
    "    for j in np.where(ie)[0]:  # index in dfloc\n",
    "        if len(umatches) > 0:\n",
    "            dfloc.loc[ie, 'rainfall_nlp'] = '|'.join(umatches)\n",
    "            if dfloc.loc[j, 'rainfall_status'] == 'unavailable':\n",
    "                dfloc.loc[j, 'rainfall_status'] = 'parsed'\n",
    "            elif dfloc.loc[j, 'rainfall_status'] == 'not parsed':\n",
    "                dfloc.loc[j, 'rainfall_status'] = 'not matched'\n",
    "            if pd.isna(dfloc.loc[j, 'rainfall']) == False:\n",
    "                if dfloc.loc[j, 'rainfall'] in [float(u) for u in umatches]:\n",
    "                    dfloc.loc[j, 'rainfall_status'] = 'matched'\n",
    "\n",
    "        # selective print for debugging\n",
    "        if dfloc.loc[j, 'rainfall_status'] in []:#'not matched', 'parsed', 'not parsed']:\n",
    "            print(dfloc.loc[j, 'rainfall_status'], '> label:', dfloc.loc[j, 'rainfall'], '| nlp:', umatches,\n",
    "                  '<<', dfpub.loc[i, 'fname'], '>>', dfloc.loc[j, 'Location'], i, j)\n",
    "# comments\n",
    "# beibei2016: one line out of two is intercalted because of bad conversion of pdf2txt\n",
    "# miller2008: provide per year average, use of pronouns for the long-term average\n",
    "# swcharzel2011: not full text provided only abstract or so\n",
    "# zeng2013b: range with each with unit 234 mm to 240 mm"
   ]
  },
  {
   "cell_type": "code",
   "execution_count": 20,
   "id": "c8ab03dc-f975-4cf6-a35a-93a25023d022",
   "metadata": {
    "iooxa": {
     "id": {
      "block": "KaIkK5ZkHe6LgkdBpf8t",
      "project": "UQpQnbX8k8j6zcU3ZLtz",
      "version": 1
     },
     "outputId": {
      "block": "v8586RPhtHH8XKZArvly",
      "project": "UQpQnbX8k8j6zcU3ZLtz",
      "version": 1
     }
    }
   },
   "outputs": [
    {
     "data": {
      "text/plain": [
       "unavailable    94\n",
       "matched        60\n",
       "not parsed     15\n",
       "not matched     5\n",
       "Name: rainfall_status, dtype: int64"
      ]
     },
     "execution_count": 20,
     "metadata": {},
     "output_type": "execute_result"
    }
   ],
   "source": [
    "# group per publication to have meaningfull stats\n",
    "def mode(x):\n",
    "    return stats.mode(x).mode[0]\n",
    "dfmode = dfloc.groupby('ReferenceTag').agg(mode)\n",
    "dfmode['rainfall_status'].value_counts()"
   ]
  },
  {
   "cell_type": "code",
   "execution_count": 21,
   "id": "2e80c167-a9d3-4860-9088-e234a7e35aae",
   "metadata": {
    "iooxa": {
     "id": {
      "block": "6Jg3NlG8aI45KMp3vwiz",
      "project": "UQpQnbX8k8j6zcU3ZLtz",
      "version": 1
     },
     "outputId": {
      "block": "akT936sZVMMghp3AYXfX",
      "project": "UQpQnbX8k8j6zcU3ZLtz",
      "version": 1
     }
    }
   },
   "outputs": [
    {
     "name": "stdout",
     "output_type": "stream",
     "text": [
      "recall: 0.81\n",
      "precision: 1.00\n",
      "F1 score: 0.90\n",
      "match: 0.89\n"
     ]
    },
    {
     "data": {
      "text/html": [
       "<div>\n",
       "<style scoped>\n",
       "    .dataframe tbody tr th:only-of-type {\n",
       "        vertical-align: middle;\n",
       "    }\n",
       "\n",
       "    .dataframe tbody tr th {\n",
       "        vertical-align: top;\n",
       "    }\n",
       "\n",
       "    .dataframe thead th {\n",
       "        text-align: right;\n",
       "    }\n",
       "</style>\n",
       "<table border=\"1\" class=\"dataframe\">\n",
       "  <thead>\n",
       "    <tr style=\"text-align: right;\">\n",
       "      <th></th>\n",
       "      <th>step</th>\n",
       "      <th>recall</th>\n",
       "      <th>f1</th>\n",
       "      <th>match</th>\n",
       "      <th>n</th>\n",
       "      <th>precision</th>\n",
       "      <th>method</th>\n",
       "    </tr>\n",
       "  </thead>\n",
       "  <tbody>\n",
       "    <tr>\n",
       "      <th>0</th>\n",
       "      <td>Soil type (WRB/USDA)</td>\n",
       "      <td>1.000000</td>\n",
       "      <td>0.959184</td>\n",
       "      <td>0.954023</td>\n",
       "      <td>174</td>\n",
       "      <td>0.921569</td>\n",
       "      <td>Regex + dict.</td>\n",
       "    </tr>\n",
       "    <tr>\n",
       "      <th>1</th>\n",
       "      <td>Soil texture (USDA)</td>\n",
       "      <td>0.878049</td>\n",
       "      <td>0.911392</td>\n",
       "      <td>0.833333</td>\n",
       "      <td>174</td>\n",
       "      <td>0.947368</td>\n",
       "      <td>Regex + dict.</td>\n",
       "    </tr>\n",
       "    <tr>\n",
       "      <th>2</th>\n",
       "      <td>Rainfall</td>\n",
       "      <td>0.812500</td>\n",
       "      <td>0.896552</td>\n",
       "      <td>0.885057</td>\n",
       "      <td>174</td>\n",
       "      <td>1.000000</td>\n",
       "      <td>Regex</td>\n",
       "    </tr>\n",
       "  </tbody>\n",
       "</table>\n",
       "</div>"
      ],
      "text/plain": [
       "                   step    recall        f1     match    n  precision  \\\n",
       "0  Soil type (WRB/USDA)  1.000000  0.959184  0.954023  174   0.921569   \n",
       "1   Soil texture (USDA)  0.878049  0.911392  0.833333  174   0.947368   \n",
       "2              Rainfall  0.812500  0.896552  0.885057  174   1.000000   \n",
       "\n",
       "          method  \n",
       "0  Regex + dict.  \n",
       "1  Regex + dict.  \n",
       "2          Regex  "
      ]
     },
     "execution_count": 21,
     "metadata": {},
     "output_type": "execute_result"
    }
   ],
   "source": [
    "# scores on the selection of relevant information\n",
    "df = dfmode['rainfall_status'].value_counts()\n",
    "n = df.sum()\n",
    "df['relevant'] = df['matched'] + df['not matched']\n",
    "tp = df['relevant']\n",
    "fp = df['parsed'] if 'parsed' in df.index else 0\n",
    "tn = df['unavailable'] if 'unavailable' in df.index else 0\n",
    "fn = df['not parsed'] if 'not parsed' in df.index else 0\n",
    "\n",
    "recall = tp/(tp + fn)\n",
    "precision = tp/(tp + fp)\n",
    "f1 = 2 * (precision * recall)/(precision + recall)\n",
    "match = (df['matched'] + df['unavailable'])/(tp+tn+fn+fp)\n",
    "print('recall: {:.2f}'.format(recall))\n",
    "print('precision: {:.2f}'.format(precision))\n",
    "print('F1 score: {:.2f}'.format(f1))\n",
    "print('match: {:.2f}'.format(match))\n",
    "dfscore = dfscore.append(\n",
    "    {'step': 'Rainfall',\n",
    "     'n': n,\n",
    "     'recall': recall,\n",
    "     'precision': precision,\n",
    "     'f1': f1,\n",
    "     'match': match,\n",
    "     'method': 'Regex'},\n",
    "    ignore_index=True)\n",
    "dfscore"
   ]
  },
  {
   "cell_type": "markdown",
   "id": "14fce0a2-e138-468c-83da-d0d8e8517c4b",
   "metadata": {
    "iooxa": {
     "id": {
      "block": "3TzuQPmQwMccyYpJtyPO",
      "project": "UQpQnbX8k8j6zcU3ZLtz",
      "version": 1
     }
    }
   },
   "source": [
    "### Extract altitude"
   ]
  },
  {
   "cell_type": "code",
   "execution_count": 22,
   "id": "ed55a888-c39d-4e15-a5e1-32bfe13942e8",
   "metadata": {
    "iooxa": {
     "id": {
      "block": "gTkbUjGtomkIJrHQxDBY",
      "project": "UQpQnbX8k8j6zcU3ZLtz",
      "version": 1
     },
     "outputId": {
      "block": "7GUGi9R4ILRfXyGfgtxR",
      "project": "UQpQnbX8k8j6zcU3ZLtz",
      "version": 1
     }
    }
   },
   "outputs": [
    {
     "data": {
      "application/vnd.jupyter.widget-view+json": {
       "model_id": "321552ef85ae42ebbf3bb0ff95093e2f",
       "version_major": 2,
       "version_minor": 0
      },
      "text/plain": [
       "  0%|          | 0/154 [00:00<?, ?it/s]"
      ]
     },
     "metadata": {},
     "output_type": "display_data"
    }
   ],
   "source": [
    "# extract altitude/elevation (but we don't have labelled values)\n",
    "for i, text in tqdm(enumerate(rawdocs), total=len(rawdocs)):\n",
    "    match1 = re.findall('((\\d+)\\s?m[a-z\\s]+(altitude|elevation))', text.replace('\\n',' ').lower())\n",
    "    match2 = re.findall('((altitude|elevation)[a-z\\s]+(\\d+)\\s?m)', text.replace('\\n',' ').lower())\n",
    "    match = match1 + match2\n",
    "    doc = text.replace('\\n', ' ').lower()\n",
    "    matchd = [doc[m.start()-20:m.end()+20] for m in re.finditer('(altitude|elevation)', doc)]\n",
    "    #print(dfpub.loc[i, 'fname'], matchd, match)"
   ]
  },
  {
   "cell_type": "markdown",
   "id": "6e12118a-bd4e-43df-9a41-798cb53fcfe6",
   "metadata": {
    "iooxa": {
     "id": {
      "block": "0jVhs5lw6lN87dzlYqSJ",
      "project": "UQpQnbX8k8j6zcU3ZLtz",
      "version": 1
     }
    }
   },
   "source": [
    "### Extract disk diameter"
   ]
  },
  {
   "cell_type": "code",
   "execution_count": 23,
   "id": "852fb519-4d98-4978-9a6e-a67cedb488ed",
   "metadata": {
    "iooxa": {
     "id": {
      "block": "WbUL0tWG1CuZUitEULBs",
      "project": "UQpQnbX8k8j6zcU3ZLtz",
      "version": 1
     },
     "outputId": {
      "block": "yABTIzzNlzIk6yHpeXvb",
      "project": "UQpQnbX8k8j6zcU3ZLtz",
      "version": 1
     }
    }
   },
   "outputs": [
    {
     "data": {
      "application/vnd.jupyter.widget-view+json": {
       "model_id": "4d55606948b64f9bac4c948178d1f15d",
       "version_major": 2,
       "version_minor": 0
      },
      "text/plain": [
       "  0%|          | 0/154 [00:00<?, ?it/s]"
      ]
     },
     "metadata": {},
     "output_type": "display_data"
    }
   ],
   "source": [
    "# extract disk radius\n",
    "dfmtf['diameter_status'] = 'unavailable'\n",
    "dfmtf.loc[dfmtf['diameter'].notnull(), 'diameter_status'] = 'not parsed'  # available in db but not parsed\n",
    "dfmtf['diameter_nlp'] = pd.NA\n",
    "for i, doc in tqdm(enumerate(rawdocs), total=len(rawdocs)):\n",
    "    text = doc.replace('\\n',' ').lower()\n",
    "    match1 = re.findall('(radius|diameter)[a-z\\s]+(\\d+\\.?\\d+)\\s?(cm|mm)', text)\n",
    "    match2 = re.findall('(\\d+\\.?\\d+)\\s?(cm|mm)[a-z\\s]+(radius|diameter)', text)\n",
    "    match = match1 + match2\n",
    "    umatches = []\n",
    "    for a in match1:\n",
    "        val = float(a[1])\n",
    "        val = val/10 if a[2] == 'mm' else val\n",
    "        val = val * 2 if a[0] == 'radius' else val\n",
    "        umatches.append(val)\n",
    "    for a in match2:\n",
    "        val = float(a[0])\n",
    "        val = val/10 if a[1] == 'mm' else val\n",
    "        val = val * 2 if a[2] == 'radius' else val\n",
    "        umatches.append(val)\n",
    "    if len(umatches) > 0:\n",
    "        # check against manually inputed values\n",
    "        ie = dfmtf['ReferenceTag'] == dfpub.loc[i, 'ReferenceTag']\n",
    "        dfmtf.loc[ie, 'diameter_nlp'] = '|'.join([str(a) for a in umatches])\n",
    "        for j in np.where(ie)[0]:  # index in dfmtf\n",
    "            if dfmtf.loc[j, 'diameter_status'] == 'unavailable':\n",
    "                dfmtf.loc[j, 'diameter_status'] = 'parsed'\n",
    "            elif dfmtf.loc[j, 'diameter_status'] == 'not parsed':\n",
    "                dfmtf.loc[j, 'diameter_status'] = 'not matched'\n",
    "            if pd.isna(dfmtf.loc[j, 'diameter']) == False:\n",
    "                if dfmtf.loc[j, 'diameter'] in umatches:\n",
    "                    dfmtf.loc[j, 'diameter_status'] = 'matched'\n",
    "\n",
    "            # selective print for debugging\n",
    "            if dfmtf.loc[j, 'diameter_status'] in []:#'not matched', 'parsed']:\n",
    "                print(dfmtf.loc[j, 'diameter_status'], i, '--', j, '++++', dfmtf.loc[j, 'diameter'], umatches,\n",
    "                      '<<', dfpub.loc[i, 'fname'])\n",
    "    else:\n",
    "        if False:  # set to True for debuggin\n",
    "            for j in np.where(ie)[0]:\n",
    "                # if the db says that we have something but the nlp hasn't detected it\n",
    "                if pd.isna(dfmtf.loc[j, 'diameter']) == False:\n",
    "                    print('not parsed', '> label:', dfmtf.loc[j, 'diameter'], '| nlp: []',\n",
    "                          '<<', dfpub.loc[i, 'fname'], '>>', dfmtf.loc[j, 'MTFName'])\n",
    "\n",
    "# comments\n"
   ]
  },
  {
   "cell_type": "code",
   "execution_count": 24,
   "id": "58e62c00-30b1-4be7-b41a-b2e47f0b4238",
   "metadata": {
    "iooxa": {
     "id": {
      "block": "qrUo8taukcmLUcZaag4s",
      "project": "UQpQnbX8k8j6zcU3ZLtz",
      "version": 1
     },
     "outputId": {
      "block": "ygZddoRnZlvigtCZCLxP",
      "project": "UQpQnbX8k8j6zcU3ZLtz",
      "version": 1
     }
    }
   },
   "outputs": [
    {
     "data": {
      "text/plain": [
       "matched        59\n",
       "not parsed     49\n",
       "not matched    35\n",
       "parsed         19\n",
       "unavailable    12\n",
       "Name: diameter_status, dtype: int64"
      ]
     },
     "execution_count": 24,
     "metadata": {},
     "output_type": "execute_result"
    }
   ],
   "source": [
    "# group per publication to have meaningfull stats\n",
    "def mode(x):\n",
    "    return stats.mode(x).mode[0]\n",
    "dfmode = dfmtf.groupby('ReferenceTag').agg(mode)\n",
    "dfmode['diameter_status'].value_counts()"
   ]
  },
  {
   "cell_type": "code",
   "execution_count": 25,
   "id": "a958be7b-0fca-4d26-9483-72cde8504014",
   "metadata": {
    "iooxa": {
     "id": {
      "block": "UaF0PI0TWjenzBzHHJXw",
      "project": "UQpQnbX8k8j6zcU3ZLtz",
      "version": 1
     },
     "outputId": {
      "block": "TZWX18zR36c0pqI8Rn5a",
      "project": "UQpQnbX8k8j6zcU3ZLtz",
      "version": 1
     }
    }
   },
   "outputs": [
    {
     "name": "stdout",
     "output_type": "stream",
     "text": [
      "recall: 0.66\n",
      "precision: 0.83\n",
      "F1 score: 0.73\n",
      "match: 0.41\n"
     ]
    },
    {
     "data": {
      "text/html": [
       "<div>\n",
       "<style scoped>\n",
       "    .dataframe tbody tr th:only-of-type {\n",
       "        vertical-align: middle;\n",
       "    }\n",
       "\n",
       "    .dataframe tbody tr th {\n",
       "        vertical-align: top;\n",
       "    }\n",
       "\n",
       "    .dataframe thead th {\n",
       "        text-align: right;\n",
       "    }\n",
       "</style>\n",
       "<table border=\"1\" class=\"dataframe\">\n",
       "  <thead>\n",
       "    <tr style=\"text-align: right;\">\n",
       "      <th></th>\n",
       "      <th>step</th>\n",
       "      <th>recall</th>\n",
       "      <th>f1</th>\n",
       "      <th>match</th>\n",
       "      <th>n</th>\n",
       "      <th>precision</th>\n",
       "      <th>method</th>\n",
       "    </tr>\n",
       "  </thead>\n",
       "  <tbody>\n",
       "    <tr>\n",
       "      <th>0</th>\n",
       "      <td>Soil type (WRB/USDA)</td>\n",
       "      <td>1.000000</td>\n",
       "      <td>0.959184</td>\n",
       "      <td>0.954023</td>\n",
       "      <td>174</td>\n",
       "      <td>0.921569</td>\n",
       "      <td>Regex + dict.</td>\n",
       "    </tr>\n",
       "    <tr>\n",
       "      <th>1</th>\n",
       "      <td>Soil texture (USDA)</td>\n",
       "      <td>0.878049</td>\n",
       "      <td>0.911392</td>\n",
       "      <td>0.833333</td>\n",
       "      <td>174</td>\n",
       "      <td>0.947368</td>\n",
       "      <td>Regex + dict.</td>\n",
       "    </tr>\n",
       "    <tr>\n",
       "      <th>2</th>\n",
       "      <td>Rainfall</td>\n",
       "      <td>0.812500</td>\n",
       "      <td>0.896552</td>\n",
       "      <td>0.885057</td>\n",
       "      <td>174</td>\n",
       "      <td>1.000000</td>\n",
       "      <td>Regex</td>\n",
       "    </tr>\n",
       "    <tr>\n",
       "      <th>3</th>\n",
       "      <td>Disk diameter</td>\n",
       "      <td>0.657343</td>\n",
       "      <td>0.734375</td>\n",
       "      <td>0.408046</td>\n",
       "      <td>174</td>\n",
       "      <td>0.831858</td>\n",
       "      <td>Regex</td>\n",
       "    </tr>\n",
       "  </tbody>\n",
       "</table>\n",
       "</div>"
      ],
      "text/plain": [
       "                   step    recall        f1     match    n  precision  \\\n",
       "0  Soil type (WRB/USDA)  1.000000  0.959184  0.954023  174   0.921569   \n",
       "1   Soil texture (USDA)  0.878049  0.911392  0.833333  174   0.947368   \n",
       "2              Rainfall  0.812500  0.896552  0.885057  174   1.000000   \n",
       "3         Disk diameter  0.657343  0.734375  0.408046  174   0.831858   \n",
       "\n",
       "          method  \n",
       "0  Regex + dict.  \n",
       "1  Regex + dict.  \n",
       "2          Regex  \n",
       "3          Regex  "
      ]
     },
     "execution_count": 25,
     "metadata": {},
     "output_type": "execute_result"
    }
   ],
   "source": [
    "# scores on the selection of relevant information\n",
    "df = dfmode['diameter_status'].value_counts()\n",
    "n = df.sum()\n",
    "df['relevant'] = df['matched'] + df['not matched']\n",
    "tp = df['relevant']\n",
    "fp = df['parsed'] if 'parsed' in df.index else 0\n",
    "tn = df['unavailable'] if 'unavailable' in df.index else 0\n",
    "fn = df['not parsed'] if 'not parsed' in df.index else 0\n",
    "\n",
    "recall = tp/(tp + fn)\n",
    "precision = tp/(tp + fp)\n",
    "f1 = 2 * (precision * recall)/(precision + recall)\n",
    "match = (df['matched'] + df['unavailable'])/(tp+tn+fn+fp)\n",
    "print('recall: {:.2f}'.format(recall))\n",
    "print('precision: {:.2f}'.format(precision))\n",
    "print('F1 score: {:.2f}'.format(f1))\n",
    "print('match: {:.2f}'.format(match))\n",
    "dfscore = dfscore.append(\n",
    "    {'step': 'Disk diameter',\n",
    "     'n': n,\n",
    "     'recall': recall,\n",
    "     'precision': precision,\n",
    "     'f1': f1,\n",
    "     'match': match,\n",
    "     'method': 'Regex'},\n",
    "    ignore_index=True)\n",
    "dfscore"
   ]
  },
  {
   "cell_type": "markdown",
   "id": "04220a82-eca0-4f3f-b2a5-f82bc59322f5",
   "metadata": {
    "iooxa": {
     "id": {
      "block": "ejz4kT1yJrG5tOFBEOoA",
      "project": "UQpQnbX8k8j6zcU3ZLtz",
      "version": 1
     }
    }
   },
   "source": [
    "### Extract tensions\n",
    "\n",
    "Issue: most tensions are only given in the graphs or in tables (so hard to parse). Few are given in the text and we would need manual labelling to obtain a score."
   ]
  },
  {
   "cell_type": "code",
   "execution_count": 26,
   "id": "cbc2711d-f86a-4a1d-af74-2ec034cce224",
   "metadata": {
    "iooxa": {
     "id": {
      "block": "4XhcDT4Z2N3K8sM6FpPG",
      "project": "UQpQnbX8k8j6zcU3ZLtz",
      "version": 1
     },
     "outputId": {
      "block": "2wkAAdbsxFwmUhiAjvaC",
      "project": "UQpQnbX8k8j6zcU3ZLtz",
      "version": 1
     }
    }
   },
   "outputs": [
    {
     "name": "stdout",
     "output_type": "stream",
     "text": [
      "9 refs with multiple Tmin/Tmax\n"
     ]
    },
    {
     "data": {
      "application/vnd.jupyter.widget-view+json": {
       "model_id": "4dd1d04426e942bb9070b752fb1aa6af",
       "version_major": 2,
       "version_minor": 0
      },
      "text/plain": [
       "  0%|          | 0/154 [00:00<?, ?it/s]"
      ]
     },
     "metadata": {},
     "output_type": "display_data"
    }
   ],
   "source": [
    "# extract tensions used\n",
    "dfm = dfpub.merge(dfexp).merge(dfmtf)\n",
    "dfm['Tmin_nlp'] = np.nan\n",
    "dfm['Tmax_nlp'] = np.nan\n",
    "dfm['Tmin_status'] = 'not available'\n",
    "dfm['Tmax_status'] = 'not available'\n",
    "dfm.loc[dfm['Tmin'].notnull(), 'Tmin_status'] = 'not parsed'\n",
    "dfm.loc[dfm['Tmax'].notnull(), 'Tmax_status'] = 'not parsed'\n",
    "# number of references with different Tmin/Tmax (std is not 0)\n",
    "print(dfm.groupby('ReferenceTag').std()['Tmax'].abs().gt(0).sum(), 'refs with multiple Tmin/Tmax')\n",
    "\n",
    "for i, doc in tqdm(enumerate(rawdocs), total=len(rawdocs)):\n",
    "    text = doc.replace('\\n', ' ').lower()\n",
    "    #matches = re.findall('(\\-?\\s?\\d{1,3},\\s)+\\s+and\\s+(\\-?\\s?\\d{1,3}\\s(mm|cm))', text)\n",
    "    text = text.replace(' and ', ', ')\n",
    "    matches = re.findall('((?:(?:-?\\d+),?\\s){2,})\\s?(mm|cm|kPa)', text)\n",
    "    tmin, tmax = np.nan, np.nan\n",
    "    if len(matches) > 0:\n",
    "        if ',' in matches[0][0]:\n",
    "            tt = np.abs([float(a.strip()) for a in matches[0][0].split(',')])\n",
    "            if matches[0][-1] == 'cm':\n",
    "                tt = [10*t for t in tt]\n",
    "            elif matches[0][-1] == 'kPa':\n",
    "                tt = [101.97162129779*t for t in tt]\n",
    "            tmin = np.min(tt)\n",
    "            tmax = np.max(tt)\n",
    "    iref = dfm['ReferenceTag'].eq(dfpub.loc[i, 'ReferenceTag'])\n",
    "    tensions = dfm[iref][['Tmin', 'Tmax']].values[0, :]\n",
    "    if pd.isna(tmin) is False:\n",
    "        if tmin == tensions[0]:\n",
    "            dfm.loc[iref, 'Tmin_status'] = 'matched'\n",
    "        else:\n",
    "            dfm.loc[iref, 'Tmin_status'] = 'not matched'\n",
    "    if pd.isna(tmax) is False:\n",
    "        if tmax == tensions[1]:\n",
    "            dfm.loc[iref, 'Tmax_status'] = 'matched'\n",
    "        else:\n",
    "            dfm.loc[iref, 'Tmax_status'] = 'not matched'\n",
    "    #print(dfpub.loc[i, 'fname'], tensions, ' | nlp:', [tmin, tmax], matches)\n",
    "\n",
    "# comments\n"
   ]
  },
  {
   "cell_type": "code",
   "execution_count": 27,
   "id": "3d4a3fd1-7c71-4b20-887f-78f29e0dc399",
   "metadata": {
    "iooxa": {
     "id": {
      "block": "OSmhYNEbRf8lGl2Yqygp",
      "project": "UQpQnbX8k8j6zcU3ZLtz",
      "version": 1
     },
     "outputId": {
      "block": "GXgtBavDNzu58YBBjmkV",
      "project": "UQpQnbX8k8j6zcU3ZLtz",
      "version": 1
     }
    }
   },
   "outputs": [
    {
     "name": "stdout",
     "output_type": "stream",
     "text": [
      "14 references have both Tmin and Tmax matched\n"
     ]
    }
   ],
   "source": [
    "# for how many have we got both Tmin and Tmax matched\n",
    "df = dfm.groupby('ReferenceTag').first()\n",
    "n = (df['Tmin_status'].eq('matched') & df['Tmax_status'].eq('matched')).sum()\n",
    "print(n, 'references have both Tmin and Tmax matched')"
   ]
  },
  {
   "cell_type": "code",
   "execution_count": 28,
   "id": "1f5d3100-229c-4e2b-a4e1-95554fb0431b",
   "metadata": {
    "iooxa": {
     "id": {
      "block": "Ya7eBDwHcQSAc0Femmx2",
      "project": "UQpQnbX8k8j6zcU3ZLtz",
      "version": 1
     },
     "outputId": {
      "block": "4EjTuczB0k3Zi6FSuuf2",
      "project": "UQpQnbX8k8j6zcU3ZLtz",
      "version": 1
     }
    }
   },
   "outputs": [
    {
     "data": {
      "text/plain": [
       "matched        59\n",
       "not matched    35\n",
       "not parsed     32\n",
       "parsed         19\n",
       "unavailable     9\n",
       "Name: diameter_status, dtype: int64"
      ]
     },
     "execution_count": 28,
     "metadata": {},
     "output_type": "execute_result"
    }
   ],
   "source": [
    "# group per publication to have meaningfull stats\n",
    "def mode(x):\n",
    "    return stats.mode(x).mode[0]\n",
    "dfmode = dfm.groupby('ReferenceTag').agg(mode)\n",
    "dfmode['diameter_status'].value_counts()"
   ]
  },
  {
   "cell_type": "code",
   "execution_count": 29,
   "id": "dc15c373-9869-4444-add9-c324d31cc91f",
   "metadata": {
    "iooxa": {
     "id": {
      "block": "2XM7D8yzhy87hxvHOz7T",
      "project": "UQpQnbX8k8j6zcU3ZLtz",
      "version": 1
     },
     "outputId": {
      "block": "ex1iYvZ2PExWBkphIg3E",
      "project": "UQpQnbX8k8j6zcU3ZLtz",
      "version": 1
     }
    }
   },
   "outputs": [
    {
     "name": "stdout",
     "output_type": "stream",
     "text": [
      "recall: 0.56\n",
      "precision: 1.00\n",
      "F1 score: 0.72\n",
      "match: 0.31\n"
     ]
    },
    {
     "data": {
      "text/html": [
       "<div>\n",
       "<style scoped>\n",
       "    .dataframe tbody tr th:only-of-type {\n",
       "        vertical-align: middle;\n",
       "    }\n",
       "\n",
       "    .dataframe tbody tr th {\n",
       "        vertical-align: top;\n",
       "    }\n",
       "\n",
       "    .dataframe thead th {\n",
       "        text-align: right;\n",
       "    }\n",
       "</style>\n",
       "<table border=\"1\" class=\"dataframe\">\n",
       "  <thead>\n",
       "    <tr style=\"text-align: right;\">\n",
       "      <th></th>\n",
       "      <th>step</th>\n",
       "      <th>recall</th>\n",
       "      <th>f1</th>\n",
       "      <th>match</th>\n",
       "      <th>n</th>\n",
       "      <th>precision</th>\n",
       "      <th>method</th>\n",
       "    </tr>\n",
       "  </thead>\n",
       "  <tbody>\n",
       "    <tr>\n",
       "      <th>0</th>\n",
       "      <td>Soil type (WRB/USDA)</td>\n",
       "      <td>1.000000</td>\n",
       "      <td>0.959184</td>\n",
       "      <td>0.954023</td>\n",
       "      <td>174</td>\n",
       "      <td>0.921569</td>\n",
       "      <td>Regex + dict.</td>\n",
       "    </tr>\n",
       "    <tr>\n",
       "      <th>1</th>\n",
       "      <td>Soil texture (USDA)</td>\n",
       "      <td>0.878049</td>\n",
       "      <td>0.911392</td>\n",
       "      <td>0.833333</td>\n",
       "      <td>174</td>\n",
       "      <td>0.947368</td>\n",
       "      <td>Regex + dict.</td>\n",
       "    </tr>\n",
       "    <tr>\n",
       "      <th>2</th>\n",
       "      <td>Rainfall</td>\n",
       "      <td>0.812500</td>\n",
       "      <td>0.896552</td>\n",
       "      <td>0.885057</td>\n",
       "      <td>174</td>\n",
       "      <td>1.000000</td>\n",
       "      <td>Regex</td>\n",
       "    </tr>\n",
       "    <tr>\n",
       "      <th>3</th>\n",
       "      <td>Disk diameter</td>\n",
       "      <td>0.657343</td>\n",
       "      <td>0.734375</td>\n",
       "      <td>0.408046</td>\n",
       "      <td>174</td>\n",
       "      <td>0.831858</td>\n",
       "      <td>Regex</td>\n",
       "    </tr>\n",
       "    <tr>\n",
       "      <th>4</th>\n",
       "      <td>Tensions (Tmax)</td>\n",
       "      <td>0.564935</td>\n",
       "      <td>0.721992</td>\n",
       "      <td>0.310345</td>\n",
       "      <td>154</td>\n",
       "      <td>1.000000</td>\n",
       "      <td>Regex</td>\n",
       "    </tr>\n",
       "  </tbody>\n",
       "</table>\n",
       "</div>"
      ],
      "text/plain": [
       "                   step    recall        f1     match    n  precision  \\\n",
       "0  Soil type (WRB/USDA)  1.000000  0.959184  0.954023  174   0.921569   \n",
       "1   Soil texture (USDA)  0.878049  0.911392  0.833333  174   0.947368   \n",
       "2              Rainfall  0.812500  0.896552  0.885057  174   1.000000   \n",
       "3         Disk diameter  0.657343  0.734375  0.408046  174   0.831858   \n",
       "4       Tensions (Tmax)  0.564935  0.721992  0.310345  154   1.000000   \n",
       "\n",
       "          method  \n",
       "0  Regex + dict.  \n",
       "1  Regex + dict.  \n",
       "2          Regex  \n",
       "3          Regex  \n",
       "4          Regex  "
      ]
     },
     "execution_count": 29,
     "metadata": {},
     "output_type": "execute_result"
    }
   ],
   "source": [
    "# scores on the selection of relevant information\n",
    "df = dfmode['Tmax_status'].value_counts()\n",
    "n = df.sum()\n",
    "df['relevant'] = df['matched'] + df['not matched']\n",
    "tp = df['relevant']\n",
    "fp = df['parsed'] if 'parsed' in df.index else 0\n",
    "tn = df['unavailable'] if 'unavailable' in df.index else 0\n",
    "fn = df['not parsed'] if 'not parsed' in df.index else 0\n",
    "\n",
    "recall = tp/(tp + fn)\n",
    "precision = tp/(tp + fp)\n",
    "f1 = 2 * (precision * recall)/(precision + recall)\n",
    "match = df['matched']/df['relevant']\n",
    "print('recall: {:.2f}'.format(recall))\n",
    "print('precision: {:.2f}'.format(precision))\n",
    "print('F1 score: {:.2f}'.format(f1))\n",
    "print('match: {:.2f}'.format(match))\n",
    "dfscore = dfscore.append(\n",
    "    {'step': 'Tensions (Tmax)',\n",
    "     'n': n,  # note that not all references have data in dfmtf\n",
    "     'recall': recall,\n",
    "     'precision': precision,\n",
    "     'f1': f1,\n",
    "     'match': match, \n",
    "     'method': 'Regex'},\n",
    "    ignore_index=True)\n",
    "dfscore"
   ]
  },
  {
   "cell_type": "markdown",
   "id": "fcffc8af-a70e-45fd-bde1-1bce57f8622a",
   "metadata": {
    "iooxa": {
     "id": {
      "block": "99iPLjWvNDe9g3r8DUvi",
      "project": "UQpQnbX8k8j6zcU3ZLtz",
      "version": 1
     }
    }
   },
   "source": [
    "### Extract GPS coordinates"
   ]
  },
  {
   "cell_type": "code",
   "execution_count": 30,
   "id": "0bb49b1c-02d7-49dc-8525-e01b8e4e4f6a",
   "metadata": {
    "iooxa": {
     "id": {
      "block": "QbYqC6xV6ZBOeFKWEbdd",
      "project": "UQpQnbX8k8j6zcU3ZLtz",
      "version": 1
     },
     "outputId": null
    }
   },
   "outputs": [],
   "source": [
    "# convert to decimal degree\n",
    "def dms2dec(out):\n",
    "    # string, deg, symbol, minute, symbol, second, symbol, direction\n",
    "    deg = float(out[1]) if out[1] != '' else 0\n",
    "    mnt = float(out[3]) if out[3] != '' else 0\n",
    "    sec = float(out[5]) if out[5] != '' else 0\n",
    "    dec = deg + mnt/60 + sec/60/60\n",
    "    dec = -dec if (out[-1] == 'S')|(out[-1] == 'W')|(out[-1] == 'O') else dec\n",
    "    return dec"
   ]
  },
  {
   "cell_type": "code",
   "execution_count": 31,
   "id": "2093734f-567c-41b1-b4c9-23d93e1c841d",
   "metadata": {
    "iooxa": {
     "id": {
      "block": "BuWb06CpKU0WWLPXX9uh",
      "project": "UQpQnbX8k8j6zcU3ZLtz",
      "version": 1
     },
     "outputId": {
      "block": "IvfmQDPH3ejNnfth0IlS",
      "project": "UQpQnbX8k8j6zcU3ZLtz",
      "version": 1
     }
    }
   },
   "outputs": [
    {
     "data": {
      "application/vnd.jupyter.widget-view+json": {
       "model_id": "423245a414384f678f4e83b10d42f707",
       "version_major": 2,
       "version_minor": 0
      },
      "text/plain": [
       "  0%|          | 0/154 [00:00<?, ?it/s]"
      ]
     },
     "metadata": {},
     "output_type": "display_data"
    }
   ],
   "source": [
    "# detect GPS coordinates\n",
    "coord = []\n",
    "dfloc['location_status'] = 'unavailable'  # not in db\n",
    "dfloc.loc[dfloc['lat'].notnull(), 'location_status'] = 'not parsed'  # available in db but not parsed\n",
    "for i, text in tqdm(enumerate(rawdocs), total=len(rawdocs)):\n",
    "    # try to match DMS notation\n",
    "    text = text.replace('\\n',' ').replace('\\x04','*').replace('\\x03','*')\n",
    "    text = text.replace('\\x01','*').replace(',','.') # \\x04 is EOT End Of Transmission\n",
    "    latTime = re.findall(\"(([+-]?[1-8]?\\d|[+-]?90)([°◦*oO])\\s?(\\d{1,2})(.)\\s?(\\d{1,2}(\\.\\d+)?)?.?.?\\s?(latitude\\s)?([NS]))\", text)\n",
    "    lonTime = re.findall(\"(([+-]?180|[+-]?1[0-7]\\d|[+-]?[1-9]?\\d)([°◦*oO])\\s?(\\d{1,2}?)(.)\\s?(\\d{1,2}(\\.\\d+)?)?.?.?\\s?(longitude\\s)?([WEO]))\", text)\n",
    "\n",
    "    # sometimes the symbol for minutes is transformed in a zero\n",
    "    if len(latTime) > 0:\n",
    "        for l in range(len(latTime)):\n",
    "            a = latTime[l]\n",
    "            if a[3] == ' ':  # we would expect the symbol for minute\n",
    "                latTime[l] = a[:2] + (latTime[l][2][:-1],) + a[3:]  # remove last symbol\n",
    "    if len(lonTime) > 0:\n",
    "        for l in range(len(lonTime)):\n",
    "            a = lonTime[l]\n",
    "            if a[3] == ' ':  # we would expect the symbol for minute\n",
    "                lonTime[l] = a[:2] + (lonTime[l][2][:-1],) + a[3:]  # remove last symbol\n",
    "\n",
    "    # try some popular edge cases\n",
    "    if len(latTime) == 0:\n",
    "        latTime = re.findall(\"((\\d+)(8)(\\d{2,}))(['0V9])\\s?(\\d+\\.\\d+)?()\\s?(latitude\\s)?([NS])\", text)\n",
    "        lonTime = re.findall(\"((\\d+)(8)(\\d{2,}))(['0V9])\\s?(\\d+\\.\\d+)?()\\s?(longitude\\s)?([WOE])\", text)\n",
    "        \n",
    "    if len(latTime) == 0:\n",
    "        latTime = re.findall(\"(([NS])\\s(\\d+)(8)(\\d{2,}))(['0V9])\\s?(\\d+\\.\\d+)?()\", text)\n",
    "        lonTime = re.findall(\"(([WOE])\\s(\\d+)(8)(\\d{2,}))(['0V9])\\s?(\\d+\\.\\d+)?()\", text)\n",
    "        latTime = [a[1:] + (a[-1],) for a in latTime]\n",
    "        lonTime = [a[1:] + (a[-1],) for a in lonTime]\n",
    "\n",
    "    # convert to decimal degree\n",
    "    lats = [dms2dec(a) for a in latTime]\n",
    "    lons = [dms2dec(a) for a in lonTime]\n",
    "\n",
    "    # try to match decimal notation\n",
    "    if len(lats) == 0:\n",
    "        latDeg = re.findall(\"([+-]?(([1-8]?\\d|90)\\.\\d+)[°◦*oO⬚]?\\s?([NS]))\", text)\n",
    "        lonDeg = re.findall(\"([-+]?((180|1[0-7]\\d|[1-9]?\\d)\\.\\d+)[°◦*oO⬚]?\\s?([WEO]))\", text)\n",
    "        lats = [float(a[1]) if a[3] == 'N' else -float(a[1]) for a in latDeg]\n",
    "        lons = [float(a[1]) if a[3] == 'E' else -float(a[1]) for a in lonDeg]\n",
    "\n",
    "    # edge case of decimal notation\n",
    "    if len(lats) == 0:\n",
    "        latDeg = re.findall(\"(lat\\.\\s.(([+-]?[1-8]?\\d|[+-]?90)\\.\\d+)[°◦*oO⬚]?)\", text)\n",
    "        lonDeg = re.findall(\"(long\\.\\s.(([-+]?180|[-+]?1[0-7]\\d|[-+]?[1-9]?\\d)\\.\\d+)[°◦*oO⬚]?)\", text)\n",
    "        lats = [float(a[1]) for a in latDeg]\n",
    "        lons = [float(a[1]) for a in lonDeg]\n",
    "        \n",
    "    # rounding for easier comparison\n",
    "    lats = [np.round(a, 2) for a in lats]\n",
    "    lons = [np.round(a, 2) for a in lons]\n",
    "    \n",
    "    # save them\n",
    "    dfloc.loc[i, 'location_nlp'] = ','.join([str(a) for a in lats]) + '|' + \\\n",
    "                                   ','.join([str(a) for a in lons])\n",
    "    if len(latTime) > 0:\n",
    "        dfloc.loc[i, 'location_status'] = 'found'\n",
    "    \n",
    "    # check against manually inputed values\n",
    "    ie = dfloc['ReferenceTag'] == dfpub.loc[i, 'ReferenceTag']\n",
    "    for j in np.where(ie)[0]:  # index in dfloc\n",
    "        if len(lats) > 0:\n",
    "            if dfloc.loc[j, 'location_status'] == 'unavailable':\n",
    "                dfloc.loc[j, 'location_status'] = 'parsed'\n",
    "            elif dfloc.loc[j, 'location_status'] == 'not parsed':\n",
    "                dfloc.loc[j, 'location_status'] = 'not matched'\n",
    "            if np.nanmin(np.array(lats) - dfloc.loc[j, 'lat']) < 0.1:  # some tolerance\n",
    "                dfloc.loc[j, 'location_status'] = 'matched'\n",
    "        if dfloc.loc[j, 'location_status'] in []:#'parsed']:\n",
    "            print(dfloc.loc[j, 'location_status'], i, '--', j, '++++', dfloc.loc[j, 'lat'], lats,\n",
    "                  '||', latTime, latDeg, '<<', dfpub.loc[i, 'fname'])\n",
    "\n",
    "    #print(i, latTime, lonTime)\n",
    "    if len(latTime) > 0:\n",
    "        coord += latTime"
   ]
  },
  {
   "cell_type": "code",
   "execution_count": 32,
   "id": "0345269d-6398-4be7-af47-b82a1c85a5c0",
   "metadata": {
    "iooxa": {
     "id": {
      "block": "mO1X5Fs3QmKkgPvFSJaV",
      "project": "UQpQnbX8k8j6zcU3ZLtz",
      "version": 1
     },
     "outputId": {
      "block": "im45LpisV5oPNNR3xO2i",
      "project": "UQpQnbX8k8j6zcU3ZLtz",
      "version": 1
     }
    }
   },
   "outputs": [
    {
     "data": {
      "text/plain": [
       "matched        33.971292\n",
       "found          22.009569\n",
       "not parsed     13.875598\n",
       "unavailable    13.875598\n",
       "not matched    12.440191\n",
       "parsed          3.827751\n",
       "Name: location_status, dtype: float64"
      ]
     },
     "execution_count": 32,
     "metadata": {},
     "output_type": "execute_result"
    }
   ],
   "source": [
    "dfloc['location_status'].value_counts()/dfloc.shape[0]*100"
   ]
  },
  {
   "cell_type": "code",
   "execution_count": 33,
   "id": "b9aeefd0-3bc0-4cd6-b2ca-5824c583f119",
   "metadata": {
    "iooxa": {
     "id": {
      "block": "dFaArvUrHDJSYwldlcd1",
      "project": "UQpQnbX8k8j6zcU3ZLtz",
      "version": 1
     },
     "outputId": {
      "block": "XGhQshPzM69ylNwsz7sM",
      "project": "UQpQnbX8k8j6zcU3ZLtz",
      "version": 1
     }
    }
   },
   "outputs": [
    {
     "name": "stdout",
     "output_type": "stream",
     "text": [
      "recall: 0.77\n",
      "precision: 0.92\n",
      "F1 score: 0.84\n",
      "match: 0.73\n"
     ]
    },
    {
     "data": {
      "text/html": [
       "<div>\n",
       "<style scoped>\n",
       "    .dataframe tbody tr th:only-of-type {\n",
       "        vertical-align: middle;\n",
       "    }\n",
       "\n",
       "    .dataframe tbody tr th {\n",
       "        vertical-align: top;\n",
       "    }\n",
       "\n",
       "    .dataframe thead th {\n",
       "        text-align: right;\n",
       "    }\n",
       "</style>\n",
       "<table border=\"1\" class=\"dataframe\">\n",
       "  <thead>\n",
       "    <tr style=\"text-align: right;\">\n",
       "      <th></th>\n",
       "      <th>step</th>\n",
       "      <th>recall</th>\n",
       "      <th>f1</th>\n",
       "      <th>match</th>\n",
       "      <th>n</th>\n",
       "      <th>precision</th>\n",
       "      <th>method</th>\n",
       "    </tr>\n",
       "  </thead>\n",
       "  <tbody>\n",
       "    <tr>\n",
       "      <th>1</th>\n",
       "      <td>Soil texture (USDA)</td>\n",
       "      <td>0.878049</td>\n",
       "      <td>0.911392</td>\n",
       "      <td>0.833333</td>\n",
       "      <td>174</td>\n",
       "      <td>0.947368</td>\n",
       "      <td>Regex + dict.</td>\n",
       "    </tr>\n",
       "    <tr>\n",
       "      <th>2</th>\n",
       "      <td>Rainfall</td>\n",
       "      <td>0.812500</td>\n",
       "      <td>0.896552</td>\n",
       "      <td>0.885057</td>\n",
       "      <td>174</td>\n",
       "      <td>1.000000</td>\n",
       "      <td>Regex</td>\n",
       "    </tr>\n",
       "    <tr>\n",
       "      <th>3</th>\n",
       "      <td>Disk diameter</td>\n",
       "      <td>0.657343</td>\n",
       "      <td>0.734375</td>\n",
       "      <td>0.408046</td>\n",
       "      <td>174</td>\n",
       "      <td>0.831858</td>\n",
       "      <td>Regex</td>\n",
       "    </tr>\n",
       "    <tr>\n",
       "      <th>4</th>\n",
       "      <td>Tensions (Tmax)</td>\n",
       "      <td>0.564935</td>\n",
       "      <td>0.721992</td>\n",
       "      <td>0.310345</td>\n",
       "      <td>154</td>\n",
       "      <td>1.000000</td>\n",
       "      <td>Regex</td>\n",
       "    </tr>\n",
       "    <tr>\n",
       "      <th>5</th>\n",
       "      <td>Coordinates</td>\n",
       "      <td>0.769841</td>\n",
       "      <td>0.839827</td>\n",
       "      <td>0.731959</td>\n",
       "      <td>209</td>\n",
       "      <td>0.923810</td>\n",
       "      <td>Regex</td>\n",
       "    </tr>\n",
       "  </tbody>\n",
       "</table>\n",
       "</div>"
      ],
      "text/plain": [
       "                  step    recall        f1     match    n  precision  \\\n",
       "1  Soil texture (USDA)  0.878049  0.911392  0.833333  174   0.947368   \n",
       "2             Rainfall  0.812500  0.896552  0.885057  174   1.000000   \n",
       "3        Disk diameter  0.657343  0.734375  0.408046  174   0.831858   \n",
       "4      Tensions (Tmax)  0.564935  0.721992  0.310345  154   1.000000   \n",
       "5          Coordinates  0.769841  0.839827  0.731959  209   0.923810   \n",
       "\n",
       "          method  \n",
       "1  Regex + dict.  \n",
       "2          Regex  \n",
       "3          Regex  \n",
       "4          Regex  \n",
       "5          Regex  "
      ]
     },
     "execution_count": 33,
     "metadata": {},
     "output_type": "execute_result"
    }
   ],
   "source": [
    "# scores on the selection of relevant information\n",
    "df = dfloc['location_status'].value_counts()\n",
    "n = df.sum()\n",
    "df['relevant'] = df['matched'] + df['not matched']\n",
    "tp = df['relevant']\n",
    "fp = df['parsed'] if 'parsed' in df.index else 0\n",
    "tn = df['unavailable'] if 'unavailable' in df.index else 0\n",
    "fn = df['not parsed']\n",
    "\n",
    "recall = tp/(tp + fn)\n",
    "precision = tp/(tp + fp)\n",
    "f1 = 2 * (precision * recall)/(precision + recall)\n",
    "match = df['matched']/df['relevant']\n",
    "print('recall: {:.2f}'.format(recall))\n",
    "print('precision: {:.2f}'.format(precision))\n",
    "print('F1 score: {:.2f}'.format(f1))\n",
    "print('match: {:.2f}'.format(match))\n",
    "dfscore = dfscore.append(\n",
    "    {'step': 'Coordinates',\n",
    "     'n': n,\n",
    "     'recall': recall,\n",
    "     'precision': precision,\n",
    "     'f1': f1,\n",
    "     'match': match,\n",
    "     'method': 'Regex',\n",
    "    }, ignore_index=True)\n",
    "dfscore.tail()"
   ]
  },
  {
   "cell_type": "code",
   "execution_count": 34,
   "id": "a6b300ad-10a7-465e-99bc-c5b2055f7027",
   "metadata": {
    "iooxa": {
     "id": {
      "block": "b5wNQy0nx5xEbpoib2dp",
      "project": "UQpQnbX8k8j6zcU3ZLtz",
      "version": 1
     },
     "outputId": {
      "block": "vMKdbI9tp4cFaDuTQ4q5",
      "project": "UQpQnbX8k8j6zcU3ZLtz",
      "version": 1
     }
    }
   },
   "outputs": [
    {
     "data": {
      "text/html": [
       "<style  type=\"text/css\" >\n",
       "</style><table id=\"T_e02e8_\" ><thead>    <tr>        <th class=\"col_heading level0 col0\" >Extracted</th>        <th class=\"col_heading level0 col1\" >Method</th>        <th class=\"col_heading level0 col2\" >n</th>        <th class=\"col_heading level0 col3\" >Precision</th>        <th class=\"col_heading level0 col4\" >Recall</th>        <th class=\"col_heading level0 col5\" >F1-score</th>        <th class=\"col_heading level0 col6\" >Accuracy</th>    </tr></thead><tbody>\n",
       "                <tr>\n",
       "                                <td id=\"T_e02e8_row0_col0\" class=\"data row0 col0\" >Soil type (WRB/USDA)</td>\n",
       "                        <td id=\"T_e02e8_row0_col1\" class=\"data row0 col1\" >Regex + dict.</td>\n",
       "                        <td id=\"T_e02e8_row0_col2\" class=\"data row0 col2\" >174</td>\n",
       "                        <td id=\"T_e02e8_row0_col3\" class=\"data row0 col3\" >0.92</td>\n",
       "                        <td id=\"T_e02e8_row0_col4\" class=\"data row0 col4\" >1.00</td>\n",
       "                        <td id=\"T_e02e8_row0_col5\" class=\"data row0 col5\" >0.96</td>\n",
       "                        <td id=\"T_e02e8_row0_col6\" class=\"data row0 col6\" >0.95</td>\n",
       "            </tr>\n",
       "            <tr>\n",
       "                                <td id=\"T_e02e8_row1_col0\" class=\"data row1 col0\" >Soil texture (USDA)</td>\n",
       "                        <td id=\"T_e02e8_row1_col1\" class=\"data row1 col1\" >Regex + dict.</td>\n",
       "                        <td id=\"T_e02e8_row1_col2\" class=\"data row1 col2\" >174</td>\n",
       "                        <td id=\"T_e02e8_row1_col3\" class=\"data row1 col3\" >0.95</td>\n",
       "                        <td id=\"T_e02e8_row1_col4\" class=\"data row1 col4\" >0.88</td>\n",
       "                        <td id=\"T_e02e8_row1_col5\" class=\"data row1 col5\" >0.91</td>\n",
       "                        <td id=\"T_e02e8_row1_col6\" class=\"data row1 col6\" >0.83</td>\n",
       "            </tr>\n",
       "            <tr>\n",
       "                                <td id=\"T_e02e8_row2_col0\" class=\"data row2 col0\" >Rainfall</td>\n",
       "                        <td id=\"T_e02e8_row2_col1\" class=\"data row2 col1\" >Regex</td>\n",
       "                        <td id=\"T_e02e8_row2_col2\" class=\"data row2 col2\" >174</td>\n",
       "                        <td id=\"T_e02e8_row2_col3\" class=\"data row2 col3\" >1.00</td>\n",
       "                        <td id=\"T_e02e8_row2_col4\" class=\"data row2 col4\" >0.81</td>\n",
       "                        <td id=\"T_e02e8_row2_col5\" class=\"data row2 col5\" >0.90</td>\n",
       "                        <td id=\"T_e02e8_row2_col6\" class=\"data row2 col6\" >0.89</td>\n",
       "            </tr>\n",
       "            <tr>\n",
       "                                <td id=\"T_e02e8_row3_col0\" class=\"data row3 col0\" >Disk diameter</td>\n",
       "                        <td id=\"T_e02e8_row3_col1\" class=\"data row3 col1\" >Regex</td>\n",
       "                        <td id=\"T_e02e8_row3_col2\" class=\"data row3 col2\" >174</td>\n",
       "                        <td id=\"T_e02e8_row3_col3\" class=\"data row3 col3\" >0.83</td>\n",
       "                        <td id=\"T_e02e8_row3_col4\" class=\"data row3 col4\" >0.66</td>\n",
       "                        <td id=\"T_e02e8_row3_col5\" class=\"data row3 col5\" >0.73</td>\n",
       "                        <td id=\"T_e02e8_row3_col6\" class=\"data row3 col6\" >0.41</td>\n",
       "            </tr>\n",
       "            <tr>\n",
       "                                <td id=\"T_e02e8_row4_col0\" class=\"data row4 col0\" >Tensions (Tmax)</td>\n",
       "                        <td id=\"T_e02e8_row4_col1\" class=\"data row4 col1\" >Regex</td>\n",
       "                        <td id=\"T_e02e8_row4_col2\" class=\"data row4 col2\" >154</td>\n",
       "                        <td id=\"T_e02e8_row4_col3\" class=\"data row4 col3\" >1.00</td>\n",
       "                        <td id=\"T_e02e8_row4_col4\" class=\"data row4 col4\" >0.56</td>\n",
       "                        <td id=\"T_e02e8_row4_col5\" class=\"data row4 col5\" >0.72</td>\n",
       "                        <td id=\"T_e02e8_row4_col6\" class=\"data row4 col6\" >0.31</td>\n",
       "            </tr>\n",
       "            <tr>\n",
       "                                <td id=\"T_e02e8_row5_col0\" class=\"data row5 col0\" >Coordinates</td>\n",
       "                        <td id=\"T_e02e8_row5_col1\" class=\"data row5 col1\" >Regex</td>\n",
       "                        <td id=\"T_e02e8_row5_col2\" class=\"data row5 col2\" >209</td>\n",
       "                        <td id=\"T_e02e8_row5_col3\" class=\"data row5 col3\" >0.92</td>\n",
       "                        <td id=\"T_e02e8_row5_col4\" class=\"data row5 col4\" >0.77</td>\n",
       "                        <td id=\"T_e02e8_row5_col5\" class=\"data row5 col5\" >0.84</td>\n",
       "                        <td id=\"T_e02e8_row5_col6\" class=\"data row5 col6\" >0.73</td>\n",
       "            </tr>\n",
       "    </tbody></table>"
      ],
      "text/plain": [
       "<pandas.io.formats.style.Styler at 0x1f5d1481460>"
      ]
     },
     "execution_count": 34,
     "metadata": {},
     "output_type": "execute_result"
    }
   ],
   "source": [
    "# table for paper\n",
    "pd.set_option('display.precision', 2)\n",
    "df = dfscore.copy().rename(columns={'step': 'Extracted', 'recall': 'Recall', 'method': 'Method',\n",
    "                                    'precision': 'Precision', 'match': 'Accuracy', 'f1': 'F1-score'})\n",
    "\n",
    "df[['Extracted', 'Method', 'n', 'Precision', 'Recall', 'F1-score', 'Accuracy']].style.hide_index()"
   ]
  },
  {
   "cell_type": "markdown",
   "id": "39051f9b-3ef4-4a86-8506-2fe48f05b2e3",
   "metadata": {
    "iooxa": {
     "id": {
      "block": "IrbpWDgCC6CJQ6uMUbga",
      "project": "UQpQnbX8k8j6zcU3ZLtz",
      "version": 1
     }
    },
    "tags": []
   },
   "source": [
    "## Extract management practices\n",
    "Just use keywords and possibly lemna frequency to identify which practice is being used. The keywords for the agricultural practices come from the [Bonares knowledge library](https://klibrary.bonares.de) and are completemented by AGROVOC vocabulary."
   ]
  },
  {
   "cell_type": "code",
   "execution_count": 35,
   "id": "de75d822-52f4-435e-9836-51016c6c92fe",
   "metadata": {
    "iooxa": {
     "id": {
      "block": "vzQ31mZhjp15IguErvUa",
      "project": "UQpQnbX8k8j6zcU3ZLtz",
      "version": 1
     },
     "outputId": {
      "block": "ttfl640pVVadvatU4ifF",
      "project": "UQpQnbX8k8j6zcU3ZLtz",
      "version": 1
     }
    }
   },
   "outputs": [
    {
     "data": {
      "text/html": [
       "<div>\n",
       "<style scoped>\n",
       "    .dataframe tbody tr th:only-of-type {\n",
       "        vertical-align: middle;\n",
       "    }\n",
       "\n",
       "    .dataframe tbody tr th {\n",
       "        vertical-align: top;\n",
       "    }\n",
       "\n",
       "    .dataframe thead th {\n",
       "        text-align: right;\n",
       "    }\n",
       "</style>\n",
       "<table border=\"1\" class=\"dataframe\">\n",
       "  <thead>\n",
       "    <tr style=\"text-align: right;\">\n",
       "      <th></th>\n",
       "      <th>word</th>\n",
       "      <th>bonares_voc</th>\n",
       "      <th>lemma</th>\n",
       "    </tr>\n",
       "  </thead>\n",
       "  <tbody>\n",
       "    <tr>\n",
       "      <th>0</th>\n",
       "      <td>fertilization</td>\n",
       "      <td>fertilization</td>\n",
       "      <td>fertilization</td>\n",
       "    </tr>\n",
       "    <tr>\n",
       "      <th>1</th>\n",
       "      <td>balanced fertilization</td>\n",
       "      <td>fertilization</td>\n",
       "      <td>balanced fertilization</td>\n",
       "    </tr>\n",
       "    <tr>\n",
       "      <th>2</th>\n",
       "      <td>broadcast fertilization</td>\n",
       "      <td>fertilization</td>\n",
       "      <td>broadcast fertilization</td>\n",
       "    </tr>\n",
       "    <tr>\n",
       "      <th>3</th>\n",
       "      <td>foliar fertilization</td>\n",
       "      <td>fertilization</td>\n",
       "      <td>foliar fertilization</td>\n",
       "    </tr>\n",
       "    <tr>\n",
       "      <th>4</th>\n",
       "      <td>in vitro fertilization</td>\n",
       "      <td>fertilization</td>\n",
       "      <td>in vitro fertilization</td>\n",
       "    </tr>\n",
       "  </tbody>\n",
       "</table>\n",
       "</div>"
      ],
      "text/plain": [
       "                      word    bonares_voc                    lemma\n",
       "0            fertilization  fertilization            fertilization\n",
       "1   balanced fertilization  fertilization   balanced fertilization\n",
       "2  broadcast fertilization  fertilization  broadcast fertilization\n",
       "3     foliar fertilization  fertilization     foliar fertilization\n",
       "4   in vitro fertilization  fertilization   in vitro fertilization"
      ]
     },
     "execution_count": 35,
     "metadata": {},
     "output_type": "execute_result"
    }
   ],
   "source": [
    "# load vocabulary\n",
    "dfsyn = pd.read_csv(datadir + '../dfsyn.csv')  # load original words and their synonyms\n",
    "dfsyn.head()"
   ]
  },
  {
   "cell_type": "code",
   "execution_count": 36,
   "id": "2d646c7f-8f71-454a-971e-0cb435be6c32",
   "metadata": {
    "iooxa": {
     "id": {
      "block": "TAO0GgwDiUWsVN65zyMW",
      "project": "UQpQnbX8k8j6zcU3ZLtz",
      "version": 1
     },
     "outputId": {
      "block": "d5Luk3eZVMUPd9wv40rQ",
      "project": "UQpQnbX8k8j6zcU3ZLtz",
      "version": 1
     }
    }
   },
   "outputs": [
    {
     "data": {
      "application/vnd.jupyter.widget-view+json": {
       "model_id": "19d490b43e394819bd1883cba13b1a5b",
       "version_major": 2,
       "version_minor": 0
      },
      "text/plain": [
       "  0%|          | 0/154 [00:00<?, ?it/s]"
      ]
     },
     "metadata": {},
     "output_type": "display_data"
    }
   ],
   "source": [
    "# regex-based (fast enough)\n",
    "lemmas = dfsyn['lemma'].unique()\n",
    "dfmgtcoo = pd.DataFrame(columns=['pubid', 'ReferenceTag'] + list(lemmas))\n",
    "for i, doc in tqdm(enumerate(rawdocs), total=len(rawdocs)):\n",
    "    dfmgtcoo.loc[i, 'pubid'] = dfpub.loc[i, 'fname']\n",
    "    dfmgtcoo.loc[i, 'ReferenceTag'] = dfpub.loc[i, 'ReferenceTag']\n",
    "    for lemma in lemmas:\n",
    "        matches = re.findall(lemma, doc.lower())\n",
    "        dfmgtcoo.loc[i, lemma] = len(matches)\n",
    "dfmgtcoo.to_csv(datadir + 'dfmgtcoo.csv', index=False)"
   ]
  },
  {
   "cell_type": "code",
   "execution_count": 37,
   "id": "504b6426-9524-4a1e-8e31-632474ca81fc",
   "metadata": {
    "iooxa": {
     "id": {
      "block": "3N9Y2KJe8JExkCnPVGGY",
      "project": "UQpQnbX8k8j6zcU3ZLtz",
      "version": 1
     },
     "outputId": null
    }
   },
   "outputs": [],
   "source": [
    "# load\n",
    "dfmgtcoo = pd.read_csv(datadir + 'dfmgtcoo.csv')"
   ]
  },
  {
   "cell_type": "code",
   "execution_count": 38,
   "id": "ba39f535-6c12-4e86-8d75-5ed3c45e1c31",
   "metadata": {
    "iooxa": {
     "id": {
      "block": "mePahoQZWxUnxYkpMQjC",
      "project": "UQpQnbX8k8j6zcU3ZLtz",
      "version": 1
     },
     "outputId": {
      "block": "0VigfvWeOzr8h5cG8o5q",
      "project": "UQpQnbX8k8j6zcU3ZLtz",
      "version": 1
     }
    }
   },
   "outputs": [
    {
     "name": "stdout",
     "output_type": "stream",
     "text": [
      "21 number of lemma found at least once in a document\n"
     ]
    },
    {
     "data": {
      "image/png": "[encoded data removed]",
      "text/plain": [
       "<Figure size 576x288 with 1 Axes>"
      ]
     },
     "metadata": {
      "needs_background": "light"
     },
     "output_type": "display_data"
    }
   ],
   "source": [
    "# overview\n",
    "s = pd.DataFrame(dfmgtcoo.sum())\n",
    "s = s[2:]  # remove first pubid an referencetag\n",
    "s = s.drop_duplicates()\n",
    "s = s.rename(columns={s.columns[0]: 'number'})\n",
    "s = s[s['number'] > 20]  # discard too small\n",
    "s = s[s['number'] < 500] # discard too big\n",
    "s = s[~s.index.isin(['drainage', 'sow', 'space','residue'])]\n",
    "s = s.sort_values('number')\n",
    "print(s.shape[0], 'number of lemma found at least once in a document')\n",
    "fig, ax = plt.subplots(figsize=(8, 4))\n",
    "s.plot.bar(ylabel='Number of references that contain them', ax=ax);"
   ]
  },
  {
   "cell_type": "code",
   "execution_count": 39,
   "id": "d74cbb93-a63d-4388-9eae-3b78946b8357",
   "metadata": {
    "iooxa": {
     "id": {
      "block": "lSzEqN9gqJWVuu8QKN7I",
      "project": "UQpQnbX8k8j6zcU3ZLtz",
      "version": 1
     },
     "outputId": {
      "block": "phx9SBbjbgxeEs0jRoUr",
      "project": "UQpQnbX8k8j6zcU3ZLtz",
      "version": 1
     }
    }
   },
   "outputs": [
    {
     "data": {
      "image/png": "[encoded data removed]",
      "text/plain": [
       "<Figure size 720x576 with 2 Axes>"
      ]
     },
     "metadata": {
      "needs_background": "light"
     },
     "output_type": "display_data"
    }
   ],
   "source": [
    "# simple co-occurence matrix between concept\n",
    "# which practice is usually investigated with which other\n",
    "# a practice is 'investigated' if keywords appears more than 10 times\n",
    "cols = s.index\n",
    "n = len(cols)\n",
    "coo = np.zeros((n, n))*np.nan\n",
    "cooPrc = np.zeros(coo.shape)*np.nan\n",
    "df = dfmgtcoo[cols].copy().reset_index(drop=True) > 0  # the document contains the word\n",
    "for i, col in enumerate(cols):\n",
    "    serie = df[col]\n",
    "    x = df.values & serie.values[:, None]  # number of studies that shares the keywords\n",
    "    coo[i, :] = np.sum(x, axis=0)\n",
    "    cooPrc[i, :i] = np.sum(x, axis=0)[:i]/df.shape[0]*100\n",
    "fig, ax = plt.subplots(figsize=(10, 8))\n",
    "cmap = plt.get_cmap('Greens')\n",
    "cmap.set_bad('lightgrey')\n",
    "cax = ax.imshow(cooPrc, cmap=cmap)\n",
    "fig.colorbar(cax, ax=ax, label='Percentage of papers that share both keywords', extend='both')\n",
    "labs = []\n",
    "for col in cols:\n",
    "    word = dfsyn[dfsyn['lemma'] == col]['bonares_voc'].values[0]\n",
    "    labs.append('{:s}'.format(col))\n",
    "labs = cols\n",
    "xx = np.arange(n)\n",
    "ax.set_xticks(xx)\n",
    "ax.set_xticklabels(labs, rotation=90)\n",
    "ax.set_yticks(xx)\n",
    "ax.set_yticklabels(labs)\n",
    "fig.tight_layout()\n",
    "fig.savefig(outputdir + 'co-occurrence-practices-otim.jpg', dpi=300)"
   ]
  }
 ],
 "metadata": {
  "iooxa": {
   "id": {
    "block": "iTl45rovuNzpmDuyKmZ8",
    "project": "UQpQnbX8k8j6zcU3ZLtz",
    "version": 1
   }
  },
  "kernelspec": {
   "display_name": "Python 3",
   "language": "python",
   "name": "python3"
  },
  "language_info": {
   "codemirror_mode": {
    "name": "ipython",
    "version": 3
   },
   "file_extension": ".py",
   "mimetype": "text/x-python",
   "name": "python",
   "nbconvert_exporter": "python",
   "pygments_lexer": "ipython3",
   "version": "3.8.9"
  },
  "toc-autonumbering": true,
  "toc-showcode": false,
  "toc-showmarkdowntxt": false
 },
 "nbformat": 4,
 "nbformat_minor": 5
}
