{
 "cells": [
  {
   "cell_type": "markdown",
   "id": "b4476fe1-0aef-4461-b56a-06a46d063d99",
   "metadata": {
    "iooxa": {
     "id": {
      "block": "Q081GFngAZBFKuT1kvTY",
      "project": "UQpQnbX8k8j6zcU3ZLtz",
      "version": 1
     }
    }
   },
   "source": [
    "# Natural language processing on primary studies selected from meta-analyses\n",
    "This notebook explore natural language processing (NLP) techniques on the corpus of primary studies selected in the [review of meta-analyses](https://github.com/climasoma/review-of-meta-analyses). It will explore:\n",
    "- topic modelling\n",
    "- relationship extraction\n",
    "\n",
    "NOTE: this notebook needs the full-text papers to run. For copyright reasons, these are not provided with the notebooks."
   ]
  },
  {
   "cell_type": "code",
   "execution_count": 23,
   "id": "4e0fdda7-5e3a-44b4-8c0f-5681d2427584",
   "metadata": {
    "iooxa": {
     "id": {
      "block": "PPFx7IudiLyEQ7mvffi3",
      "project": "UQpQnbX8k8j6zcU3ZLtz",
      "version": 1
     },
     "outputId": null
    }
   },
   "outputs": [
    {
     "name": "stderr",
     "output_type": "stream",
     "text": [
      "C:\\Users\\gblanchy\\WPy64-3890\\python-3.8.9.amd64\\lib\\site-packages\\ipykernel\\ipkernel.py:283: DeprecationWarning: `should_run_async` will not call `transform_cell` automatically in the future. Please pass the result to `transformed_cell` argument and any exception that happen during thetransform in `preprocessing_exc_tuple` in IPython 7.17 and above.\n",
      "  and should_run_async(code)\n"
     ]
    }
   ],
   "source": [
    "import numpy as np\n",
    "import matplotlib.pyplot as plt\n",
    "import matplotlib.patches as mpatches\n",
    "import pandas as pd\n",
    "import time\n",
    "import os\n",
    "import shutil\n",
    "import re\n",
    "from tqdm.notebook import tqdm_notebook as tqdm\n",
    "from lxml import etree, html\n",
    "import requests\n",
    "import requests_cache\n",
    "import spacy\n",
    "from spacy.matcher import Matcher, PhraseMatcher\n",
    "from spacy import displacy\n",
    "import json\n",
    "from pprint import pprint\n",
    "import networkx as nx # drawing network graph\n",
    "import unicodedata\n",
    "from io import StringIO\n",
    "from scipy import stats\n",
    "import copy\n",
    "nlp = spacy.load(\"en_core_web_sm\")\n",
    "import warnings\n",
    "warnings.simplefilter('ignore')\n",
    "\n",
    "datadir = '../data/from-meta/'\n",
    "outputdir = datadir + '../../figures/'\n",
    "\n",
    "dfscore = pd.DataFrame(columns={'step', 'n', 'recall', 'precision', 'f1', 'match'})\n",
    "\n",
    "def camelCase(x):\n",
    "    return x.lower()[0] + x.title().replace(' ','')[1:]"
   ]
  },
  {
   "cell_type": "code",
   "execution_count": 82,
   "id": "32c6a58c-a261-480d-aba0-8ffa9bd4304f",
   "metadata": {
    "iooxa": {
     "id": {
      "block": "gDla32XuCci8kxsDax6v",
      "project": "UQpQnbX8k8j6zcU3ZLtz",
      "version": 1
     },
     "outputId": null
    }
   },
   "outputs": [],
   "source": [
    "# gensim imports\n",
    "import nltk\n",
    "from nltk.tokenize import RegexpTokenizer\n",
    "from nltk.stem.wordnet import WordNetLemmatizer\n",
    "from nltk.corpus import stopwords\n",
    "\n",
    "import gensim\n",
    "from gensim.models import Phrases\n",
    "from gensim.models import LdaModel, LdaMulticore\n",
    "from gensim.corpora import Dictionary\n",
    "from gensim import similarities\n",
    "from gensim.test.utils import datapath\n",
    "import pyLDAvis\n",
    "from pyLDAvis import gensim_models as gensimvis"
   ]
  },
  {
   "cell_type": "code",
   "execution_count": 3,
   "id": "1211544c-f132-4086-af7d-6c8922be7d92",
   "metadata": {
    "iooxa": {
     "id": {
      "block": "a1RyPO5ZUiFLyY26c7n9",
      "project": "UQpQnbX8k8j6zcU3ZLtz",
      "version": 1
     },
     "outputId": {
      "block": "AhGf1DhSiAHiCZ3qT3kk",
      "project": "UQpQnbX8k8j6zcU3ZLtz",
      "version": 1
     }
    }
   },
   "outputs": [
    {
     "name": "stdout",
     "output_type": "stream",
     "text": [
      "spacy 3.1.1\n",
      "gensim 4.0.1\n",
      "nltk 3.6.1\n",
      "pyLDAvis 3.3.1\n"
     ]
    },
    {
     "name": "stderr",
     "output_type": "stream",
     "text": [
      "C:\\Users\\gblanchy\\WPy64-3890\\python-3.8.9.amd64\\lib\\site-packages\\ipykernel\\ipkernel.py:283: DeprecationWarning: `should_run_async` will not call `transform_cell` automatically in the future. Please pass the result to `transformed_cell` argument and any exception that happen during thetransform in `preprocessing_exc_tuple` in IPython 7.17 and above.\n",
      "  and should_run_async(code)\n"
     ]
    }
   ],
   "source": [
    "print('spacy', spacy.__version__)\n",
    "print('gensim', gensim.__version__)\n",
    "print('nltk', nltk.__version__)\n",
    "print('pyLDAvis', pyLDAvis.__version__)"
   ]
  },
  {
   "cell_type": "markdown",
   "id": "d2040b8b-75bc-4232-a6f5-dba058f0022a",
   "metadata": {
    "iooxa": {
     "id": {
      "block": "lqNz2dBbCc24uoEzxG16",
      "project": "UQpQnbX8k8j6zcU3ZLtz",
      "version": 1
     }
    }
   },
   "source": [
    "## Preparing publications"
   ]
  },
  {
   "cell_type": "code",
   "execution_count": 4,
   "id": "d96d5fd6-343a-4f3b-a59e-e4b81afa97fd",
   "metadata": {
    "iooxa": {
     "id": {
      "block": "hrLHFaPWByf0MfNOh5om",
      "project": "UQpQnbX8k8j6zcU3ZLtz",
      "version": 1
     },
     "outputId": {
      "block": "29xE8vP7SQ95SJxj6i1Z",
      "project": "UQpQnbX8k8j6zcU3ZLtz",
      "version": 1
     }
    }
   },
   "outputs": [
    {
     "name": "stdout",
     "output_type": "stream",
     "text": [
      "total entries: 1964\n",
      "with doi: 1964\n",
      "retrieved: 1469\n"
     ]
    },
    {
     "name": "stderr",
     "output_type": "stream",
     "text": [
      "C:\\Users\\gblanchy\\WPy64-3890\\python-3.8.9.amd64\\lib\\site-packages\\ipykernel\\ipkernel.py:283: DeprecationWarning: `should_run_async` will not call `transform_cell` automatically in the future. Please pass the result to `transformed_cell` argument and any exception that happen during thetransform in `preprocessing_exc_tuple` in IPython 7.17 and above.\n",
      "  and should_run_async(code)\n"
     ]
    }
   ],
   "source": [
    "# some statistics (start here)\n",
    "dfpub = pd.read_csv(datadir + 'fromMeta.csv')\n",
    "print('total entries:', dfpub.shape[0])\n",
    "print('with doi:', dfpub['DOI'].notnull().sum())\n",
    "print('retrieved:', dfpub['retrieved'].sum())\n",
    "# we will only work with the ones which have full-text\n",
    "dfpub = dfpub[dfpub['retrieved']].reset_index(drop=True)"
   ]
  },
  {
   "cell_type": "code",
   "execution_count": 5,
   "id": "ccdd7315-7b3f-486b-90c7-a5a14dfbb695",
   "metadata": {
    "iooxa": {
     "id": {
      "block": "2Zw2AHR5KApb4l3fsk9s",
      "project": "UQpQnbX8k8j6zcU3ZLtz",
      "version": 1
     },
     "outputId": {
      "block": "znGL9JNxiPP7y26NUSHR",
      "project": "UQpQnbX8k8j6zcU3ZLtz",
      "version": 1
     }
    }
   },
   "outputs": [
    {
     "name": "stderr",
     "output_type": "stream",
     "text": [
      "C:\\Users\\gblanchy\\WPy64-3890\\python-3.8.9.amd64\\lib\\site-packages\\ipykernel\\ipkernel.py:283: DeprecationWarning: `should_run_async` will not call `transform_cell` automatically in the future. Please pass the result to `transformed_cell` argument and any exception that happen during thetransform in `preprocessing_exc_tuple` in IPython 7.17 and above.\n",
      "  and should_run_async(code)\n"
     ]
    },
    {
     "name": "stdout",
     "output_type": "stream",
     "text": [
      "imported: 1469 / 1469\n"
     ]
    }
   ],
   "source": [
    "# creating rawdocs and extract text\n",
    "rawdocs = []\n",
    "c = 0\n",
    "for fname in dfpub['fname']:\n",
    "    # convert to text (only need to do it once)\n",
    "    #os.system('pdftotext \"' + datadir + 'papers/' + fname + '.pdf\"')\n",
    "    fpath = datadir + 'papers/' + fname + '.txt'\n",
    "    if os.path.exists(fpath):\n",
    "        with open(fpath, 'r', encoding='utf8') as f:\n",
    "            try:\n",
    "                text = f.read()\n",
    "                if len(text) > 100:\n",
    "                    rawdocs.append(text)\n",
    "                else:\n",
    "                    print('document too small', fname)\n",
    "                c += 1\n",
    "            except:\n",
    "                print('error with', fname)\n",
    "                rawdocs.append('')\n",
    "    else:\n",
    "        print('path not found for', fname, fpath) # pdf are empty\n",
    "        rawdocs.append('')\n",
    "print('imported:', c, '/', dfpub.shape[0])"
   ]
  },
  {
   "cell_type": "markdown",
   "id": "0093340d-cdef-43b3-ae34-b9f3ebd7ea28",
   "metadata": {
    "iooxa": {
     "id": {
      "block": "rA3lGyZ13tdI3L7Id8ve",
      "project": "UQpQnbX8k8j6zcU3ZLtz",
      "version": 1
     }
    }
   },
   "source": [
    "### Detecting abstract, references sections\n",
    "\n",
    "Abstract is detected based on rules (specific keywords identfied, paragraph identified). The references section is also identified. Both abstract and references are removed from the main document, `rawdocs` is overwritten."
   ]
  },
  {
   "cell_type": "code",
   "execution_count": 6,
   "id": "b6e6ec34-58da-438e-be16-c9c295123a46",
   "metadata": {
    "iooxa": {
     "id": {
      "block": "5E0pX8I5nnZnTCyOVMVp",
      "project": "UQpQnbX8k8j6zcU3ZLtz",
      "version": 1
     },
     "outputId": {
      "block": "pYCCIN4igJ9FmFXHScG4",
      "project": "UQpQnbX8k8j6zcU3ZLtz",
      "version": 1
     }
    },
    "tags": []
   },
   "outputs": [
    {
     "name": "stderr",
     "output_type": "stream",
     "text": [
      "C:\\Users\\gblanchy\\WPy64-3890\\python-3.8.9.amd64\\lib\\site-packages\\ipykernel\\ipkernel.py:283: DeprecationWarning: `should_run_async` will not call `transform_cell` automatically in the future. Please pass the result to `transformed_cell` argument and any exception that happen during thetransform in `preprocessing_exc_tuple` in IPython 7.17 and above.\n",
      "  and should_run_async(code)\n",
      "<>:87: DeprecationWarning: invalid escape sequence \\s\n",
      "<>:87: DeprecationWarning: invalid escape sequence \\s\n",
      "<ipython-input-6-aba1838253cf>:87: DeprecationWarning: invalid escape sequence \\s\n",
      "  parts = re.split('\\n\\s?r(é|e)f(é|e)rences?\\n|\\n\\s?r ?e ?f ?e ?r ?e ?n ?c ?e ?s?\\n', body, flags=re.IGNORECASE)\n"
     ]
    },
    {
     "data": {
      "application/vnd.jupyter.widget-view+json": {
       "model_id": "36bd58d66f654e3a97747daa0fa29212",
       "version_major": 2,
       "version_minor": 0
      },
      "text/plain": [
       "  0%|          | 0/1469 [00:00<?, ?it/s]"
      ]
     },
     "metadata": {},
     "output_type": "display_data"
    },
    {
     "name": "stdout",
     "output_type": "stream",
     "text": [
      "number of abstract detected: 1469 / 1469\n"
     ]
    }
   ],
   "source": [
    "# detect abstract, keywords, reference, title - overwrite rawdocs!\n",
    "abstracts = []\n",
    "rawdocs = []\n",
    "df = pd.DataFrame(columns=['fname', 'start', 'end', 'length', 'code'])\n",
    "dfpub['abstract'] = pd.NA\n",
    "for i, fname in tqdm(enumerate(dfpub.loc[:, 'fname']), total=dfpub.shape[0]):\n",
    "    fpath = datadir + 'papers/' + str(fname) + '.txt'\n",
    "    code = ''  # determine how the abstract was found\n",
    "    if (pd.isna(fname) is False) & (os.path.exists(fpath)):\n",
    "        with open(fpath, 'r', encoding='utf8') as f:\n",
    "            doc = f.read()\n",
    "        splitdoc = re.split('a b s t r a c t|abstract|ABSTRACT|Abstract|A B S T R A C T|Summary|s u m m a r y|SUMMARY', doc)\n",
    "        foundStart = True\n",
    "        if len(splitdoc) == 1:\n",
    "            foundStart = False\n",
    "        if len(' '.join(splitdoc[1:])) > 50:\n",
    "            text = '\\n'.join(splitdoc[1:]) if len(splitdoc) > 1 else splitdoc[0] # if not keyword abstract found, take all\n",
    "        else:\n",
    "            #print('take it all for', fname)\n",
    "            text = doc\n",
    "\n",
    "        # assuming first paragraph is the abstract\n",
    "        splitEnd = re.split('Published|Introduction|Copyright|©|Keywords|keywords|KEYWORDS|KEY WORDS|Citation', text)\n",
    "        foundEnd = True\n",
    "        if len(splitEnd) == 1:\n",
    "            foundEnd = False\n",
    "            #print('abstract end not found', fname)\n",
    "            paragraphs = text.split('\\n\\n')\n",
    "            ps = []\n",
    "            a = ''\n",
    "            # we only want paragraphs split that are more than 10 characters\n",
    "            for p in paragraphs:\n",
    "                a = a + '\\n\\n' + p\n",
    "                if len(a) > 10:\n",
    "                    ps.append(a)\n",
    "                    a = ''\n",
    "            if foundStart is True:\n",
    "                abstract = ps[0]\n",
    "                code = 'ps[0]'\n",
    "            else:\n",
    "                # without detection of the start or end, we\n",
    "                # blindly assume that abstract is first paragraph\n",
    "                abstract = ps[1]\n",
    "                code = 'first'\n",
    "                #print('abstract = first paragraph', fname)\n",
    "        else:\n",
    "            abstract = ''\n",
    "            for j, s in enumerate(splitEnd):\n",
    "                if len(s) > 50 and abstract == '':\n",
    "                    abstract = s\n",
    "                    code = 's{:d}'.format(j)\n",
    "\n",
    "        # cleaning up the abstract\n",
    "        if abstract[0] in [':', '.']:\n",
    "            abstract = abstract[1:]\n",
    "        abstract = abstract.strip()\n",
    "\n",
    "        # edge case (if we have two first large paragraphs)\n",
    "        ts = abstract.split('\\n\\n')\n",
    "        if len(ts) > 1:\n",
    "            if (len(ts[0]) > 800) & (len(ts[1]) > 800):\n",
    "                if ts[0][0] in 'ABCDEFGHIJKLMNOPQRSTUVWXYZ':\n",
    "                    abstract = ts[0]\n",
    "                    #print(fname, 'first')\n",
    "                    code = 'ts[0]'\n",
    "                else:\n",
    "                    abstract = ts[1]\n",
    "                    #print(fname, 'second')\n",
    "                    code = 'ts[1]'\n",
    "\n",
    "        # write down abstract for manual assessment\n",
    "        with open(fpath.replace('.txt', '-abstract.txt'), 'w', encoding='utf8') as f:\n",
    "            f.write(abstract)\n",
    "        df = df.append({'fname': fname, 'start': foundStart, 'end': \n",
    "                        foundEnd, 'length': len(abstract), 'code': code},\n",
    "                       ignore_index=True)\n",
    "\n",
    "        # add the abstract to dfpub\n",
    "        dfpub.loc[i, 'abstract'] = abstract\n",
    "\n",
    "        # remove the abstract from the body\n",
    "        body = text.replace(abstract, '')\n",
    "\n",
    "        # remove the references\n",
    "        #if len(re.findall('r(é|e)f(é|e)rences?|r ?e ?f ?e ?r ?e ?n ?c ?e ?s?', body, flags=re.IGNORECASE)) == 0:\n",
    "        #    print('no ref found for', fname)\n",
    "        parts = re.split('\\n\\s?r(é|e)f(é|e)rences?\\n|\\n\\s?r ?e ?f ?e ?r ?e ?n ?c ?e ?s?\\n', body, flags=re.IGNORECASE)\n",
    "        if len(parts) > 2:  # at least one 'reference' found\n",
    "            body = '\\nReferences\\n'.join([a for a in parts[:-1] if a is not None])\n",
    "        else:\n",
    "            body = body\n",
    "            #print('ref not found for', dfpub.loc[i, 'fname'])\n",
    "            # for old papers with no ref section parsed to OCR, that's often the case\n",
    "        # failsafe for badly detected abstract\n",
    "        ratio = len(body) / len(text)\n",
    "        if ratio < 0.6:\n",
    "            #print('abstract probably not well detected for', fname, '(ratio: {:.2f})'.format(ratio))\n",
    "            body = text\n",
    "        rawdocs.append(body)\n",
    "    else:\n",
    "        print(fpath, 'not found')\n",
    "print('number of abstract detected:', dfpub['abstract'].notnull().sum(), '/', dfpub.shape[0])"
   ]
  },
  {
   "cell_type": "markdown",
   "id": "5db129a5-8696-4c6d-9061-0ac899f846ac",
   "metadata": {
    "iooxa": {
     "id": {
      "block": "p4Xz55NSfLJBoangSCjM",
      "project": "UQpQnbX8k8j6zcU3ZLtz",
      "version": 1
     }
    }
   },
   "source": [
    "### Parsing abstract from webpages\n",
    "This approach is a bit more reliable than the pdf to text conversion because most of the strange symbols are kept in. Also when the pdf has two or more columns, it can happen that the abstract is not the first paragraph but rather the second."
   ]
  },
  {
   "cell_type": "code",
   "execution_count": 12,
   "id": "7037fed8-26b0-451c-bc58-e54cab97d272",
   "metadata": {
    "iooxa": {
     "id": {
      "block": "LLvi6zhSVdeNXuJZSqU5",
      "project": "UQpQnbX8k8j6zcU3ZLtz",
      "version": 1
     },
     "outputId": null
    }
   },
   "outputs": [],
   "source": [
    "# getting html page (run this once)\n",
    "# from selenium import webdriver\n",
    "# driver = webdriver.Firefox()\n",
    "# for i in tqdm(range(0, dfpub.shape[0])):\n",
    "#     doi = dfpub.loc[i, 'DOI']\n",
    "#     fname = dfpub.loc[i, 'fname']\n",
    "#     if (pd.isna(fname) is False) & (pd.isna(doi) is False):\n",
    "#         # open each doi in a new tab\n",
    "#         #webbrowser.open('https://doi.org/' + doi.strip())\n",
    "#         # requests is not enough to get proper rediction, better use selenium\n",
    "#         driver.get('http://doi.org/' + doi)\n",
    "#         time.sleep(2)  # wait a bit for the page to be fully loaded\n",
    "#         with open(datadir + 'webpages/' + fname + '.html', 'w', encoding='utf8') as f:\n",
    "#             f.write(driver.page_source)\n",
    "# driver.close()"
   ]
  },
  {
   "cell_type": "code",
   "execution_count": 7,
   "id": "0a884ec0-c3e3-43b9-81f7-9c7cca3e1b77",
   "metadata": {
    "iooxa": {
     "id": {
      "block": "vdo4czzmomubF5u7lXEn",
      "project": "UQpQnbX8k8j6zcU3ZLtz",
      "version": 1
     },
     "outputId": {
      "block": "Gk1qlwmdQZwDQ1uJKP6L",
      "project": "UQpQnbX8k8j6zcU3ZLtz",
      "version": 1
     }
    },
    "tags": []
   },
   "outputs": [
    {
     "name": "stderr",
     "output_type": "stream",
     "text": [
      "C:\\Users\\gblanchy\\WPy64-3890\\python-3.8.9.amd64\\lib\\site-packages\\ipykernel\\ipkernel.py:283: DeprecationWarning: `should_run_async` will not call `transform_cell` automatically in the future. Please pass the result to `transformed_cell` argument and any exception that happen during thetransform in `preprocessing_exc_tuple` in IPython 7.17 and above.\n",
      "  and should_run_async(code)\n",
      "<>:95: DeprecationWarning: invalid escape sequence \\.\n",
      "<>:96: DeprecationWarning: invalid escape sequence \\.\n",
      "<>:97: DeprecationWarning: invalid escape sequence \\.\n",
      "<>:102: DeprecationWarning: invalid escape sequence \\s\n",
      "<>:103: DeprecationWarning: invalid escape sequence \\s\n",
      "<>:95: DeprecationWarning: invalid escape sequence \\.\n",
      "<>:96: DeprecationWarning: invalid escape sequence \\.\n",
      "<>:97: DeprecationWarning: invalid escape sequence \\.\n",
      "<>:102: DeprecationWarning: invalid escape sequence \\s\n",
      "<>:103: DeprecationWarning: invalid escape sequence \\s\n",
      "<ipython-input-7-245a6e6a1851>:95: DeprecationWarning: invalid escape sequence \\.\n",
      "  abstract = re.sub('Abstracts?\\.?[ \\n\\t]+', '', abstract)\n",
      "<ipython-input-7-245a6e6a1851>:96: DeprecationWarning: invalid escape sequence \\.\n",
      "  abstract = re.sub('ABSTRACTS?\\.?[ \\n\\t]+', '', abstract)\n",
      "<ipython-input-7-245a6e6a1851>:97: DeprecationWarning: invalid escape sequence \\.\n",
      "  abstract = re.sub('Summary\\.?[ \\n\\t]+', '', abstract)\n",
      "<ipython-input-7-245a6e6a1851>:102: DeprecationWarning: invalid escape sequence \\s\n",
      "  if len(re.split('\\n\\s+\\n', abstract)) < 3:\n",
      "<ipython-input-7-245a6e6a1851>:103: DeprecationWarning: invalid escape sequence \\s\n",
      "  a = re.split('\\n\\s+\\n', abstract)[0]\n"
     ]
    },
    {
     "data": {
      "application/vnd.jupyter.widget-view+json": {
       "model_id": "21a546990b8a4fd8b2bd7a837dcce14b",
       "version_major": 2,
       "version_minor": 0
      },
      "text/plain": [
       "  0%|          | 0/1469 [00:00<?, ?it/s]"
      ]
     },
     "metadata": {},
     "output_type": "display_data"
    },
    {
     "name": "stdout",
     "output_type": "stream",
     "text": [
      "-> FAILED with errorlist index out of range\n",
      "-> FAILED with errorlist index out of range\n",
      "-> FAILED with errorlist index out of range\n",
      "-> FAILED with errorlist index out of range\n",
      "1465/1469 abstracts found\n"
     ]
    }
   ],
   "source": [
    "# parsing html publication to extract abstract\n",
    "abstracts = []\n",
    "for i in tqdm(range(0, dfpub.shape[0])):\n",
    "    doi = dfpub.loc[i, 'DOI']\n",
    "    fname = dfpub.loc[i, 'fname']\n",
    "    fpath = datadir + 'webpages/{:s}.html'.format(fname)\n",
    "    if (pd.isna(fname) is False) & (pd.isna(doi) is False) & (os.path.exists(fpath)):\n",
    "        #print(i, fname, 'https://doi.org/' + doi, end='')\n",
    "        with open(fpath, 'r', encoding='utf8') as f:\n",
    "            tree = html.parse(StringIO(f.read()))\n",
    "\n",
    "        try:\n",
    "            # parsing abstract\n",
    "            htitle = tree.xpath(\"//h1[text()='Abstract'] | \"\n",
    "                                \"//h2[text()='Abstract'] | \"\n",
    "                                \"//h3[text()='Abstract'] | \"\n",
    "                                \"//h4[text()='Abstract'] | \"\n",
    "                                \"//h1[text()='ABSTRACT'] | \"\n",
    "                                \"//h2[text()='ABSTRACT'] | \"\n",
    "                                \"//h3[text()='ABSTRACT'] | \"\n",
    "                                \"//h4[text()='ABSTRACT'] | \"\n",
    "                                \"//h1[text()='Summary'] | \"\n",
    "                                \"//h2[text()='Summary'] | \"\n",
    "                                \"//h3[text()='Summary'] | \"\n",
    "                                \"//h4[text()='Summary'] | \"\n",
    "                                \"//h1[text()='Abstracts'] | \"\n",
    "                                \"//h2[text()='Abstracts'] | \"\n",
    "                                \"//h3[text()='Abstracts'] | \"\n",
    "                                \"//h4[text()='Abstracts'] | \"\n",
    "                                \"//strong[text()='Abstract.']\"\n",
    "                               )\n",
    "            parent = None\n",
    "            if len(htitle) > 0:\n",
    "                parent = htitle[0].getparent()\n",
    "                #print(' -> found', parent.tag)\n",
    "            else:\n",
    "                # try to find the p or div with the longest text\n",
    "                c = 0\n",
    "                for p in tree.xpath('//p'):\n",
    "                    # detect only the text at first level, not nested\n",
    "                    pt = ' '.join(p.xpath('.//text()[normalize-space()]'))\n",
    "                    if len(pt) > c:\n",
    "                        parent = p\n",
    "                        c = len(pt)\n",
    "\n",
    "                # the following is matching too many div\n",
    "                for div in tree.xpath('//div'):\n",
    "                    divt = ' '.join(div.xpath('./text()[normalize-space()]'))\n",
    "                    if len(divt) > c and len(divt) < 2000:\n",
    "                        parent = div\n",
    "                        c = len(divt)\n",
    "                #print(' -> inferred', parent.tag)#, parent, parent.attrib, c)\n",
    "\n",
    "            xpath = './/text() | .//div/text() | .//div/p/text() | .//p/text() |' \\\n",
    "                    './/div/i/text() | .//div/p/i/text() | .//p/i/text() |' \\\n",
    "                    './/div/b/text() | .//div/p/b/text() | .//p/b/text() |' \\\n",
    "                    './/div/sup/text() | .//div/p/sup/text() | .//p/sup/text() |' \\\n",
    "                    './/div/sub/text() | .//div/p/sub/text() | .//p/sub/text() |' \\\n",
    "                    './/div/emph/text() | .//div/p/emph/text() | .//p/emph/text() |' \\\n",
    "                    './/div/span/text() | .//div/p/span/text() | .//p/span/text() |' \\\n",
    "                    './/div/span/span/text() | .//div/p/span/span/text() | .//p/span/span/text() |' \\\n",
    "                    './/div/span/span/span/text() | .//div/p/span/span/span/text() | .//p/span/span/span/text() |' \\\n",
    "                    './/div/span/span/a/text() | .//div/p/span/span/a/text() | .//p/span/span/a/text() |' \\\n",
    "                    './/div/span/a/text() | .//div/p/span/a/text() | .//p/span/a/text() |' \\\n",
    "                    './/div/em/text() | .//div/p/em/text() | .//p/em/text()'\n",
    "\n",
    "            if parent is not None:\n",
    "                #print(parent, parent.attrib)\n",
    "                elms = parent.xpath(xpath)\n",
    "                if len(' '.join(elms)) < 100:\n",
    "                    gparent = parent.getparent()\n",
    "                    #print('going for grandparents', gparent, gparent.attrib)\n",
    "                    #print([(a, a.attrib) for a in gparent.xpath('.//div')])\n",
    "                    elms = gparent.xpath('.//div')[1].xpath(xpath)\n",
    "                abstract = ' '.join(elms)\n",
    "            else:\n",
    "                # try to find the p or div with the longest text\n",
    "                abstract = ''\n",
    "                for p in tree.xpath('//p'):\n",
    "                    if len(p) > len(abstract):\n",
    "                        abstract = p\n",
    "                for div in tree.xpath('//div'):\n",
    "                    if len(div) > len(abstract):\n",
    "                        print(div.getparent())\n",
    "                        abstract = div\n",
    "                if abstract == '':\n",
    "                    #print(' -> not found')\n",
    "                    pass\n",
    "                else:\n",
    "                    pass\n",
    "                    #print(' -> long p found')\n",
    "\n",
    "            # cleaning up\n",
    "            abstract = abstract.strip()\n",
    "            abstract = re.sub('Abstracts?\\.?[ \\n\\t]+', '', abstract)\n",
    "            abstract = re.sub('ABSTRACTS?\\.?[ \\n\\t]+', '', abstract)\n",
    "            abstract = re.sub('Summary\\.?[ \\n\\t]+', '', abstract)\n",
    "            abstract = abstract.split('Keywords')[0]\n",
    "            abstract = abstract.split('Key words')[0]\n",
    "            abstract = abstract.split('Copyright')[0]\n",
    "            abstract = abstract.split('©')[0]\n",
    "            if len(re.split('\\n\\s+\\n', abstract)) < 3:\n",
    "                a = re.split('\\n\\s+\\n', abstract)[0]\n",
    "                if len(a) > 200:\n",
    "                    abstract = a\n",
    "            abstract = re.sub('[ \\t\\n]{2,}', '', abstract)\n",
    "            abstract = abstract.strip()\n",
    "            abstract = unicodedata.normalize(\"NFKD\", abstract)\n",
    "            #print('\\n' + abstract + '\\n')\n",
    "\n",
    "            abstracts.append(abstract)\n",
    "            dfpub.loc[i, 'abstract-web'] = abstract\n",
    "\n",
    "        except Exception as e:\n",
    "            print('-> FAILED with error' + str(e))\n",
    "\n",
    "print('{:d}/{:d} abstracts found'.format(dfpub['abstract-web'].notnull().sum(), dfpub.shape[0]))"
   ]
  },
  {
   "cell_type": "markdown",
   "id": "7782fb44-e503-4b27-9109-2f4d674c6c5a",
   "metadata": {
    "heading_collapsed": "true",
    "iooxa": {
     "id": {
      "block": "ajURx2bLCOoHVsU0UDLQ",
      "project": "UQpQnbX8k8j6zcU3ZLtz",
      "version": 1
     }
    },
    "tags": []
   },
   "source": [
    "## Topic classifcations with `gensim`\n",
    "\n",
    "useful links:\n",
    "- LDAvis paper https://nlp.stanford.edu/events/illvi2014/papers/sievert-illvi2014.pdf\n",
    "- https://nlpforhackers.io/topic-modeling/\n",
    "\n",
    "Coherence used is C$_V$ coherence of [Röder et al. (2015)](https://doi.org/10.1145/2684822.2685324)."
   ]
  },
  {
   "cell_type": "code",
   "execution_count": 8,
   "id": "0d0981e6-949b-411f-b31c-19d2d58a6d1c",
   "metadata": {
    "iooxa": {
     "id": {
      "block": "6o6xkDUi2nFDlAbluPDG",
      "project": "UQpQnbX8k8j6zcU3ZLtz",
      "version": 1
     },
     "outputId": {
      "block": "3xhs6I4uhCokUqE1eDvM",
      "project": "UQpQnbX8k8j6zcU3ZLtz",
      "version": 1
     }
    }
   },
   "outputs": [
    {
     "name": "stderr",
     "output_type": "stream",
     "text": [
      "C:\\Users\\gblanchy\\WPy64-3890\\python-3.8.9.amd64\\lib\\site-packages\\ipykernel\\ipkernel.py:283: DeprecationWarning: `should_run_async` will not call `transform_cell` automatically in the future. Please pass the result to `transformed_cell` argument and any exception that happen during thetransform in `preprocessing_exc_tuple` in IPython 7.17 and above.\n",
      "  and should_run_async(code)\n"
     ]
    },
    {
     "name": "stdout",
     "output_type": "stream",
     "text": [
      "Number of unique tokens: 2357\n",
      "Number of documents: 1469\n"
     ]
    }
   ],
   "source": [
    "# Tokenize the documents.\n",
    "docs = []\n",
    "# Split the documents into tokens.\n",
    "tokenizer = RegexpTokenizer(r'\\w+')\n",
    "for doc in rawdocs:\n",
    "    docs.append(tokenizer.tokenize(doc.lower()))\n",
    "\n",
    "# Remove numbers, but not words that contain numbers.\n",
    "docs = [[token for token in doc if not token.isnumeric()] for doc in docs]\n",
    "\n",
    "# Remove words that are only 3 characters.\n",
    "docs = [[token for token in doc if len(token) > 3] for doc in docs]\n",
    "\n",
    "# Remove Stop Words\n",
    "stop_words = stopwords.words('english')\n",
    "docs = [[word for word in doc if word not in stop_words] for doc in docs]\n",
    "\n",
    "# Lemmatize the documents.\n",
    "lemmatizer = WordNetLemmatizer()\n",
    "docs = [[lemmatizer.lemmatize(token) for token in doc] for doc in docs]\n",
    "\n",
    "# Add bigrams and trigrams to docs (only ones that appear 20 times or more).\n",
    "# if 'soil' is followed by 'moisture' more than 20 times 'soil moisture' will be a bigram\n",
    "bigram = Phrases(docs, min_count=20) \n",
    "docs2 = []\n",
    "for idx in range(len(docs)):\n",
    "    tmp = []\n",
    "    for token in bigram[docs[idx]]:\n",
    "        if '_' in token:\n",
    "            # Token is a bigram, add to document.\n",
    "            docs[idx].append(token)\n",
    "            tmp.append(token)\n",
    "    docs2.append(tmp)\n",
    "\n",
    "# overwrite docs with docs2 (only contains bigrams)\n",
    "docs = docs2\n",
    "\n",
    "# filter unrelevant words\n",
    "\n",
    "# reate a dictionary representation of the documents.\n",
    "dictionary = Dictionary(docs)\n",
    "\n",
    "# filter out words that occur in less than 20 documents, or more than 50% of the documents.\n",
    "dictionary.filter_extremes(no_below=20, no_above=0.5)\n",
    "\n",
    "# bag-of-words (bow) representation of the documents\n",
    "# e.g. this word appears 5 times in the first document\n",
    "corpus = [dictionary.doc2bow(doc) for doc in docs]\n",
    "\n",
    "print('Number of unique tokens: {:d}'.format(len(dictionary)))\n",
    "print('Number of documents: {:d}'.format(len(corpus)))"
   ]
  },
  {
   "cell_type": "code",
   "execution_count": 65,
   "id": "19265606-953c-4ed9-b1e3-8429d9d16e5b",
   "metadata": {
    "iooxa": {
     "id": {
      "block": "2g812Tzum3tIRb90ewlH",
      "project": "UQpQnbX8k8j6zcU3ZLtz",
      "version": 1
     },
     "outputId": {
      "block": "EGznO1C4EZYRXGuqNpNy",
      "project": "UQpQnbX8k8j6zcU3ZLtz",
      "version": 1
     }
    }
   },
   "outputs": [
    {
     "name": "stdout",
     "output_type": "stream",
     "text": [
      "elapsed: 9.47s\n",
      "Average topic coherence: 0.4489.\n",
      "[([(0.018921953, 'cropping_system'),\n",
      "   (0.0187947, 'crop_residue'),\n",
      "   (0.014009258, 'cover_crop'),\n",
      "   (0.011505524, 'water_content'),\n",
      "   (0.009450039, 'conventional_tillage'),\n",
      "   (0.008490499, 'management_practice')],\n",
      "  0.5236405721991458),\n",
      " ([(0.013336286, 'conventional_tillage'),\n",
      "   (0.013057083, 'cover_crop'),\n",
      "   (0.012240555, 'water_content'),\n",
      "   (0.009678259, 'grain_yield'),\n",
      "   (0.009281432, 'crop_rotation'),\n",
      "   (0.009192558, 'crop_residue')],\n",
      "  0.49061680927523016),\n",
      " ([(0.022359645, 'conventional_tillage'),\n",
      "   (0.01509124, 'aggregate_stability'),\n",
      "   (0.013987245, 'water_content'),\n",
      "   (0.011894111, 'aggregate_size'),\n",
      "   (0.0107264845, 'crop_rotation'),\n",
      "   (0.009385023, 'grain_yield')],\n",
      "  0.45750483823713334),\n",
      " ([(0.077327386, 'cover_crop'),\n",
      "   (0.014222107, 'cropping_system'),\n",
      "   (0.01326314, 'microbial_biomass'),\n",
      "   (0.012795408, 'water_content'),\n",
      "   (0.010075966, 'growing_season'),\n",
      "   (0.008690889, 'winter_wheat')],\n",
      "  0.435604058674969),\n",
      " ([(0.013928203, 'water_retention'),\n",
      "   (0.013486217, 'water_content'),\n",
      "   (0.011722865, 'crop_residue'),\n",
      "   (0.010701053, 'microbial_biomass'),\n",
      "   (0.0104119405, 'cover_crop'),\n",
      "   (0.008551629, 'conventional_tillage')],\n",
      "  0.4127021320200597),\n",
      " ([(0.06205178, 'cover_crop'),\n",
      "   (0.013854909, 'infiltration_rate'),\n",
      "   (0.012729005, 'microbial_biomass'),\n",
      "   (0.010003757, 'water_content'),\n",
      "   (0.0068410523, 'cropping_system'),\n",
      "   (0.0065750354, 'plant_growth')],\n",
      "  0.37306997387171936)]\n"
     ]
    }
   ],
   "source": [
    "# Train LDA model (Latent Dirichlet Analysis)\n",
    "\n",
    "num_topics = 6\n",
    "\n",
    "# Make a index to word dictionary.\n",
    "temp = dictionary[0]  # This is only to \"load\" the dictionary.\n",
    "id2word = dictionary.id2token\n",
    "\n",
    "# create the model\n",
    "model = LdaModel(\n",
    "    #workers=4,\n",
    "    corpus=corpus,\n",
    "    id2word=dictionary,\n",
    "    #chunksize=1000,\n",
    "    #alpha='auto',\n",
    "    #eta='auto',\n",
    "    #iterations=100,\n",
    "    num_topics=num_topics,\n",
    "    #passes=10,\n",
    "    #eval_every=None  # don't evaluate model perplexity, takes too much time.\n",
    ")\n",
    "\n",
    "# train the model with the selected coherence metrics and keep the top N words\n",
    "t0 = time.time()\n",
    "#top_topics = model.top_topics(corpus, coherence='u_mass', topn=5)\n",
    "top_topics = model.top_topics(texts=docs, coherence='c_v', dictionary=dictionary, topn=6)\n",
    "print('elapsed: {:.2f}s'.format(time.time() - t0))\n",
    "\n",
    "# average topic coherence is the sum of topic coherences of all topics, divided by the number of topics.\n",
    "avg_topic_coherence = sum([t[1] for t in top_topics]) / num_topics\n",
    "print('Average topic coherence: %.4f.' % avg_topic_coherence)\n",
    "\n",
    "# probability of a word belonging to a topic\n",
    "# model.get_term_topics('cover_crop')\n",
    "\n",
    "# bow_list =['cover_crop', 'water_content']\n",
    "# # convert to bag of words format first\n",
    "# bow = model.id2word.doc2bow(bow_list)\n",
    "\n",
    "# # interpreting the data\n",
    "# doc_topics, word_topics, phi_values = model.get_document_topics(bow, per_word_topics = True)\n",
    "\n",
    "pprint(top_topics)"
   ]
  },
  {
   "cell_type": "code",
   "execution_count": 73,
   "id": "bf858d92-75e3-45fe-9fab-8790f899f694",
   "metadata": {
    "iooxa": {
     "id": {
      "block": "eXL5LyuB0p3c20hUcAnu",
      "project": "UQpQnbX8k8j6zcU3ZLtz",
      "version": 1
     },
     "outputId": {
      "block": "UDThhBlBk3n9ieYgATnk",
      "project": "UQpQnbX8k8j6zcU3ZLtz",
      "version": 1
     }
    }
   },
   "outputs": [
    {
     "data": {
      "application/vnd.jupyter.widget-view+json": {
       "model_id": "6b46cb96b02545509a77c71a5db5d6ad",
       "version_major": 2,
       "version_minor": 0
      },
      "text/plain": [
       "  0%|          | 0/15 [00:00<?, ?it/s]"
      ]
     },
     "metadata": {},
     "output_type": "display_data"
    },
    {
     "name": "stdout",
     "output_type": "stream",
     "text": [
      "modelling 2 topics\n",
      "modelling 3 topics\n",
      "modelling 4 topics\n",
      "modelling 5 topics\n",
      "modelling 6 topics\n",
      "modelling 7 topics\n",
      "modelling 8 topics\n",
      "modelling 9 topics\n",
      "modelling 10 topics\n",
      "modelling 11 topics\n",
      "modelling 12 topics\n",
      "modelling 15 topics\n",
      "modelling 20 topics\n",
      "modelling 30 topics\n",
      "modelling 40 topics\n"
     ]
    }
   ],
   "source": [
    "# try multiple number of topics\n",
    "avgcoh = []\n",
    "models = []\n",
    "for num_topics in tqdm([2, 3, 4, 5, 6, 7, 8, 9, 10, 11, 12, 15, 20, 30, 40]):\n",
    "    print('modelling {:d} topics'.format(num_topics))\n",
    "    model = LdaMulticore(\n",
    "        workers=4,\n",
    "        corpus=corpus,\n",
    "        id2word=id2word,\n",
    "        chunksize=1000,\n",
    "        #alpha='auto',\n",
    "        eta='auto',\n",
    "        iterations=100,\n",
    "        num_topics=num_topics,\n",
    "        passes=10,\n",
    "        eval_every=None  # don't evaluate model perplexity, takes too much time.\n",
    "    )\n",
    "\n",
    "   # top_topics = model.top_topics(corpus=corpus, coherence='u_mass', topn=5)\n",
    "    top_topics = model.top_topics(texts=docs, coherence='c_v', dictionary=dictionary, topn=5)\n",
    "    coherences = [t[1] for t in top_topics]\n",
    "    avgcoh.append([num_topics,\n",
    "                   np.mean(coherences),\n",
    "                   np.std(coherences)/np.sqrt(len(coherences))])\n",
    "    models.append(copy.deepcopy(model))"
   ]
  },
  {
   "cell_type": "code",
   "execution_count": 91,
   "id": "67c0251a-7a67-46b3-8e1a-0f79c668607b",
   "metadata": {
    "iooxa": {
     "id": {
      "block": "1xfZCBw6xs9IDQY89cSx",
      "project": "UQpQnbX8k8j6zcU3ZLtz",
      "version": 1
     },
     "outputId": {
      "block": "gPtX7s0xhI8garEWjp6G",
      "project": "UQpQnbX8k8j6zcU3ZLtz",
      "version": 1
     }
    }
   },
   "outputs": [
    {
     "data": {
      "image/png": "[encoded data removed]",
      "text/plain": [
       "<Figure size 432x288 with 1 Axes>"
      ]
     },
     "metadata": {
      "needs_background": "light"
     },
     "output_type": "display_data"
    }
   ],
   "source": [
    "# figure\n",
    "avgcoh = np.array(avgcoh)\n",
    "fig, ax = plt.subplots()\n",
    "ax.errorbar(avgcoh[:, 0], avgcoh[:, 1], yerr=avgcoh[:, 2],\n",
    "            marker='.', linestyle='-')\n",
    "ax.set_xlabel('Number of topics')\n",
    "ax.set_ylabel('Coherence')\n",
    "fig.savefig(outputdir + 'coherence-meta.png', dpi=300)"
   ]
  },
  {
   "cell_type": "code",
   "execution_count": 86,
   "id": "47de70ac-7769-4581-a318-a6bf962289c3",
   "metadata": {},
   "outputs": [],
   "source": [
    "# select best model\n",
    "model = copy.deepcopy(models[4])\n",
    "#model.save('lda_model')\n",
    "model = LdaModel.load('lda_model')"
   ]
  },
  {
   "cell_type": "code",
   "execution_count": 88,
   "id": "576e7ebf-ad96-459c-84df-6cbe3f515bb6",
   "metadata": {
    "iooxa": {
     "id": {
      "block": "gv9tjs9rtPpThObYYZ1W",
      "project": "UQpQnbX8k8j6zcU3ZLtz",
      "version": 1
     },
     "outputId": {
      "block": "pMX1Z8NY4o6Y3bpY0XFU",
      "project": "UQpQnbX8k8j6zcU3ZLtz",
      "version": 1
     }
    }
   },
   "outputs": [
    {
     "data": {
      "text/plain": [
       "[(0,\n",
       "  '0.044*\"microbial_biomass\" + 0.028*\"aggregate_size\" + 0.017*\"meta_analysis\" + 0.017*\"aggregate_stability\" + 0.017*\"microbial_community\" + 0.013*\"crop_residue\" + 0.012*\"water_stable\" + 0.011*\"microbial_activity\" + 0.010*\"enzyme_activity\" + 0.008*\"conventional_tillage\"'),\n",
       " (1,\n",
       "  '0.036*\"water_content\" + 0.031*\"water_retention\" + 0.028*\"biochar_application\" + 0.015*\"aggregate_stability\" + 0.014*\"biochar_amendment\" + 0.014*\"biochar_addition\" + 0.013*\"physical_property\" + 0.012*\"pore_size\" + 0.012*\"particle_size\" + 0.010*\"sandy_loam\"'),\n",
       " (2,\n",
       "  '0.032*\"conventional_tillage\" + 0.023*\"crop_residue\" + 0.020*\"winter_wheat\" + 0.019*\"conservation_tillage\" + 0.017*\"growing_season\" + 0.016*\"water_content\" + 0.014*\"grain_yield\" + 0.012*\"cropping_system\" + 0.011*\"crop_rotation\" + 0.011*\"signiﬁcant_difference\"'),\n",
       " (3,\n",
       "  '0.019*\"grain_yield\" + 0.018*\"infiltration_rate\" + 0.015*\"cropping_system\" + 0.013*\"green_manure\" + 0.012*\"crop_rotation\" + 0.011*\"significant_difference\" + 0.008*\"grazing_intensity\" + 0.008*\"stocking_rate\" + 0.008*\"farming_system\" + 0.007*\"maize_grain\"'),\n",
       " (4,\n",
       "  '0.201*\"cover_crop\" + 0.022*\"cropping_system\" + 0.019*\"hairy_vetch\" + 0.016*\"winter_cover\" + 0.010*\"weed_control\" + 0.010*\"aboveground_biomass\" + 0.009*\"catch_crop\" + 0.009*\"growing_season\" + 0.009*\"crop_rotation\" + 0.008*\"corn_soybean\"'),\n",
       " (5,\n",
       "  '0.014*\"rainfall_event\" + 0.014*\"conventional_tillage\" + 0.010*\"rainfall_intensity\" + 0.010*\"vegetation_cover\" + 0.010*\"rice_wheat\" + 0.009*\"significant_difference\" + 0.009*\"runoff_sediment\" + 0.009*\"zero_tillage\" + 0.008*\"sewage_sludge\" + 0.008*\"water_content\"')]"
      ]
     },
     "execution_count": 88,
     "metadata": {},
     "output_type": "execute_result"
    }
   ],
   "source": [
    "model.print_topics()"
   ]
  },
  {
   "cell_type": "code",
   "execution_count": 89,
   "id": "c8cc3cc6-55ef-4593-9714-ccc1f046ecf9",
   "metadata": {},
   "outputs": [
    {
     "data": {
      "text/plain": [
       "PreparedData(topic_coordinates=              x         y  topics  cluster       Freq\n",
       "topic                                                \n",
       "2     -0.009264 -0.010187       1        1  21.966007\n",
       "0      0.077979  0.174206       2        1  19.007524\n",
       "1      0.154541 -0.075686       3        1  17.477681\n",
       "3     -0.042539 -0.010023       4        1  16.536725\n",
       "4     -0.187187  0.009821       5        1  13.311662\n",
       "5      0.006469 -0.088131       6        1  11.700402, topic_info=                       Term         Freq        Total Category  logprob  \\\n",
       "288              cover_crop  9566.000000  9566.000000  Default  30.0000   \n",
       "450       microbial_biomass  3346.000000  3346.000000  Default  29.0000   \n",
       "817     biochar_application  1770.000000  1770.000000  Default  28.0000   \n",
       "416         water_retention  2115.000000  2115.000000  Default  27.0000   \n",
       "900          aggregate_size  2061.000000  2061.000000  Default  26.0000   \n",
       "..                      ...          ...          ...      ...      ...   \n",
       "92             crop_residue   334.784719  3824.324200   Topic6  -4.8164   \n",
       "61            water_content   338.393247  4375.855205   Topic6  -4.8057   \n",
       "22        infiltration_rate   225.041357  1420.021678   Topic6  -5.2136   \n",
       "19   hydraulic_conductivity   170.651076   747.229999   Topic6  -5.4903   \n",
       "46                semi_arid   166.893485   656.302629   Topic6  -5.5125   \n",
       "\n",
       "     loglift  \n",
       "288  30.0000  \n",
       "450  29.0000  \n",
       "817  28.0000  \n",
       "416  27.0000  \n",
       "900  26.0000  \n",
       "..       ...  \n",
       "92   -0.2901  \n",
       "61   -0.4141  \n",
       "22    0.3034  \n",
       "19    0.6688  \n",
       "46    0.7763  \n",
       "\n",
       "[396 rows x 6 columns], token_table=      Topic      Freq                 Term\n",
       "term                                      \n",
       "726       1  0.095437  aboveground_biomass\n",
       "726       2  0.029540  aboveground_biomass\n",
       "726       3  0.026132  aboveground_biomass\n",
       "726       4  0.229503  aboveground_biomass\n",
       "726       5  0.519222  aboveground_biomass\n",
       "...     ...       ...                  ...\n",
       "894       2  0.016829        ﬁeld_capacity\n",
       "894       3  0.730864        ﬁeld_capacity\n",
       "894       4  0.007212        ﬁeld_capacity\n",
       "894       5  0.057700        ﬁeld_capacity\n",
       "894       6  0.012021        ﬁeld_capacity\n",
       "\n",
       "[1560 rows x 3 columns], R=30, lambda_step=0.01, plot_opts={'xlab': 'PC1', 'ylab': 'PC2'}, topic_order=[3, 1, 2, 4, 5, 6])"
      ]
     },
     "execution_count": 89,
     "metadata": {},
     "output_type": "execute_result"
    }
   ],
   "source": [
    "# show interactive vizualisation\n",
    "#pyLDAvis.enable_notebook()  # comment to show the interactive in the notebook\n",
    "pyLDAvis.disable_notebook()\n",
    "# https://nbviewer.org/github/bmabey/pyLDAvis/blob/master/notebooks/pyLDAvis_overview.ipynb#topic=0&lambda=1&term=\n",
    "out = gensimvis.prepare(model, corpus, dictionary)\n",
    "out"
   ]
  },
  {
   "cell_type": "code",
   "execution_count": 90,
   "id": "bea1495c-2b25-4bfd-90ac-8fd947420f78",
   "metadata": {
    "iooxa": {
     "id": {
      "block": "7DOsrPpcYIzdaffz7Gwc",
      "project": "UQpQnbX8k8j6zcU3ZLtz",
      "version": 1
     },
     "outputId": {
      "block": "K2Xrh8R5cSPVAzj0nL9V",
      "project": "UQpQnbX8k8j6zcU3ZLtz",
      "version": 1
     }
    }
   },
   "outputs": [
    {
     "data": {
      "image/png": "[encoded data removed]",
      "text/plain": [
       "<Figure size 864x432 with 7 Axes>"
      ]
     },
     "metadata": {
      "needs_background": "light"
     },
     "output_type": "display_data"
    }
   ],
   "source": [
    "# figure similar to Padarian and LDAvis\n",
    "fig = plt.figure(figsize=(12, 6))\n",
    "\n",
    "# topic on pca axes\n",
    "df = out.topic_coordinates\n",
    "num_topics = df.shape[0]\n",
    "ax = plt.subplot2grid((num_topics//2, 4), (0, 0), rowspan=num_topics//2, colspan=2)\n",
    "ax.spines['right'].set_position('zero')\n",
    "ax.spines['top'].set_position('zero')\n",
    "ax.spines['left'].set_color('none')\n",
    "ax.spines['bottom'].set_color('none')\n",
    "ax.spines['right'].set_color('lightgrey')\n",
    "ax.spines['top'].set_color('lightgrey')\n",
    "ax.set_xticks([])\n",
    "ax.set_yticks([])\n",
    "ax.axhline(0, color='lightgrey')\n",
    "ax.axvline(0, color='lightgrey')\n",
    "scatter = ax.scatter(df['x'], df['y'], s=df['Freq']*100, alpha=0.5)\n",
    "for i in range(df.shape[0]):\n",
    "    ax.text(df.loc[i, 'x'], df.loc[i, 'y'], str(df.loc[i, 'topics']), ha='center', va='center')\n",
    "# produce a legend with a cross section of sizes from the scatter\n",
    "handles, labels = scatter.legend_elements(prop=\"sizes\", num=1, alpha=0.3, fmt='{x:.0f}%', func=lambda x: x/100)\n",
    "legend2 = ax.legend(handles, labels, title=\"Marginal topic frequency\")\n",
    "ax.set_xlabel('PC 1')\n",
    "ax.set_ylabel('PC 2')\n",
    "xmax = np.abs(ax.get_xlim()).max()\n",
    "ymax = np.abs(ax.get_ylim()).max()\n",
    "a = 0.05  # 5% padding\n",
    "ax.set_xlim([-xmax-a*xmax, xmax+a*xmax])\n",
    "ax.set_ylim([-ymax-a*ymax, ymax+a*ymax])\n",
    "\n",
    "# terms frequency in topic (bar plot)\n",
    "df = out.topic_info\n",
    "topn = 6  # number of topic to show in bar plot\n",
    "xlim = [0, 10000]\n",
    "for i in range(num_topics):\n",
    "    category = 'Topic' + str(i+1)\n",
    "    tdf = df[df['Category'].eq(category)].sort_values('Freq', ascending=False).reset_index(drop=False)\n",
    "    ax = plt.subplot2grid((num_topics//2, 4), (i%3, 2 + i//3)) \n",
    "    ax.set_title('Topic {:d} (C$_V$={:.2f})'.format(i+1, top_topics[i][1]))\n",
    "    ax.barh(np.arange(topn), tdf['Total'].values[:topn])\n",
    "    ax.barh(np.arange(topn), tdf['Freq'].values[:topn])\n",
    "    terms = tdf['Term'].str.replace('_', ' ').values[:topn].tolist()\n",
    "    ax.set_yticks(np.arange(len(terms)))\n",
    "    ax.set_yticklabels(terms)\n",
    "    ax.set_xlim(xlim)\n",
    "    ax.invert_yaxis()\n",
    "    ax.set_xlabel('Term frequency')\n",
    "fig.tight_layout()\n",
    "fig.savefig(outputdir + 'topics-meta.png', dpi=300)"
   ]
  },
  {
   "cell_type": "markdown",
   "id": "68f59347-20a4-4d5e-ab9a-489eb19a3c29",
   "metadata": {
    "iooxa": {
     "id": {
      "block": "9nLvJgdo2gkbJmNvuasd",
      "project": "UQpQnbX8k8j6zcU3ZLtz",
      "version": 1
     }
    }
   },
   "source": [
    "## Detecting relationships\n",
    "\n",
    "By looking at sentence that contains a 'driver' and a 'property', we try to find the relationship between the two."
   ]
  },
  {
   "cell_type": "markdown",
   "id": "f35037d3-f042-4908-a72a-fcbcf9a43f5f",
   "metadata": {
    "iooxa": {
     "id": {
      "block": "eLHT43Do4qYfnwZp3HtR",
      "project": "UQpQnbX8k8j6zcU3ZLtz",
      "version": 1
     }
    }
   },
   "source": [
    "### Replacing abbreviation and detecting coreference\n",
    "Coreference consists in replace a pronoun with the entity it is refering to. In the case observed in the abstract, we did not found it to be useful."
   ]
  },
  {
   "cell_type": "code",
   "execution_count": 92,
   "id": "aa211a96-bdbf-434f-b351-c4ce2a1e69ed",
   "metadata": {
    "iooxa": {
     "id": {
      "block": "ziXh29WXFQm6tv7LGfmm",
      "project": "UQpQnbX8k8j6zcU3ZLtz",
      "version": 1
     },
     "outputId": null
    }
   },
   "outputs": [],
   "source": [
    "# replace abbreviation\n",
    "def replaceAbbreviation(text):\n",
    "    if pd.isna(text) is False:\n",
    "        abrvs = [a for a in re.findall(r'(\\([A-Z]*\\))', text) if len(a) > 3]\n",
    "        for abrv in abrvs:\n",
    "            meaning = ' '.join(re.split(' |\\\\n', text.split(abrv)[0])[-(len(abrv)-1):])\n",
    "            text = text.replace(abrv, '')\n",
    "            text = text.replace(abrv[1:-1], meaning)\n",
    "    return text\n",
    "\n",
    "\n",
    "replaceAbbreviation('the soil organic carbon (SOC) is generally well used. SOC is dependent on ')\n",
    "dfpub['abstract'] = dfpub['abstract'].apply(replaceAbbreviation)\n",
    "dfpub['abstract-web'] = dfpub['abstract-web'].apply(replaceAbbreviation)"
   ]
  },
  {
   "cell_type": "code",
   "execution_count": 93,
   "id": "212e939f-abe4-4a20-aab1-8dbcf62156ae",
   "metadata": {
    "iooxa": {
     "id": {
      "block": "FYuDLxbEAxcw0MrMrVVY",
      "project": "UQpQnbX8k8j6zcU3ZLtz",
      "version": 1
     },
     "outputId": null
    }
   },
   "outputs": [],
   "source": [
    "# replacing et al. by et al (without dots) to prevent it being as sentence period\n",
    "def replaceEtAl(text):\n",
    "    if pd.isna(text) is False:\n",
    "        return text.replace('et al.', 'et al')\n",
    "dfpub['abstract'] = dfpub['abstract'].apply(replaceEtAl)\n",
    "dfpub['abstract-web'] = dfpub['abstract-web'].apply(replaceEtAl)"
   ]
  },
  {
   "cell_type": "markdown",
   "id": "480ec85c-58e9-40b9-ac25-3f5a8e33b5b7",
   "metadata": {
    "iooxa": {
     "id": {
      "block": "UX5DBSzIMP9JzY4B01DY",
      "project": "UQpQnbX8k8j6zcU3ZLtz",
      "version": 1
     }
    }
   },
   "source": [
    "### Example"
   ]
  },
  {
   "cell_type": "code",
   "execution_count": 94,
   "id": "6f52c4a5-6f9b-4b09-944b-ae87432e523d",
   "metadata": {
    "iooxa": {
     "id": {
      "block": "5xb8lm7iIYa5xeFPoHIi",
      "project": "UQpQnbX8k8j6zcU3ZLtz",
      "version": 1
     },
     "outputId": {
      "block": "QFoFppqxbw7Sa44559tB",
      "project": "UQpQnbX8k8j6zcU3ZLtz",
      "version": 1
     }
    }
   },
   "outputs": [
    {
     "data": {
      "text/html": [
       "<span class=\"tex2jax_ignore\"><svg xmlns=\"http://www.w3.org/2000/svg\" xmlns:xlink=\"http://www.w3.org/1999/xlink\" xml:lang=\"en\" id=\"a04657556aec4d70b42a6403ac2a3f69-0\" class=\"displacy\" width=\"860\" height=\"317.0\" direction=\"ltr\" style=\"max-width: none; height: 317.0px; color: #000000; background: #ffffff; font-family: Arial; direction: ltr\">\n",
       "<text class=\"displacy-token\" fill=\"currentColor\" text-anchor=\"middle\" y=\"227.0\">\n",
       "    <tspan class=\"displacy-word\" fill=\"currentColor\" x=\"50\">In</tspan>\n",
       "    <tspan class=\"displacy-tag\" dy=\"2em\" fill=\"currentColor\" x=\"50\">ADP</tspan>\n",
       "</text>\n",
       "\n",
       "<text class=\"displacy-token\" fill=\"currentColor\" text-anchor=\"middle\" y=\"227.0\">\n",
       "    <tspan class=\"displacy-word\" fill=\"currentColor\" x=\"140\">the</tspan>\n",
       "    <tspan class=\"displacy-tag\" dy=\"2em\" fill=\"currentColor\" x=\"140\">DET</tspan>\n",
       "</text>\n",
       "\n",
       "<text class=\"displacy-token\" fill=\"currentColor\" text-anchor=\"middle\" y=\"227.0\">\n",
       "    <tspan class=\"displacy-word\" fill=\"currentColor\" x=\"230\">short</tspan>\n",
       "    <tspan class=\"displacy-tag\" dy=\"2em\" fill=\"currentColor\" x=\"230\">ADJ</tspan>\n",
       "</text>\n",
       "\n",
       "<text class=\"displacy-token\" fill=\"currentColor\" text-anchor=\"middle\" y=\"227.0\">\n",
       "    <tspan class=\"displacy-word\" fill=\"currentColor\" x=\"320\">term,</tspan>\n",
       "    <tspan class=\"displacy-tag\" dy=\"2em\" fill=\"currentColor\" x=\"320\">NOUN</tspan>\n",
       "</text>\n",
       "\n",
       "<text class=\"displacy-token\" fill=\"currentColor\" text-anchor=\"middle\" y=\"227.0\">\n",
       "    <tspan class=\"displacy-word\" fill=\"currentColor\" x=\"410\">tillage</tspan>\n",
       "    <tspan class=\"displacy-tag\" dy=\"2em\" fill=\"currentColor\" x=\"410\">NOUN</tspan>\n",
       "</text>\n",
       "\n",
       "<text class=\"displacy-token\" fill=\"currentColor\" text-anchor=\"middle\" y=\"227.0\">\n",
       "    <tspan class=\"displacy-word\" fill=\"currentColor\" x=\"500\">operations</tspan>\n",
       "    <tspan class=\"displacy-tag\" dy=\"2em\" fill=\"currentColor\" x=\"500\">NOUN</tspan>\n",
       "</text>\n",
       "\n",
       "<text class=\"displacy-token\" fill=\"currentColor\" text-anchor=\"middle\" y=\"227.0\">\n",
       "    <tspan class=\"displacy-word\" fill=\"currentColor\" x=\"590\">significantly</tspan>\n",
       "    <tspan class=\"displacy-tag\" dy=\"2em\" fill=\"currentColor\" x=\"590\">ADV</tspan>\n",
       "</text>\n",
       "\n",
       "<text class=\"displacy-token\" fill=\"currentColor\" text-anchor=\"middle\" y=\"227.0\">\n",
       "    <tspan class=\"displacy-word\" fill=\"currentColor\" x=\"680\">increased</tspan>\n",
       "    <tspan class=\"displacy-tag\" dy=\"2em\" fill=\"currentColor\" x=\"680\">VERB</tspan>\n",
       "</text>\n",
       "\n",
       "<text class=\"displacy-token\" fill=\"currentColor\" text-anchor=\"middle\" y=\"227.0\">\n",
       "    <tspan class=\"displacy-word\" fill=\"currentColor\" x=\"770\">K</tspan>\n",
       "    <tspan class=\"displacy-tag\" dy=\"2em\" fill=\"currentColor\" x=\"770\">PROPN</tspan>\n",
       "</text>\n",
       "\n",
       "<g class=\"displacy-arrow\">\n",
       "    <path class=\"displacy-arc\" id=\"arrow-a04657556aec4d70b42a6403ac2a3f69-0-0\" stroke-width=\"2px\" d=\"M62,182.0 62,122.0 680.0,122.0 680.0,182.0\" fill=\"none\" stroke=\"currentColor\"/>\n",
       "    <text dy=\"1.25em\" style=\"font-size: 0.8em; letter-spacing: 1px\">\n",
       "        <textPath xlink:href=\"#arrow-a04657556aec4d70b42a6403ac2a3f69-0-0\" class=\"displacy-label\" startOffset=\"50%\" side=\"left\" fill=\"currentColor\" text-anchor=\"middle\">prep</textPath>\n",
       "    </text>\n",
       "    <path class=\"displacy-arrowhead\" d=\"M62,184.0 L58,176.0 66,176.0\" fill=\"currentColor\"/>\n",
       "</g>\n",
       "\n",
       "<g class=\"displacy-arrow\">\n",
       "    <path class=\"displacy-arc\" id=\"arrow-a04657556aec4d70b42a6403ac2a3f69-0-1\" stroke-width=\"2px\" d=\"M152,182.0 152,152.0 314.0,152.0 314.0,182.0\" fill=\"none\" stroke=\"currentColor\"/>\n",
       "    <text dy=\"1.25em\" style=\"font-size: 0.8em; letter-spacing: 1px\">\n",
       "        <textPath xlink:href=\"#arrow-a04657556aec4d70b42a6403ac2a3f69-0-1\" class=\"displacy-label\" startOffset=\"50%\" side=\"left\" fill=\"currentColor\" text-anchor=\"middle\">det</textPath>\n",
       "    </text>\n",
       "    <path class=\"displacy-arrowhead\" d=\"M152,184.0 L148,176.0 156,176.0\" fill=\"currentColor\"/>\n",
       "</g>\n",
       "\n",
       "<g class=\"displacy-arrow\">\n",
       "    <path class=\"displacy-arc\" id=\"arrow-a04657556aec4d70b42a6403ac2a3f69-0-2\" stroke-width=\"2px\" d=\"M242,182.0 242,167.0 311.0,167.0 311.0,182.0\" fill=\"none\" stroke=\"currentColor\"/>\n",
       "    <text dy=\"1.25em\" style=\"font-size: 0.8em; letter-spacing: 1px\">\n",
       "        <textPath xlink:href=\"#arrow-a04657556aec4d70b42a6403ac2a3f69-0-2\" class=\"displacy-label\" startOffset=\"50%\" side=\"left\" fill=\"currentColor\" text-anchor=\"middle\">amod</textPath>\n",
       "    </text>\n",
       "    <path class=\"displacy-arrowhead\" d=\"M242,184.0 L238,176.0 246,176.0\" fill=\"currentColor\"/>\n",
       "</g>\n",
       "\n",
       "<g class=\"displacy-arrow\">\n",
       "    <path class=\"displacy-arc\" id=\"arrow-a04657556aec4d70b42a6403ac2a3f69-0-3\" stroke-width=\"2px\" d=\"M62,182.0 62,137.0 317.0,137.0 317.0,182.0\" fill=\"none\" stroke=\"currentColor\"/>\n",
       "    <text dy=\"1.25em\" style=\"font-size: 0.8em; letter-spacing: 1px\">\n",
       "        <textPath xlink:href=\"#arrow-a04657556aec4d70b42a6403ac2a3f69-0-3\" class=\"displacy-label\" startOffset=\"50%\" side=\"left\" fill=\"currentColor\" text-anchor=\"middle\">pobj</textPath>\n",
       "    </text>\n",
       "    <path class=\"displacy-arrowhead\" d=\"M317.0,184.0 L321.0,176.0 313.0,176.0\" fill=\"currentColor\"/>\n",
       "</g>\n",
       "\n",
       "<g class=\"displacy-arrow\">\n",
       "    <path class=\"displacy-arc\" id=\"arrow-a04657556aec4d70b42a6403ac2a3f69-0-4\" stroke-width=\"2px\" d=\"M422,182.0 422,167.0 491.0,167.0 491.0,182.0\" fill=\"none\" stroke=\"currentColor\"/>\n",
       "    <text dy=\"1.25em\" style=\"font-size: 0.8em; letter-spacing: 1px\">\n",
       "        <textPath xlink:href=\"#arrow-a04657556aec4d70b42a6403ac2a3f69-0-4\" class=\"displacy-label\" startOffset=\"50%\" side=\"left\" fill=\"currentColor\" text-anchor=\"middle\">compound</textPath>\n",
       "    </text>\n",
       "    <path class=\"displacy-arrowhead\" d=\"M422,184.0 L418,176.0 426,176.0\" fill=\"currentColor\"/>\n",
       "</g>\n",
       "\n",
       "<g class=\"displacy-arrow\">\n",
       "    <path class=\"displacy-arc\" id=\"arrow-a04657556aec4d70b42a6403ac2a3f69-0-5\" stroke-width=\"2px\" d=\"M512,182.0 512,152.0 674.0,152.0 674.0,182.0\" fill=\"none\" stroke=\"currentColor\"/>\n",
       "    <text dy=\"1.25em\" style=\"font-size: 0.8em; letter-spacing: 1px\">\n",
       "        <textPath xlink:href=\"#arrow-a04657556aec4d70b42a6403ac2a3f69-0-5\" class=\"displacy-label\" startOffset=\"50%\" side=\"left\" fill=\"currentColor\" text-anchor=\"middle\">nsubj</textPath>\n",
       "    </text>\n",
       "    <path class=\"displacy-arrowhead\" d=\"M512,184.0 L508,176.0 516,176.0\" fill=\"currentColor\"/>\n",
       "</g>\n",
       "\n",
       "<g class=\"displacy-arrow\">\n",
       "    <path class=\"displacy-arc\" id=\"arrow-a04657556aec4d70b42a6403ac2a3f69-0-6\" stroke-width=\"2px\" d=\"M602,182.0 602,167.0 671.0,167.0 671.0,182.0\" fill=\"none\" stroke=\"currentColor\"/>\n",
       "    <text dy=\"1.25em\" style=\"font-size: 0.8em; letter-spacing: 1px\">\n",
       "        <textPath xlink:href=\"#arrow-a04657556aec4d70b42a6403ac2a3f69-0-6\" class=\"displacy-label\" startOffset=\"50%\" side=\"left\" fill=\"currentColor\" text-anchor=\"middle\">advmod</textPath>\n",
       "    </text>\n",
       "    <path class=\"displacy-arrowhead\" d=\"M602,184.0 L598,176.0 606,176.0\" fill=\"currentColor\"/>\n",
       "</g>\n",
       "\n",
       "<g class=\"displacy-arrow\">\n",
       "    <path class=\"displacy-arc\" id=\"arrow-a04657556aec4d70b42a6403ac2a3f69-0-7\" stroke-width=\"2px\" d=\"M692,182.0 692,167.0 761.0,167.0 761.0,182.0\" fill=\"none\" stroke=\"currentColor\"/>\n",
       "    <text dy=\"1.25em\" style=\"font-size: 0.8em; letter-spacing: 1px\">\n",
       "        <textPath xlink:href=\"#arrow-a04657556aec4d70b42a6403ac2a3f69-0-7\" class=\"displacy-label\" startOffset=\"50%\" side=\"left\" fill=\"currentColor\" text-anchor=\"middle\">npadvmod</textPath>\n",
       "    </text>\n",
       "    <path class=\"displacy-arrowhead\" d=\"M761.0,184.0 L765.0,176.0 757.0,176.0\" fill=\"currentColor\"/>\n",
       "</g>\n",
       "</svg></span>"
      ],
      "text/plain": [
       "<IPython.core.display.HTML object>"
      ]
     },
     "metadata": {},
     "output_type": "display_data"
    }
   ],
   "source": [
    "# example for paper\n",
    "text = \"In the short term, tillage operations significantly increased K\"# for the entire range of pressure head applied.\"\n",
    "sent = nlp(text)\n",
    "displacy.render(sent, style='dep', options={'compact': True, 'distance': 90})"
   ]
  },
  {
   "cell_type": "code",
   "execution_count": 95,
   "id": "4a4399fb-b7c0-49b7-b7fe-8c8b28b4d705",
   "metadata": {
    "iooxa": {
     "id": {
      "block": "lB7iqjNh6NcODwxjodEJ",
      "project": "UQpQnbX8k8j6zcU3ZLtz",
      "version": 1
     },
     "outputId": {
      "block": "7aBUUOIkULcJ2e3uhtxk",
      "project": "UQpQnbX8k8j6zcU3ZLtz",
      "version": 1
     }
    }
   },
   "outputs": [
    {
     "data": {
      "image/png": "[encoded data removed]",
      "text/plain": [
       "<Figure size 432x288 with 1 Axes>"
      ]
     },
     "metadata": {},
     "output_type": "display_data"
    }
   ],
   "source": [
    "# build dependency graph and show shortest dependency path\n",
    "fig, ax = plt.subplots()\n",
    "node_size = 1500\n",
    "\n",
    "# find shortest dependency path (SDP)\n",
    "edges = []\n",
    "for token in sent:\n",
    "    for child in token.children:\n",
    "        edges.append((token.i, child.i))\n",
    "G = nx.Graph(edges)\n",
    "sdp = nx.shortest_path(G, \n",
    "                       source=5,\n",
    "                       target=9)\n",
    "\n",
    "# draw network\n",
    "pos = nx.spring_layout(G)\n",
    "nx.draw_networkx_edges(G, pos, ax=ax, alpha=0.5)\n",
    "nx.draw_networkx_nodes(G, pos, alpha=1, ax=ax, node_color='orange', node_size=node_size)\n",
    "nx.draw_networkx_labels(G, pos, labels=dict(zip(np.arange(len(sent)), [a for a in sent])),\n",
    "                        font_family=\"sans-serif\", ax=ax, font_size=12)\n",
    "\n",
    "# draw sdp\n",
    "path_edges = list(zip(sdp, sdp[1:]))\n",
    "nx.draw_networkx_nodes(G, pos, nodelist=sdp[:1], node_color='lightblue', node_size=node_size)\n",
    "nx.draw_networkx_nodes(G, pos, nodelist=sdp[-1:], node_color='lime', node_size=node_size)\n",
    "nx.draw_networkx_edges(G, pos, edgelist=path_edges, edge_color='r', width=5)\n",
    "\n",
    "plt.axis(\"off\")\n",
    "ax.set_xlim([-1.2, 1.2])\n",
    "ax.set_ylim([-1.2, 1.2])\n",
    "fig.tight_layout()\n",
    "fig.savefig(outputdir + 'sdp.png', dpi=300)"
   ]
  },
  {
   "cell_type": "markdown",
   "id": "703c678d-1f11-47fc-8de3-37463f3d1c21",
   "metadata": {
    "iooxa": {
     "id": {
      "block": "roCaNO47Sf2KWjp4GI92",
      "project": "UQpQnbX8k8j6zcU3ZLtz",
      "version": 1
     }
    }
   },
   "source": [
    "### Identifying relevant sentences\n",
    "Namely, a sentence which contains a relationships between a 'driver' and a 'property'."
   ]
  },
  {
   "cell_type": "code",
   "execution_count": 96,
   "id": "615ad794-39bd-4afd-8bc6-2456a00effed",
   "metadata": {
    "iooxa": {
     "id": {
      "block": "Vvk2GE43KMRajvASxVB4",
      "project": "UQpQnbX8k8j6zcU3ZLtz",
      "version": 1
     },
     "outputId": null
    }
   },
   "outputs": [],
   "source": [
    "# identify drivers and practices (could make this more complex by using the mural's keywords)\n",
    "drivers = ['tillage', 'cover crop', 'catch crop', 'residue', 'fertilizer', 'manure', 'liming', \n",
    "           'compost', 'traffic', 'compaction', 'biochar', 'irrigation', 'intercropping', 'agroforestry']\n",
    "variables = [\n",
    "    'hydraulic conductivity', 'water retention', 'available water', 'runoff',\n",
    "    'infiltration', 'bulk density', 'macroporosity', 'penetration resistance',\n",
    "    'soil strength', 'aggregate stability', 'aggregation', 'yield', 'organic matter',\n",
    "    'organic carbon', 'microbial activity', 'microbial biomass', 'faunal activity',\n",
    "    'faunal biomass', 'earthworm biomass', 'earthworm activity', 'root biomass',\n",
    "    'root depth', 'root growth',\n",
    "    # below are added from abstracts (so in in original search query)\n",
    "    'rainwater penetration', 'K', 'Ks', 'K(h)', 'K0', 'infiltration rate' \n",
    "]"
   ]
  },
  {
   "cell_type": "code",
   "execution_count": 97,
   "id": "aa9ec301-885f-473b-9464-af118dc18257",
   "metadata": {
    "iooxa": {
     "id": {
      "block": "OdF1CWj7DlzXXr3NOGtt",
      "project": "UQpQnbX8k8j6zcU3ZLtz",
      "version": 1
     },
     "outputId": null
    }
   },
   "outputs": [],
   "source": [
    "# building patterns\n",
    "driverMatcher = PhraseMatcher(nlp.vocab, attr='LEMMA')\n",
    "for driver in drivers:\n",
    "    driverMatcher.add(camelCase(driver), [nlp(driver)])\n",
    "\n",
    "variableMatcher = PhraseMatcher(nlp.vocab, attr='LEMMA')\n",
    "for variable in variables:\n",
    "    variableMatcher.add(camelCase(variable), [nlp(variable)])\n",
    "\n",
    "patterns = [\n",
    "    [\n",
    "        {'POS': 'AUX', 'OP': '+'},\n",
    "        {'POS': 'ADV', 'OP': '?'},\n",
    "        {'POS': 'ADJ', 'OP': '*'}],\n",
    "    [\n",
    "        {'POS': 'VERB', 'OP': '+'},\n",
    "        {'POS': 'ADV', 'OP': '?'},\n",
    "        {'POS': 'ADJ', 'OP': '?'},\n",
    "        {'POS': 'NOUN', 'OP': '?'}],\n",
    "]\n",
    "verbMatcher = Matcher(nlp.vocab)\n",
    "verbMatcher.add('be have', patterns)"
   ]
  },
  {
   "cell_type": "code",
   "execution_count": null,
   "id": "ff2ac2fa-edb4-4744-a26f-803fe4d6c0ee",
   "metadata": {
    "iooxa": {
     "id": {
      "block": "HAILRJZN7oa78Fgq26Uv",
      "project": "UQpQnbX8k8j6zcU3ZLtz",
      "version": 1
     },
     "outputId": {
      "block": "Opp7i4eN4Uufe1UYOWNZ",
      "project": "UQpQnbX8k8j6zcU3ZLtz",
      "version": 1
     }
    }
   },
   "outputs": [],
   "source": [
    "# look for sentence with the two keywords\n",
    "dfmatch = pd.DataFrame(columns=['pubid', 'driver', 'variable', 'sentence',\n",
    "                                'driverChunk', 'driverVerb', 'variableChunk',\n",
    "                                'variableVerb', 'negation', 'sdp', 'relationship'])\n",
    "for i, abstract in tqdm(enumerate(dfpub['abstract-web']), total=dfpub.shape[0], leave=True):\n",
    "    if pd.isna(abstract) is False:\n",
    "        doc = nlp(abstract)\n",
    "        # looking for sentence containing driver and variable\n",
    "        for sent in doc.sents:\n",
    "            driverMatches = []\n",
    "            variableMatches = []\n",
    "            # looking inside each name chunk for keywords\n",
    "            for chunk in sent.noun_chunks:\n",
    "                matches = driverMatcher(chunk)\n",
    "                if len(matches) > 0:\n",
    "                    driverMatches.append(\n",
    "                        (nlp.vocab.strings[matches[0][0]], chunk))\n",
    "                matches = variableMatcher(chunk)\n",
    "                if len(matches) > 0:\n",
    "                    variableMatches.append(\n",
    "                        (nlp.vocab.strings[matches[0][0]], chunk))\n",
    "            # check if negation\n",
    "            negs = [token for token in sent if token.dep_ == 'neg']\n",
    "            if len(driverMatches) > 0 and len(variableMatches) > 0:\n",
    "                # building relationship between drivers and variables found\n",
    "                for driverMatch in driverMatches:\n",
    "                    for variableMatch in variableMatches:\n",
    "                        # attempting to get the verb linking the two chunk\n",
    "                        # in a recursive way\n",
    "                        if driverMatch[1].root.head.pos_ == 'VERB':\n",
    "                            verb1 = driverMatch[1].root.head.text\n",
    "                        elif driverMatch[1].root.head.head.pos_ == 'VERB':\n",
    "                            verb1 = driverMatch[1].root.head.head.text\n",
    "                        elif driverMatch[1].root.head.head.head.pos_ == 'VERB':\n",
    "                            verb1 = driverMatch[1].root.head.head.head.text\n",
    "                        elif driverMatch[1].root.head.head.head.head.pos_ == 'VERB':\n",
    "                            verb1 = driverMatch[1].root.head.head.head.head.text\n",
    "                        else:\n",
    "                            verb2 = None\n",
    "                        if variableMatch[1].root.head.pos_ == 'VERB':\n",
    "                            verb2 = variableMatch[1].root.head.text\n",
    "                        elif variableMatch[1].root.head.head.pos_ == 'VERB':\n",
    "                            verb2 = variableMatch[1].root.head.head.text\n",
    "                        elif variableMatch[1].root.head.head.head.pos_ == 'VERB':\n",
    "                            verb2 = variableMatch[1].root.head.head.head.text\n",
    "                        elif variableMatch[1].root.head.head.head.head.pos_ == 'VERB':\n",
    "                            verb2 = variableMatch[1].root.head.head.head.head.text\n",
    "                        else:\n",
    "                            verb2 = None\n",
    "                        # find shortest dependency path (SDP)\n",
    "                        edges = []\n",
    "                        for token in sent:\n",
    "                            for child in token.children:\n",
    "                                edges.append((token.i, child.i))\n",
    "                        graph = nx.Graph(edges)\n",
    "                        sdp = nx.shortest_path(graph, \n",
    "                                               source=driverMatch[1].root.i,\n",
    "                                               target=variableMatch[1].root.i)\n",
    "                        i2t = dict(zip([token.i for token in sent],\n",
    "                                       [token for token in sent]))\n",
    "                        #sdpVerb = [i2t[a].lower_ for a in sdp if i2t[a].pos_ == 'VERB']\n",
    "                        \n",
    "                        # replace driver, variable and verb by more informative chunks\n",
    "                        sdpPath = ', '.join([i2t[a].lower_ for a in sdp])\n",
    "                        sdpPath = sdpPath.replace(driverMatch[1].root.text,\n",
    "                                                  driverMatch[1].text.lower())\n",
    "                        sdpPath = sdpPath.replace(variableMatch[1].root.text,\n",
    "                                                  variableMatch[1].text.lower())\n",
    "                        verbMatches = verbMatcher(sent)\n",
    "                        verbSpans = [sent[start:end] for _, start, end in verbMatches]\n",
    "                        sdpVerb = ''\n",
    "                        sdpVerbLong = ''\n",
    "                        for a in sdp:\n",
    "                            token = i2t[a]\n",
    "                            if (token.pos_ == 'AUX') | (token.pos_ == 'VERB'):\n",
    "                                sdpVerb = token.text\n",
    "                                sdpVerbLong = token.text\n",
    "                                for verbSpan in verbSpans:\n",
    "                                    if ((token in verbSpan) \n",
    "                                        & (len(sdpVerbLong) < len(verbSpan.text))):\n",
    "                                        sdpVerbLong = verbSpan.text\n",
    "                        sdpPath = sdpPath.replace(sdpVerb, sdpVerbLong)\n",
    "\n",
    "                        dic = {\n",
    "                            'pubid': i,\n",
    "                            'driver': driverMatch[0],\n",
    "                            'variable': variableMatch[0],\n",
    "                            'sentence': sent.text.strip().replace('\\n',' '),\n",
    "                            'driverChunk': driverMatch[1].text.strip().replace('\\n', ' '),\n",
    "                            'driverVerb': verb1,\n",
    "                            'variableChunk': variableMatch[1].text.strip().replace('\\n', ' '),\n",
    "                            'variableVerb': verb2,\n",
    "                            'sdp': sdpPath,\n",
    "                            #'sdp_old': ', '.join([i2t[a].lower_ for a in sdp]),\n",
    "                            'sdpVerb': sdpVerbLong,\n",
    "                            'negation': True if len(negs) % 2 != 0 else False,\n",
    "                        }\n",
    "                        dfmatch = dfmatch.append(dic, ignore_index=True)\n",
    "# drop duplicates\n",
    "print(dfmatch.shape, '-> ', end='')\n",
    "dfmatch = dfmatch.drop_duplicates().reset_index(drop=True)\n",
    "print(dfmatch.shape, 'after duplicates drop')\n",
    "\n",
    "print('{:d} relationship detected (among {:d} documents)'.format(\n",
    "    dfmatch.shape[0], dfpub.shape[0]))\n",
    "dfmatch.sort_values('sentence').to_excel(datadir + 'dfmatch-web.xlsx', index=False)"
   ]
  },
  {
   "cell_type": "markdown",
   "id": "6deefc1b-dba2-4eb5-abe6-418098477a2b",
   "metadata": {
    "iooxa": {
     "id": {
      "block": "t9YFZ1s3DoL4nW1mLpzQ",
      "project": "UQpQnbX8k8j6zcU3ZLtz",
      "version": 1
     }
    }
   },
   "source": [
    "### Assessing the correlation of relationships\n",
    "Possible sentiments:\n",
    "- +1: the two entities are positively correlated, when the driver increases, the property increases (e.g. biochar incrases hydraulic conductivity)\n",
    "- -1: the two entities are negativaly correlated, when the driver increases, the property decreases (e.g. reduced tillage increase soil hydraulic conductivity)\n",
    "- 0: there is not effect, neither positive or negative (e.g. the application of biochar had no significant effect on soil hydraulic conductivity)\n",
    "- 2: has been studied but no conclusion (e.g. the effect of biochar on soil hydraulic conductivity were investigated)\n",
    "- NA: not relevant, unclassified"
   ]
  },
  {
   "cell_type": "code",
   "execution_count": 99,
   "id": "4575027f-eb30-486c-9a74-c4e143f88a62",
   "metadata": {
    "iooxa": {
     "id": {
      "block": "9IeD5AGEpZI6q16sRQdH",
      "project": "UQpQnbX8k8j6zcU3ZLtz",
      "version": 1
     },
     "outputId": null
    }
   },
   "outputs": [],
   "source": [
    "# load dataframe with manually assessed sentence\n",
    "dfmatch = pd.read_excel(datadir + 'dfmatch-web-labels.xlsx')"
   ]
  },
  {
   "cell_type": "code",
   "execution_count": 100,
   "id": "6c6f6129-2369-4ee9-b3b1-eaffd1e53174",
   "metadata": {
    "iooxa": {
     "id": {
      "block": "YBMMIY655FYcoZfWfkKh",
      "project": "UQpQnbX8k8j6zcU3ZLtz",
      "version": 1
     },
     "outputId": {
      "block": "DBI3R6lghKjTlpatSK8o",
      "project": "UQpQnbX8k8j6zcU3ZLtz",
      "version": 1
     }
    }
   },
   "outputs": [
    {
     "data": {
      "image/png": "[encoded data removed]",
      "text/plain": [
       "<Figure size 432x288 with 1 Axes>"
      ]
     },
     "metadata": {
      "needs_background": "light"
     },
     "output_type": "display_data"
    }
   ],
   "source": [
    "# drivers and predictors\n",
    "fig, ax = plt.subplots()\n",
    "dfmatch['driver'].value_counts().plot(kind='bar', ax=ax)\n",
    "ax.set_ylabel('Count')\n",
    "ax.set_xlabel('Drivers');"
   ]
  },
  {
   "cell_type": "code",
   "execution_count": 108,
   "id": "db1f5b58-614c-4d35-9919-b8dcc31b51bd",
   "metadata": {
    "iooxa": {
     "id": {
      "block": "ZM5UUNqMw2ig5ulyOfVA",
      "project": "UQpQnbX8k8j6zcU3ZLtz",
      "version": 1
     },
     "outputId": {
      "block": "EWKkqNqfqGRzv0rIFbKU",
      "project": "UQpQnbX8k8j6zcU3ZLtz",
      "version": 1
     }
    }
   },
   "outputs": [
    {
     "data": {
      "image/png": "[encoded data removed]",
      "text/plain": [
       "<Figure size 432x288 with 2 Axes>"
      ]
     },
     "metadata": {
      "needs_background": "light"
     },
     "output_type": "display_data"
    }
   ],
   "source": [
    "# show number of sentences identified\n",
    "dft = dfmatch[['driver', 'variable']].copy()\n",
    "dft['one'] = 1\n",
    "dft = dft.pivot_table(values='one', columns='driver', index='variable', aggfunc=np.sum, fill_value=0)\n",
    "dft = dft.replace(0, np.nan)\n",
    "fig, ax = plt.subplots()\n",
    "cax = ax.imshow(dft.values.T, vmax=50)\n",
    "ax.set_yticks(np.arange(dft.shape[1]))\n",
    "ax.set_yticklabels(dft.columns)\n",
    "ax.set_ylabel('Drivers')\n",
    "ax.set_xticks(np.arange(dft.shape[0]))\n",
    "ax.set_xticklabels(dft.index, rotation=90)\n",
    "ax.set_xlabel('Variables')\n",
    "fig.colorbar(cax, ax=ax, label='Count')\n",
    "fig.subplots_adjust(bottom=0.2)\n",
    "fig.tight_layout()\n",
    "fig.savefig(outputdir + 'rel-identified-meta.png', dpi=300)"
   ]
  },
  {
   "cell_type": "code",
   "execution_count": 102,
   "id": "383a8cb7-121f-4ebd-94fd-c29d1e8fbe82",
   "metadata": {
    "iooxa": {
     "id": {
      "block": "CWJSLh2NvRN0Bem56frt",
      "project": "UQpQnbX8k8j6zcU3ZLtz",
      "version": 1
     },
     "outputId": null
    }
   },
   "outputs": [],
   "source": [
    "# matcher for sentiments\n",
    "posVerb = ['enhance', 'increase', 'improve', 'mitigate',\n",
    "           'have significant increase', 'have significant effect',\n",
    "           'have greater effect', 'be higher', 'can make a valuable contribution']\n",
    "negVerb = ['decrease', 'reduce', 'prevent', 'be lower', \n",
    "           'have significant decrease']\n",
    "neuVerb = ['have no effect', 'have no signficant effect', 'have minimal effect', \n",
    "           'be relatively small', 'whatever', 'affect']\n",
    "posMatcher = PhraseMatcher(nlp.vocab, attr='LEMMA')\n",
    "for a in posVerb:\n",
    "    posMatcher.add(camelCase(a), [nlp(a)])\n",
    "negMatcher = PhraseMatcher(nlp.vocab, attr='LEMMA')\n",
    "for a in negVerb:\n",
    "    negMatcher.add(camelCase(a), [nlp(a)])\n",
    "neuMatcher = PhraseMatcher(nlp.vocab, attr='LEMMA')\n",
    "for a in neuVerb:\n",
    "    neuMatcher.add(camelCase(a), [nlp(a)])\n",
    "\n",
    "studyWords = ['study', 'analyzed', 'analysed', 'measured', 'hypothesize', 'determine',\n",
    "              'assessed', 'reported', 'be done', 'be conducted', 'quantify', 'compare']\n",
    "studyMatcher = PhraseMatcher(nlp.vocab, attr='LEMMA')\n",
    "studyMatcher.add('study', [nlp(a) for a in studyWords])\n",
    "studyWords2 = ['objective', 'purpose', 'study']\n",
    "studyMatcher2 = PhraseMatcher(nlp.vocab, attr='LEMMA')\n",
    "studyMatcher2.add('study', [nlp(a) for a in studyWords2])\n",
    "\n",
    "# was higher (be + modifiers), had a greater effect\n",
    "# had higher hydraulic conductivity, lower, decreasing of, improvement in"
   ]
  },
  {
   "cell_type": "code",
   "execution_count": 103,
   "id": "f0541932-8707-46f2-8163-c53dbcc85027",
   "metadata": {
    "iooxa": {
     "id": {
      "block": "0K9pIlaCS4rvIFa9NoSS",
      "project": "UQpQnbX8k8j6zcU3ZLtz",
      "version": 1
     },
     "outputId": {
      "block": "4Ap3l52l3kfvnTEYec6H",
      "project": "UQpQnbX8k8j6zcU3ZLtz",
      "version": 1
     }
    }
   },
   "outputs": [
    {
     "data": {
      "application/vnd.jupyter.widget-view+json": {
       "model_id": "382ee40db7a44ed9be4ca6a43ff45e71",
       "version_major": 2,
       "version_minor": 0
      },
      "text/plain": [
       "  0%|          | 0/3878 [00:00<?, ?it/s]"
      ]
     },
     "metadata": {},
     "output_type": "display_data"
    },
    {
     "name": "stdout",
     "output_type": "stream",
     "text": [
      "2254/3878 relationship found\n"
     ]
    }
   ],
   "source": [
    "# assessing sentiment on shortest dependency path (sdp)\n",
    "dfmatch['sdpRel'] = np.nan\n",
    "modifiers = ['less', 'conservation', 'no-', 'no', '(non-inversion)', 'non-inversion',\n",
    "             'reduced', 'minimum', 'decreasing of', 'decreasing in']\n",
    "for i, sdp in tqdm(enumerate(dfmatch['sdp']), total=dfmatch.shape[0]):\n",
    "    # identify modifier\n",
    "    a = 1\n",
    "    driverChunk = dfmatch.loc[i, 'driverChunk']\n",
    "    if pd.Series(driverChunk.split(' ')).isin(modifiers).sum() > 0:\n",
    "        a = -1\n",
    "    b = 1\n",
    "    variableChunk = dfmatch.loc[i, 'variableChunk']\n",
    "    if pd.Series(variableChunk.split(' ')).isin(modifiers).sum() > 0:\n",
    "        b = -1\n",
    "    c = 1\n",
    "    if dfmatch.loc[i, 'negation'] == True:\n",
    "        c = -1\n",
    "    if len(posMatcher(nlp(sdp))) > 0:\n",
    "        dfmatch.loc[i, 'sdpRel'] = 1 * a * b * c\n",
    "    elif len(negMatcher(nlp(sdp))) > 0:\n",
    "        dfmatch.loc[i, 'sdpRel'] = -1.0 * a * b * c\n",
    "    elif len(neuMatcher(nlp(sdp))) > 0:\n",
    "        dfmatch.loc[i, 'sdpRel'] = 0.0\n",
    "    elif len(studyMatcher(nlp(sdp))) > 0:\n",
    "        dfmatch.loc[i, 'sdpRel'] = 2.0\n",
    "    else:\n",
    "        # these lines below add quite a bit of relationships\n",
    "        if len(studyMatcher(nlp(dfmatch.loc[i, 'sentence']))) > 0:\n",
    "            dfmatch.loc[i, 'sdpRel'] = 2.0\n",
    "\n",
    "print('{:d}/{:d} relationship found'.format(\n",
    "    dfmatch['sdpRel'].notnull().sum(), dfmatch.shape[0]))\n",
    "dfmatch.sort_values('sentence').to_excel(datadir + 'dfmatch-nlp.xlsx', index=False)"
   ]
  },
  {
   "cell_type": "code",
   "execution_count": 104,
   "id": "201de109-ec1c-4183-8acf-6774bf3b76b7",
   "metadata": {
    "iooxa": {
     "id": {
      "block": "0ozKRF7lqjpDVt9GfjtZ",
      "project": "UQpQnbX8k8j6zcU3ZLtz",
      "version": 1
     },
     "outputId": {
      "block": "zCL4DsEdvKo8m0HjHmvn",
      "project": "UQpQnbX8k8j6zcU3ZLtz",
      "version": 1
     }
    }
   },
   "outputs": [
    {
     "data": {
      "image/png": "[encoded data removed]",
      "text/plain": [
       "<Figure size 576x216 with 2 Axes>"
      ]
     },
     "metadata": {
      "needs_background": "light"
     },
     "output_type": "display_data"
    }
   ],
   "source": [
    "# figure (double histogram with well identified and not well identified)\n",
    "fig, axs = plt.subplots(1, 2, sharey=True, figsize=(8, 3))\n",
    "cats = [-1, 0, 1, 2]\n",
    "colors = {1: 'tab:orange', 0: 'lightgrey', -1: 'tab:blue', 2: 'tab:green'}\n",
    "xlabs = ['negative', 'neutral', 'positive', 'study']\n",
    "isub = dfmatch['relTrue'].isin(cats)\n",
    "\n",
    "# recall\n",
    "ax = axs[0]\n",
    "ax.set_title('(a) Recall\\n(how many relevant found from total)')\n",
    "#ie = dfmatch['relationship'].isna() & dfmatch['relTrue'].isna()\n",
    "#cax = ax.bar(-2, ie.sum())\n",
    "#ax.bar(-2, dfmatch['relTrue'].isna().sum(), bottom=ie.sum(),\n",
    "#       alpha=0.5, color=cax.patches[0].get_facecolor())\n",
    "scores = []\n",
    "for cat in cats:\n",
    "    icommon = dfmatch[isub]['sdpRel'].eq(cat) & dfmatch[isub]['relTrue'].eq(cat)\n",
    "    irelevant = dfmatch[isub]['relTrue'].eq(cat)\n",
    "    scores.append(icommon.sum()/irelevant.sum())\n",
    "    cax = ax.bar(cat, icommon.sum(), color=colors[cat])\n",
    "    ax.bar(cat, irelevant.sum(),\n",
    "           alpha=0.5, color=cax.patches[0].get_facecolor())\n",
    "ax.bar([], [], color='k', alpha=0.5, label='not found')\n",
    "ax.bar([], [], color='k', alpha=1, label='found')\n",
    "leg = ax.legend()\n",
    "for lh, a in zip(leg.legendHandles, [0.5, 1]): \n",
    "    lh.set_alpha(a)\n",
    "    lh.set_color('green')\n",
    "ax.set_xticks(cats)\n",
    "ax.set_xticklabels([xlab + '\\n{:.2f}'.format(a) for xlab, a in zip(xlabs, scores)])\n",
    "ax.set_xlabel('Status')\n",
    "ax.set_ylabel('Number of relationships')\n",
    "\n",
    "ax = axs[1]\n",
    "ax.set_title('(b) Precision\\n(how many relevant among selected)')\n",
    "#ie = dfmatch['relationship'].isna() & dfmatch['relTrue'].isna()\n",
    "#cax = ax.bar(-2, ie.sum())\n",
    "#ax.bar(-2, dfmatch['relTrue'].isna().sum(), bottom=ie.sum(),\n",
    "#       alpha=0.5, color=cax.patches[0].get_facecolor())\n",
    "scores = [] \n",
    "for cat in cats:\n",
    "    icommon = dfmatch[isub]['sdpRel'].eq(cat) & dfmatch[isub]['relTrue'].eq(cat)\n",
    "    iselected = dfmatch[isub]['sdpRel'].eq(cat)\n",
    "    scores.append(icommon.sum()/iselected.sum())\n",
    "    cax = ax.bar(cat, icommon.sum(), color=colors[cat])\n",
    "    ax.bar(cat, iselected.sum(),\n",
    "           alpha=0.5, color=cax.patches[0].get_facecolor())\n",
    "ax.bar([], [], color='k', alpha=0.5, label='not relevant')\n",
    "ax.bar([], [], color='k', alpha=1, label='relevant')\n",
    "leg = ax.legend()\n",
    "for lh, a in zip(leg.legendHandles, [0.5, 1]): \n",
    "    lh.set_alpha(a)\n",
    "    lh.set_color('green')\n",
    "ax.set_xticks(cats)\n",
    "ax.set_xticklabels([xlab + '\\n{:.2f}'.format(a) for xlab, a in zip(xlabs, scores)])\n",
    "ax.set_xlabel('Status')\n",
    "fig.tight_layout()\n",
    "fig.savefig(outputdir + 'rel-score-bar-meta.png', dpi=500)"
   ]
  },
  {
   "cell_type": "code",
   "execution_count": 105,
   "id": "fc839546-34fc-4fb3-988e-a1f3bc2bbc43",
   "metadata": {
    "iooxa": {
     "id": {
      "block": "VeFWM24ejmudJ01xk4Hh",
      "project": "UQpQnbX8k8j6zcU3ZLtz",
      "version": 1
     },
     "outputId": {
      "block": "f1fYQ4DKvH65SmuaMwmr",
      "project": "UQpQnbX8k8j6zcU3ZLtz",
      "version": 1
     }
    }
   },
   "outputs": [
    {
     "data": {
      "image/png": "[encoded data removed]",
      "text/plain": [
       "<Figure size 720x360 with 2 Axes>"
      ]
     },
     "metadata": {
      "needs_background": "light"
     },
     "output_type": "display_data"
    }
   ],
   "source": [
    "# figure with matrix relationship between drivers and properties\n",
    "\n",
    "ie = dfmatch['relTrue'].notnull()  # all not NaN relationships\n",
    "\n",
    "df = dfmatch[ie].copy().replace(-2, np.nan)\n",
    "drivers = df['driver'].unique()\n",
    "variables = df['variable'].unique()\n",
    "colors = {1: 'tab:orange', 0: 'lightgrey', -1: 'tab:blue', 2: 'tab:green'}\n",
    "r = 0.3 # could make the radius varies with the number of relationships found\n",
    "\n",
    "# create legend (for sizes)\n",
    "\n",
    "fig, axs = plt.subplots(1, 2, figsize=(10, 5), sharex=True, sharey=True)\n",
    "\n",
    "ax = axs[0]\n",
    "ax.set_title('(a) Manually labelled')\n",
    "for i, driver in enumerate(drivers):\n",
    "    for j, variable in enumerate(variables):\n",
    "        ie = df['driver'].eq(driver) & df['variable'].eq(variable)\n",
    "        s = df[ie]['relTrue'].value_counts()\n",
    "        a = s.sum()\n",
    "        sdict = (s/a).to_dict()  # in proportion\n",
    "        if a < 5:\n",
    "            r = 0.2\n",
    "        elif a < 10:\n",
    "            r = 0.3\n",
    "        else:\n",
    "            r = 0.5\n",
    "        theta1 = 0\n",
    "        for key in [1, 0, -1, 2]:\n",
    "            if key in sdict:\n",
    "                val = sdict[key]\n",
    "                theta2 = theta1 + val*360\n",
    "                ax.add_patch(mpatches.Wedge((j, i), r, theta1, theta2, ec='none',\n",
    "                                            color=colors[key]))\n",
    "                theta1 = theta2\n",
    "ax.set_yticks(np.arange(len(drivers)))\n",
    "ax.set_yticklabels(drivers)\n",
    "ax.set_ylabel('Drivers')\n",
    "ax.set_xticks(np.arange(len(variables)))\n",
    "ax.set_xticklabels(variables, rotation=90)\n",
    "ax.set_xlabel('Variables')\n",
    "ax.set_aspect('equal')\n",
    "\n",
    "ax = axs[1]\n",
    "ax.set_title('(b) NLP recovered')\n",
    "for i, driver in enumerate(drivers):\n",
    "    for j, variable in enumerate(variables):\n",
    "        ie = df['driver'].eq(driver) & df['variable'].eq(variable)\n",
    "        s = df[ie]['sdpRel'].value_counts()\n",
    "        a = s.sum()\n",
    "        sdict = (s/a).to_dict()  # in proportion\n",
    "        if a < 5:\n",
    "            r = 0.2\n",
    "        elif a < 10:\n",
    "            r = 0.3\n",
    "        else:\n",
    "            r = 0.5\n",
    "        theta1 = 0\n",
    "        for key in [1, 0, -1, 2]:\n",
    "            if key in sdict:\n",
    "                val = sdict[key]\n",
    "                theta2 = theta1 + val*360\n",
    "                ax.add_patch(mpatches.Wedge((j, i), r, theta1, theta2, ec='none',\n",
    "                                            color=colors[key]))\n",
    "                theta1 = theta2\n",
    "ax.set_xticks(np.arange(len(variables)))\n",
    "ax.set_xticklabels(variables, rotation=90)\n",
    "ax.set_xlabel('Variables')\n",
    "\n",
    "# add legend\n",
    "msizes = [0.2, 0.3, 0.5]\n",
    "labels = ['1-4', '5-9', '>10']\n",
    "markers = []\n",
    "for i, size in enumerate(msizes):\n",
    "    markers.append(plt.scatter([],[], s=size**2*1000, label=labels[i], color='k', alpha=0.5))\n",
    "ax.add_artist(plt.legend(handles=markers, bbox_to_anchor=(1, 1), title='Nb statements', fontsize=12))\n",
    "\n",
    "markers = []\n",
    "markers.append(ax.add_patch(mpatches.Wedge((0,0), 0, 0, 360, color=colors[1], label='positive')))\n",
    "markers.append(ax.add_patch(mpatches.Wedge((0,0), 0, 0, 360, color=colors[0], label='neutral')))\n",
    "markers.append(ax.add_patch(mpatches.Wedge((0,0), 0, 0, 360, color=colors[-1], label='negative')))\n",
    "markers.append(ax.add_patch(mpatches.Wedge((0,0), 0, 0, 360, color=colors[2], label='study')))\n",
    "ax.legend(handles=markers, bbox_to_anchor=(1, 0.1), title='Relationship', fontsize=12)\n",
    "\n",
    "ax.set_xlim([-0.5, len(variables)-0.5])\n",
    "ax.set_ylim([-0.5, len(drivers)-0.5])\n",
    "ax.set_aspect('equal')\n",
    "\n",
    "fig.tight_layout()\n",
    "fig.savefig(outputdir + 'rel-bubbles-meta.png', dpi=500)"
   ]
  },
  {
   "cell_type": "code",
   "execution_count": 106,
   "id": "525c374a-381e-4d42-951d-122d89e3a5e9",
   "metadata": {
    "iooxa": {
     "id": {
      "block": "eOFsHOJe3jIHpQSy8Lwy",
      "project": "UQpQnbX8k8j6zcU3ZLtz",
      "version": 1
     },
     "outputId": {
      "block": "OTIuDoIIj3ma0lPeHQ4L",
      "project": "UQpQnbX8k8j6zcU3ZLtz",
      "version": 1
     }
    }
   },
   "outputs": [
    {
     "name": "stdout",
     "output_type": "stream",
     "text": [
      "on selection of relevant relationships:\n",
      "recall: 0.74\n",
      "precision: 0.04\n",
      "f1 score: 0.08\n",
      "correctly assigned: 83/125 (66%)\n"
     ]
    }
   ],
   "source": [
    "# scoring\n",
    "\n",
    "# task 1: identification of relationships\n",
    "# we would need to manually extract all relationship from abstract for this\n",
    "\n",
    "# task 2: sentiment of relationships (match (+1/-1) or not (0))\n",
    "#col = 'relationship'\n",
    "col = 'sdpRel'\n",
    "n = dfmatch.shape[0]\n",
    "tp = (dfmatch[col].notnull() & dfmatch['relTrue'].notnull()).sum()\n",
    "tn = (dfmatch[col].isna() & dfmatch['relTrue'].isna()).sum()\n",
    "fp = (dfmatch[col].notnull() & dfmatch['relTrue'].isna()).sum()\n",
    "fn = (dfmatch[col].isna() & dfmatch['relTrue'].notnull()).sum()\n",
    "recall = tp / (tp + fn)\n",
    "precision = tp / (tp + fp)\n",
    "f1 = 2 * (recall * precision) / (recall + precision)\n",
    "print('on selection of relevant relationships:')\n",
    "print('recall: {:.2f}'.format(recall))\n",
    "print('precision: {:.2f}'.format(precision))\n",
    "print('f1 score: {:.2f}'.format(f1))\n",
    "\n",
    "# task 3: correct assignement\n",
    "ie = dfmatch['relTrue'].notnull() & dfmatch['relTrue'].ne(-2)\n",
    "match = (dfmatch[ie][col] == dfmatch[ie]['relTrue']).sum()\n",
    "print('correctly assigned: {:d}/{:d} ({:.0f}%)'.format(\n",
    "    match, np.sum(ie), match/np.sum(ie)*100))"
   ]
  },
  {
   "cell_type": "code",
   "execution_count": 107,
   "id": "882802c9-0e11-46c0-94a4-8eb3b0c8b1aa",
   "metadata": {
    "iooxa": {
     "id": {
      "block": "EO0zGea8GG2HkEtwGj44",
      "project": "UQpQnbX8k8j6zcU3ZLtz",
      "version": 1
     },
     "outputId": {
      "block": "Tl7mVegbSNnReJ4gEYS9",
      "project": "UQpQnbX8k8j6zcU3ZLtz",
      "version": 1
     }
    }
   },
   "outputs": [
    {
     "data": {
      "text/html": [
       "<div>\n",
       "<style scoped>\n",
       "    .dataframe tbody tr th:only-of-type {\n",
       "        vertical-align: middle;\n",
       "    }\n",
       "\n",
       "    .dataframe tbody tr th {\n",
       "        vertical-align: top;\n",
       "    }\n",
       "\n",
       "    .dataframe thead th {\n",
       "        text-align: right;\n",
       "    }\n",
       "</style>\n",
       "<table border=\"1\" class=\"dataframe\">\n",
       "  <thead>\n",
       "    <tr style=\"text-align: right;\">\n",
       "      <th></th>\n",
       "      <th>driver</th>\n",
       "      <th>variable</th>\n",
       "      <th>sentence</th>\n",
       "      <th>driverVerb</th>\n",
       "      <th>variableVerb</th>\n",
       "      <th>negation</th>\n",
       "      <th>sdp</th>\n",
       "      <th>sdpRel</th>\n",
       "      <th>relTrue</th>\n",
       "    </tr>\n",
       "  </thead>\n",
       "  <tbody>\n",
       "    <tr>\n",
       "      <th>0</th>\n",
       "      <td>fertilizer</td>\n",
       "      <td>organicCarbon</td>\n",
       "      <td>(3) Long-lasting application of organic amendm...</td>\n",
       "      <td>increased</td>\n",
       "      <td>increased</td>\n",
       "      <td>False</td>\n",
       "      <td>chemical fertilizer treatments, versus, %, inc...</td>\n",
       "      <td>1.0</td>\n",
       "      <td>NaN</td>\n",
       "    </tr>\n",
       "    <tr>\n",
       "      <th>2</th>\n",
       "      <td>residue</td>\n",
       "      <td>bulkDensity</td>\n",
       "      <td>(4) Regular addition of organic residues, part...</td>\n",
       "      <td>increased</td>\n",
       "      <td>decreasing</td>\n",
       "      <td>False</td>\n",
       "      <td>organic residues, of, addition, by, improving,...</td>\n",
       "      <td>1.0</td>\n",
       "      <td>-1.0</td>\n",
       "    </tr>\n",
       "    <tr>\n",
       "      <th>8</th>\n",
       "      <td>tillage</td>\n",
       "      <td>bulkDensity</td>\n",
       "      <td>(non-inversion) tillage  increased soil bulk d...</td>\n",
       "      <td>increased</td>\n",
       "      <td>increased</td>\n",
       "      <td>False</td>\n",
       "      <td>conventional tillage, with, comparison, in, la...</td>\n",
       "      <td>1.0</td>\n",
       "      <td>NaN</td>\n",
       "    </tr>\n",
       "    <tr>\n",
       "      <th>15</th>\n",
       "      <td>biochar</td>\n",
       "      <td>microbialBiomass</td>\n",
       "      <td>-N. The application of biochar significantly i...</td>\n",
       "      <td>increased</td>\n",
       "      <td>increased</td>\n",
       "      <td>False</td>\n",
       "      <td>biochar, of, application, increased soluble, m...</td>\n",
       "      <td>1.0</td>\n",
       "      <td>NaN</td>\n",
       "    </tr>\n",
       "    <tr>\n",
       "      <th>18</th>\n",
       "      <td>manure</td>\n",
       "      <td>yield</td>\n",
       "      <td>A 200 to 300% increase in wheat yields and N u...</td>\n",
       "      <td>depending</td>\n",
       "      <td>obtained</td>\n",
       "      <td>False</td>\n",
       "      <td>green manure species, on, depending, obtained,...</td>\n",
       "      <td>1.0</td>\n",
       "      <td>NaN</td>\n",
       "    </tr>\n",
       "    <tr>\n",
       "      <th>...</th>\n",
       "      <td>...</td>\n",
       "      <td>...</td>\n",
       "      <td>...</td>\n",
       "      <td>...</td>\n",
       "      <td>...</td>\n",
       "      <td>...</td>\n",
       "      <td>...</td>\n",
       "      <td>...</td>\n",
       "      <td>...</td>\n",
       "    </tr>\n",
       "    <tr>\n",
       "      <th>3869</th>\n",
       "      <td>tillage</td>\n",
       "      <td>aggregation</td>\n",
       "      <td>soil organic matter  content, mineralization, ...</td>\n",
       "      <td>decreased</td>\n",
       "      <td>NaN</td>\n",
       "      <td>False</td>\n",
       "      <td>tillage, of, result, as, decreased, soil, cont...</td>\n",
       "      <td>-1.0</td>\n",
       "      <td>NaN</td>\n",
       "    </tr>\n",
       "    <tr>\n",
       "      <th>3870</th>\n",
       "      <td>tillage</td>\n",
       "      <td>earthwormActivity</td>\n",
       "      <td>soil organic matter  content, mineralization, ...</td>\n",
       "      <td>decreased</td>\n",
       "      <td>decreased</td>\n",
       "      <td>False</td>\n",
       "      <td>tillage, of, result, as, decreased, soil, cont...</td>\n",
       "      <td>-1.0</td>\n",
       "      <td>NaN</td>\n",
       "    </tr>\n",
       "    <tr>\n",
       "      <th>3873</th>\n",
       "      <td>tillage</td>\n",
       "      <td>runoff</td>\n",
       "      <td>subsoiling with mulch  reduced soil loss by mo...</td>\n",
       "      <td>compared</td>\n",
       "      <td>became</td>\n",
       "      <td>False</td>\n",
       "      <td>conventional tillage, to, compared, subsoiling...</td>\n",
       "      <td>2.0</td>\n",
       "      <td>NaN</td>\n",
       "    </tr>\n",
       "    <tr>\n",
       "      <th>3874</th>\n",
       "      <td>biochar</td>\n",
       "      <td>yield</td>\n",
       "      <td>the wood biochar type used in this study had n...</td>\n",
       "      <td>had</td>\n",
       "      <td>had</td>\n",
       "      <td>False</td>\n",
       "      <td>the wood biochar type, had, impact, on, aerobi...</td>\n",
       "      <td>1.0</td>\n",
       "      <td>NaN</td>\n",
       "    </tr>\n",
       "    <tr>\n",
       "      <th>3877</th>\n",
       "      <td>biochar</td>\n",
       "      <td>aggregateStability</td>\n",
       "      <td>wastewater sludge biochar  application signifi...</td>\n",
       "      <td>increased</td>\n",
       "      <td>increased</td>\n",
       "      <td>False</td>\n",
       "      <td>wastewater sludge biochar  application, increa...</td>\n",
       "      <td>1.0</td>\n",
       "      <td>NaN</td>\n",
       "    </tr>\n",
       "  </tbody>\n",
       "</table>\n",
       "<p>2204 rows × 9 columns</p>\n",
       "</div>"
      ],
      "text/plain": [
       "          driver            variable  \\\n",
       "0     fertilizer       organicCarbon   \n",
       "2        residue         bulkDensity   \n",
       "8        tillage         bulkDensity   \n",
       "15       biochar    microbialBiomass   \n",
       "18        manure               yield   \n",
       "...          ...                 ...   \n",
       "3869     tillage         aggregation   \n",
       "3870     tillage   earthwormActivity   \n",
       "3873     tillage              runoff   \n",
       "3874     biochar               yield   \n",
       "3877     biochar  aggregateStability   \n",
       "\n",
       "                                               sentence driverVerb  \\\n",
       "0     (3) Long-lasting application of organic amendm...  increased   \n",
       "2     (4) Regular addition of organic residues, part...  increased   \n",
       "8     (non-inversion) tillage  increased soil bulk d...  increased   \n",
       "15    -N. The application of biochar significantly i...  increased   \n",
       "18    A 200 to 300% increase in wheat yields and N u...  depending   \n",
       "...                                                 ...        ...   \n",
       "3869  soil organic matter  content, mineralization, ...  decreased   \n",
       "3870  soil organic matter  content, mineralization, ...  decreased   \n",
       "3873  subsoiling with mulch  reduced soil loss by mo...   compared   \n",
       "3874  the wood biochar type used in this study had n...        had   \n",
       "3877  wastewater sludge biochar  application signifi...  increased   \n",
       "\n",
       "     variableVerb  negation  \\\n",
       "0       increased     False   \n",
       "2      decreasing     False   \n",
       "8       increased     False   \n",
       "15      increased     False   \n",
       "18       obtained     False   \n",
       "...           ...       ...   \n",
       "3869          NaN     False   \n",
       "3870    decreased     False   \n",
       "3873       became     False   \n",
       "3874          had     False   \n",
       "3877    increased     False   \n",
       "\n",
       "                                                    sdp  sdpRel  relTrue  \n",
       "0     chemical fertilizer treatments, versus, %, inc...     1.0      NaN  \n",
       "2     organic residues, of, addition, by, improving,...     1.0     -1.0  \n",
       "8     conventional tillage, with, comparison, in, la...     1.0      NaN  \n",
       "15    biochar, of, application, increased soluble, m...     1.0      NaN  \n",
       "18    green manure species, on, depending, obtained,...     1.0      NaN  \n",
       "...                                                 ...     ...      ...  \n",
       "3869  tillage, of, result, as, decreased, soil, cont...    -1.0      NaN  \n",
       "3870  tillage, of, result, as, decreased, soil, cont...    -1.0      NaN  \n",
       "3873  conventional tillage, to, compared, subsoiling...     2.0      NaN  \n",
       "3874  the wood biochar type, had, impact, on, aerobi...     1.0      NaN  \n",
       "3877  wastewater sludge biochar  application, increa...     1.0      NaN  \n",
       "\n",
       "[2204 rows x 9 columns]"
      ]
     },
     "execution_count": 107,
     "metadata": {},
     "output_type": "execute_result"
    }
   ],
   "source": [
    "# show mistakes\n",
    "ie1 = dfmatch['relTrue'].isna() & dfmatch['sdpRel'].isna()\n",
    "ie2 = dfmatch['relTrue'] != dfmatch['sdpRel']\n",
    "ie2[ie1] = False  # nan != nan always true\n",
    "dfmatch[ie2][['driver', 'variable', 'sentence', 'driverVerb', 'variableVerb', 'negation', 'sdp', 'sdpRel', 'relTrue']]"
   ]
  }
 ],
 "metadata": {
  "iooxa": {
   "id": {
    "block": "8OZTgJ1i2E57go8fQ3Ch",
    "project": "UQpQnbX8k8j6zcU3ZLtz",
    "version": 1
   }
  },
  "kernelspec": {
   "display_name": "Python 3",
   "language": "python",
   "name": "python3"
  },
  "language_info": {
   "codemirror_mode": {
    "name": "ipython",
    "version": 3
   },
   "file_extension": ".py",
   "mimetype": "text/x-python",
   "name": "python",
   "nbconvert_exporter": "python",
   "pygments_lexer": "ipython3",
   "version": "3.8.9"
  },
  "toc-autonumbering": true
 },
 "nbformat": 4,
 "nbformat_minor": 5
}
